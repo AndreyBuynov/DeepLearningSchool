{
 "cells": [
  {
   "cell_type": "markdown",
   "metadata": {
    "id": "Ot3c4fjZwC4T"
   },
   "source": [
    "<img src=\"https://s8.hostingkartinok.com/uploads/images/2018/08/308b49fcfbc619d629fe4604bceb67ac.jpg\" width=500, height=450>\n",
    "<h3 style=\"text-align: center;\"><b>Физтех-Школа Прикладной математики и информатики (ФПМИ) МФТИ</b></h3>"
   ]
  },
  {
   "cell_type": "markdown",
   "metadata": {
    "id": "P2JdzEXmwRU5"
   },
   "source": [
    "---"
   ]
  },
  {
   "cell_type": "markdown",
   "metadata": {
    "id": "eYtJxkhKpYK2"
   },
   "source": [
    "# Embeddings\n",
    "\n",
    "Привет! В этом домашнем задании мы с помощью эмбеддингов решим задачу семантической классификации твитов.\n",
    "\n",
    "Для этого мы воспользуемся предобученными эмбеддингами word2vec."
   ]
  },
  {
   "cell_type": "markdown",
   "metadata": {
    "id": "jBOdoFS8AdpP"
   },
   "source": [
    "Для начала скачаем датасет для семантической классификации твитов:"
   ]
  },
  {
   "cell_type": "code",
   "execution_count": 1,
   "metadata": {
    "colab": {
     "base_uri": "https://localhost:8080/"
    },
    "id": "wXjhtsfF_gBK",
    "outputId": "a5f35120-57d1-44a4-c496-af9e8b6a89e4"
   },
   "outputs": [
    {
     "name": "stdout",
     "output_type": "stream",
     "text": [
      "Downloading...\n",
      "From: https://drive.google.com/uc?id=1eE1FiUkXkcbw0McId4i7qY-L8hH-_Qph\n",
      "To: /content/archive.zip\n",
      "84.9MB [00:01, 83.6MB/s]\n",
      "Archive:  archive.zip\n",
      "  inflating: training.1600000.processed.noemoticon.csv  \n"
     ]
    }
   ],
   "source": [
    "!gdown https://drive.google.com/uc?id=1eE1FiUkXkcbw0McId4i7qY-L8hH-_Qph&export=download\n",
    "!unzip archive.zip"
   ]
  },
  {
   "cell_type": "markdown",
   "metadata": {
    "id": "Sh6wW-K53Mle"
   },
   "source": [
    "Импортируем нужные библиотеки:"
   ]
  },
  {
   "cell_type": "code",
   "execution_count": 2,
   "metadata": {
    "id": "A2Y5CHRm6NFe"
   },
   "outputs": [],
   "source": [
    "import math\n",
    "import random\n",
    "import string\n",
    "\n",
    "import numpy as np\n",
    "import pandas as pd\n",
    "import seaborn as sns\n",
    "\n",
    "import torch\n",
    "import nltk\n",
    "import gensim\n",
    "import gensim.downloader as api"
   ]
  },
  {
   "cell_type": "code",
   "execution_count": 3,
   "metadata": {
    "id": "73Lb0wbESrgQ"
   },
   "outputs": [],
   "source": [
    "random.seed(42)\n",
    "np.random.seed(42)\n",
    "torch.random.manual_seed(42)\n",
    "torch.cuda.random.manual_seed(42)\n",
    "torch.cuda.random.manual_seed_all(42)\n",
    "\n",
    "device = \"cuda\" if torch.cuda.is_available() else \"cpu\""
   ]
  },
  {
   "cell_type": "code",
   "execution_count": 4,
   "metadata": {
    "id": "L_Wv-4bu83Fl"
   },
   "outputs": [],
   "source": [
    "data = pd.read_csv(\"training.1600000.processed.noemoticon.csv\", encoding=\"latin\", header=None, names=[\"emotion\", \"id\", \"date\", \"flag\", \"user\", \"text\"])"
   ]
  },
  {
   "cell_type": "markdown",
   "metadata": {
    "id": "RY1pvYDS3Yuj"
   },
   "source": [
    "Посмотрим на данные:"
   ]
  },
  {
   "cell_type": "code",
   "execution_count": 5,
   "metadata": {
    "colab": {
     "base_uri": "https://localhost:8080/",
     "height": 204
    },
    "id": "jST2tjgjCTWD",
    "outputId": "6f149a7a-031a-4bc7-cf03-25a90fcdebab"
   },
   "outputs": [
    {
     "data": {
      "text/html": [
       "<div>\n",
       "<style scoped>\n",
       "    .dataframe tbody tr th:only-of-type {\n",
       "        vertical-align: middle;\n",
       "    }\n",
       "\n",
       "    .dataframe tbody tr th {\n",
       "        vertical-align: top;\n",
       "    }\n",
       "\n",
       "    .dataframe thead th {\n",
       "        text-align: right;\n",
       "    }\n",
       "</style>\n",
       "<table border=\"1\" class=\"dataframe\">\n",
       "  <thead>\n",
       "    <tr style=\"text-align: right;\">\n",
       "      <th></th>\n",
       "      <th>emotion</th>\n",
       "      <th>id</th>\n",
       "      <th>date</th>\n",
       "      <th>flag</th>\n",
       "      <th>user</th>\n",
       "      <th>text</th>\n",
       "    </tr>\n",
       "  </thead>\n",
       "  <tbody>\n",
       "    <tr>\n",
       "      <th>0</th>\n",
       "      <td>0</td>\n",
       "      <td>1467810369</td>\n",
       "      <td>Mon Apr 06 22:19:45 PDT 2009</td>\n",
       "      <td>NO_QUERY</td>\n",
       "      <td>_TheSpecialOne_</td>\n",
       "      <td>@switchfoot http://twitpic.com/2y1zl - Awww, t...</td>\n",
       "    </tr>\n",
       "    <tr>\n",
       "      <th>1</th>\n",
       "      <td>0</td>\n",
       "      <td>1467810672</td>\n",
       "      <td>Mon Apr 06 22:19:49 PDT 2009</td>\n",
       "      <td>NO_QUERY</td>\n",
       "      <td>scotthamilton</td>\n",
       "      <td>is upset that he can't update his Facebook by ...</td>\n",
       "    </tr>\n",
       "    <tr>\n",
       "      <th>2</th>\n",
       "      <td>0</td>\n",
       "      <td>1467810917</td>\n",
       "      <td>Mon Apr 06 22:19:53 PDT 2009</td>\n",
       "      <td>NO_QUERY</td>\n",
       "      <td>mattycus</td>\n",
       "      <td>@Kenichan I dived many times for the ball. Man...</td>\n",
       "    </tr>\n",
       "    <tr>\n",
       "      <th>3</th>\n",
       "      <td>0</td>\n",
       "      <td>1467811184</td>\n",
       "      <td>Mon Apr 06 22:19:57 PDT 2009</td>\n",
       "      <td>NO_QUERY</td>\n",
       "      <td>ElleCTF</td>\n",
       "      <td>my whole body feels itchy and like its on fire</td>\n",
       "    </tr>\n",
       "    <tr>\n",
       "      <th>4</th>\n",
       "      <td>0</td>\n",
       "      <td>1467811193</td>\n",
       "      <td>Mon Apr 06 22:19:57 PDT 2009</td>\n",
       "      <td>NO_QUERY</td>\n",
       "      <td>Karoli</td>\n",
       "      <td>@nationwideclass no, it's not behaving at all....</td>\n",
       "    </tr>\n",
       "  </tbody>\n",
       "</table>\n",
       "</div>"
      ],
      "text/plain": [
       "   emotion  ...                                               text\n",
       "0        0  ...  @switchfoot http://twitpic.com/2y1zl - Awww, t...\n",
       "1        0  ...  is upset that he can't update his Facebook by ...\n",
       "2        0  ...  @Kenichan I dived many times for the ball. Man...\n",
       "3        0  ...    my whole body feels itchy and like its on fire \n",
       "4        0  ...  @nationwideclass no, it's not behaving at all....\n",
       "\n",
       "[5 rows x 6 columns]"
      ]
     },
     "execution_count": 5,
     "metadata": {
      "tags": []
     },
     "output_type": "execute_result"
    }
   ],
   "source": [
    "data.head()"
   ]
  },
  {
   "cell_type": "markdown",
   "metadata": {
    "id": "OhbR5JJyA2VW"
   },
   "source": [
    "Выведем несколько примеров твитов, чтобы понимать, с чем мы имеем дело:"
   ]
  },
  {
   "cell_type": "code",
   "execution_count": 6,
   "metadata": {
    "colab": {
     "base_uri": "https://localhost:8080/"
    },
    "id": "kCBwe0wR83C2",
    "outputId": "a172b576-d8aa-4486-a325-dbb8cd89d371"
   },
   "outputs": [
    {
     "name": "stdout",
     "output_type": "stream",
     "text": [
      "@chrishasboobs AHHH I HOPE YOUR OK!!! \n",
      "@misstoriblack cool , i have no tweet apps  for my razr 2\n",
      "@TiannaChaos i know  just family drama. its lame.hey next time u hang out with kim n u guys like have a sleepover or whatever, ill call u\n",
      "School email won't open  and I have geography stuff on there to revise! *Stupid School* :'(\n",
      "upper airways problem \n",
      "Going to miss Pastor's sermon on Faith... \n",
      "on lunch....dj should come eat with me \n",
      "@piginthepoke oh why are you feeling like that? \n",
      "gahh noo!peyton needs to live!this is horrible \n",
      "@mrstessyman thank you glad you like it! There is a product review bit on the site  Enjoy knitting it!\n"
     ]
    }
   ],
   "source": [
    "examples = data[\"text\"].sample(10)\n",
    "print(\"\\n\".join(examples))"
   ]
  },
  {
   "cell_type": "markdown",
   "metadata": {
    "id": "GvcYW8aX3mKt"
   },
   "source": [
    "Как вилим, тексты твитов очень \"грязные\". Нужно предобработать датасет, прежде чем строить для него модель классификации.\n",
    "\n",
    "Чтобы сравнивать различные методы обработки текста/модели/прочее, разделим датасет на dev(для обучения модели) и test(для получения качества модели)."
   ]
  },
  {
   "cell_type": "code",
   "execution_count": 7,
   "metadata": {
    "id": "f8hUK-jnQg6O"
   },
   "outputs": [],
   "source": [
    "indexes = np.arange(data.shape[0])\n",
    "np.random.shuffle(indexes)\n",
    "dev_size = math.ceil(data.shape[0] * 0.8)\n",
    "\n",
    "dev_indexes = indexes[:dev_size]\n",
    "test_indexes = indexes[dev_size:]\n",
    "\n",
    "dev_data = data.iloc[dev_indexes]\n",
    "test_data = data.iloc[test_indexes]\n",
    "\n",
    "dev_data.reset_index(drop=True, inplace=True)\n",
    "test_data.reset_index(drop=True, inplace=True)"
   ]
  },
  {
   "cell_type": "markdown",
   "metadata": {
    "id": "6ivcpeFoCnZA"
   },
   "source": [
    "## Обработка текста"
   ]
  },
  {
   "cell_type": "markdown",
   "metadata": {
    "id": "Df4nca285Dar"
   },
   "source": [
    "Токенизируем текст, избавимся от знаков пунктуации и выкинем все слова, состоящие менее чем из 4 букв:"
   ]
  },
  {
   "cell_type": "code",
   "execution_count": 8,
   "metadata": {
    "colab": {
     "base_uri": "https://localhost:8080/"
    },
    "id": "nsNHNDES9ZVF",
    "outputId": "90c045e3-ceb4-4dad-b97c-c0f85d5fd81e"
   },
   "outputs": [
    {
     "name": "stdout",
     "output_type": "stream",
     "text": [
      "@ claire_nelson i ' m on the north devon coast the next few weeks will be down in devon again in may sometime i hope though !\n"
     ]
    }
   ],
   "source": [
    "tokenizer = nltk.WordPunctTokenizer()\n",
    "line = tokenizer.tokenize(dev_data[\"text\"][0].lower())\n",
    "print(\" \".join(line))"
   ]
  },
  {
   "cell_type": "code",
   "execution_count": 9,
   "metadata": {
    "colab": {
     "base_uri": "https://localhost:8080/"
    },
    "id": "GcBS_u_hTuxp",
    "outputId": "f0b41bfa-b8a5-4647-a568-a5e92cc1860b"
   },
   "outputs": [
    {
     "name": "stdout",
     "output_type": "stream",
     "text": [
      "north devon coast next weeks will down devon again sometime hope though\n"
     ]
    }
   ],
   "source": [
    "filtered_line = [w for w in line if all(c not in string.punctuation for c in w) and len(w) > 3]\n",
    "print(\" \".join(filtered_line))"
   ]
  },
  {
   "cell_type": "markdown",
   "metadata": {
    "id": "cuFmlXkC6E7X"
   },
   "source": [
    "Загрузим предобученную модель эмбеддингов. \n",
    "\n",
    "Если хотите, можно попробовать другую. Полный список можно найти здесь: https://github.com/RaRe-Technologies/gensim-data.\n",
    "\n",
    "Данная модель выдает эмбеддинги для **слов**. Строить по эмбеддингам слов эмбеддинги предложений мы будем ниже."
   ]
  },
  {
   "cell_type": "code",
   "execution_count": 10,
   "metadata": {
    "colab": {
     "base_uri": "https://localhost:8080/"
    },
    "id": "cACJpje2T5bc",
    "outputId": "319cf93f-e2ec-4b79-c452-45b4bea2d4b8"
   },
   "outputs": [
    {
     "name": "stdout",
     "output_type": "stream",
     "text": [
      "[=================================================-] 98.9% 1644.2/1662.8MB downloaded\n"
     ]
    }
   ],
   "source": [
    "word2vec = api.load(\"word2vec-google-news-300\")"
   ]
  },
  {
   "cell_type": "code",
   "execution_count": 11,
   "metadata": {
    "colab": {
     "base_uri": "https://localhost:8080/"
    },
    "id": "NafmYHrkT5YD",
    "outputId": "8db5154f-1858-4943-a9fc-26917ebf5289"
   },
   "outputs": [
    {
     "name": "stdout",
     "output_type": "stream",
     "text": [
      "(300,)\n"
     ]
    }
   ],
   "source": [
    "emb_line = [word2vec.get_vector(w) for w in filtered_line if w in word2vec]\n",
    "print(sum(emb_line).shape)"
   ]
  },
  {
   "cell_type": "markdown",
   "metadata": {
    "id": "LTS6LCkd6_E7"
   },
   "source": [
    "Нормализуем эмбеддинги, прежде чем обучать на них сеть. \n",
    "(наверное, вы помните, что нейронные сети гораздо лучше обучаются на нормализованных данных)"
   ]
  },
  {
   "cell_type": "code",
   "execution_count": 12,
   "metadata": {
    "colab": {
     "base_uri": "https://localhost:8080/"
    },
    "id": "3PyLTZ6xf3Oq",
    "outputId": "a118e956-7f7a-4d14-ec13-e73da512799a"
   },
   "outputs": [
    {
     "name": "stdout",
     "output_type": "stream",
     "text": [
      "(300,)\n",
      "[False, False, False, False, False, False, False, False, False, False, False, False]\n"
     ]
    }
   ],
   "source": [
    "mean = np.mean(word2vec.vectors, 0)\n",
    "std = np.std(word2vec.vectors, 0)\n",
    "norm_emb_line = [(word2vec.get_vector(w) - mean) / std for w in filtered_line if w in word2vec and len(w) > 3]\n",
    "print(sum(norm_emb_line).shape)\n",
    "print([all(norm_emb_line[i] == emb_line[i]) for i in range(len(emb_line))])"
   ]
  },
  {
   "cell_type": "markdown",
   "metadata": {
    "id": "q7vm6Ppd7Ubw"
   },
   "source": [
    "Сделаем датасет, который будет по запросу возвращать подготовленные данные."
   ]
  },
  {
   "cell_type": "code",
   "execution_count": 13,
   "metadata": {
    "id": "b4eZajF7pZ1X"
   },
   "outputs": [],
   "source": [
    "from torch.utils.data import Dataset, random_split\n",
    "\n",
    "\n",
    "class TwitterDataset(Dataset):\n",
    "    def __init__(self, data: pd.DataFrame, feature_column: str, target_column: str, word2vec: gensim.models.Word2Vec):\n",
    "        self.tokenizer = nltk.WordPunctTokenizer()\n",
    "        \n",
    "        self.data = data\n",
    "\n",
    "        self.feature_column = feature_column\n",
    "        self.target_column = target_column\n",
    "\n",
    "        self.word2vec = word2vec\n",
    "\n",
    "        self.label2num = lambda label: 0 if label == 0 else 1\n",
    "        self.mean = np.mean(word2vec.vectors, axis=0)\n",
    "        self.std = np.std(word2vec.vectors, axis=0)\n",
    "\n",
    "    def __getitem__(self, item):\n",
    "        text = self.data[self.feature_column][item]\n",
    "        label = self.label2num(self.data[self.target_column][item])\n",
    "\n",
    "        tokens = self.get_tokens_(text)\n",
    "        embeddings = self.get_embeddings_(tokens)\n",
    "\n",
    "        return {\"feature\": embeddings, \"target\": label}\n",
    "\n",
    "    def get_tokens_(self, text):\n",
    "        # Получи все токены из текста и профильтруй их\n",
    "        tokens = self.tokenizer.tokenize(text.lower())\n",
    "        tokens = [w for w in tokens if all(c not in string.punctuation for c in w) and len(w) > 3]\n",
    "        return tokens\n",
    "\n",
    "    def get_embeddings_(self, tokens):\n",
    "        #embeddings = # Получи эмбеддинги слов и усредни их\n",
    "        embeddings = [(self.word2vec.get_vector(w) - self.mean) / self.std for w in tokens if w in self.word2vec and len(w) > 3]\n",
    "\n",
    "        if len(embeddings) == 0:\n",
    "            embeddings = np.zeros((1, self.word2vec.vector_size))\n",
    "        else:\n",
    "            embeddings = np.array(embeddings)\n",
    "            if len(embeddings.shape) == 1:\n",
    "                embeddings = embeddings.reshape(-1, 1)\n",
    "\n",
    "        return embeddings\n",
    "\n",
    "    def __len__(self):\n",
    "        return self.data.shape[0]"
   ]
  },
  {
   "cell_type": "code",
   "execution_count": 14,
   "metadata": {
    "id": "IZJpttbXpZyz"
   },
   "outputs": [],
   "source": [
    "dev = TwitterDataset(dev_data, \"text\", \"emotion\", word2vec)"
   ]
  },
  {
   "cell_type": "markdown",
   "metadata": {
    "id": "Sr-aetH0_LH1"
   },
   "source": [
    "Отлично, мы готовы с помощью эмбеддингов слов превращать твиты в векторы и обучать нейронную сеть.\n",
    "\n",
    "Превращать твиты в векторы, используя эмбеддинги слов, можно несколькими способами. А именно такими:"
   ]
  },
  {
   "cell_type": "markdown",
   "metadata": {
    "id": "4AhHrWa196Yc"
   },
   "source": [
    "## Average embedding (2 балла)\n",
    "---\n",
    "Это самый простой вариант, как получить вектор предложения, используя векторные представления слов в предложении. А именно: вектор предложения есть средний вектор всех слов в предлоежнии (которые остались после токенизации и удаления коротких слов, конечно). "
   ]
  },
  {
   "cell_type": "code",
   "execution_count": 15,
   "metadata": {
    "colab": {
     "base_uri": "https://localhost:8080/"
    },
    "id": "ScdokSW-994t",
    "outputId": "dd81a292-5b74-4202-b50c-9b30d6e3b8e2"
   },
   "outputs": [
    {
     "name": "stdout",
     "output_type": "stream",
     "text": [
      "1280\n"
     ]
    }
   ],
   "source": [
    "indexes = np.arange(len(dev))\n",
    "np.random.shuffle(indexes)\n",
    "example_indexes = indexes[::1000]\n",
    "\n",
    "examples = {\"features\": [np.sum(dev[i][\"feature\"], axis=0) for i in example_indexes], \n",
    "            \"targets\": [dev[i][\"target\"] for i in example_indexes]}\n",
    "print(len(examples[\"features\"]))"
   ]
  },
  {
   "cell_type": "markdown",
   "metadata": {
    "id": "1yGQ_lOx_1NL"
   },
   "source": [
    "Давайте сделаем визуализацию полученных векторов твитов тренировочного (dev) датасета. Так мы увидим, насколько хорошо твиты с разными target значениями отделяются друг от друга, т.е. насколько хорошо усреднение эмбеддингов слов предложения передает информацию о предложении."
   ]
  },
  {
   "cell_type": "markdown",
   "metadata": {
    "id": "LZwFksd_8uYO"
   },
   "source": [
    "Для визуализации векторов надо получить их проекцию на плоскость. Сделаем это с помощью `PCA`. Если хотите, можете вместо PCA использовать TSNE: так у вас получится более точная проекция на плоскость (а значит, более информативная, т.е. отражающая реальное положение векторов твитов в пространстве). Но TSNE будет работать намного дольше."
   ]
  },
  {
   "cell_type": "code",
   "execution_count": 16,
   "metadata": {
    "id": "aKFZRSHdtIac"
   },
   "outputs": [],
   "source": [
    "from sklearn.decomposition import PCA\n",
    "\n",
    "\n",
    "pca = PCA(n_components=2)\n",
    "examples[\"transformed_features\"] = pca.fit_transform(examples['features'])   # Обучи PCA на эмбеддингах слов"
   ]
  },
  {
   "cell_type": "code",
   "execution_count": 17,
   "metadata": {
    "id": "szEOWdiNtIX8"
   },
   "outputs": [],
   "source": [
    "import bokeh.models as bm, bokeh.plotting as pl\n",
    "from bokeh.io import output_notebook\n",
    "output_notebook()\n",
    "\n",
    "def draw_vectors(x, y, radius=10, alpha=0.25, color='blue',\n",
    "                 width=600, height=400, show=True, **kwargs):\n",
    "    \"\"\" draws an interactive plot for data points with auxilirary info on hover \"\"\"\n",
    "    data_source = bm.ColumnDataSource({ 'x' : x, 'y' : y, 'color': color, **kwargs })\n",
    "\n",
    "    fig = pl.figure(active_scroll='wheel_zoom', width=width, height=height)\n",
    "    fig.scatter('x', 'y', size=radius, color='color', alpha=alpha, source=data_source)\n",
    "\n",
    "    fig.add_tools(bm.HoverTool(tooltips=[(key, \"@\" + key) for key in kwargs.keys()]))\n",
    "    if show: pl.show(fig)\n",
    "    return fig"
   ]
  },
  {
   "cell_type": "code",
   "execution_count": 18,
   "metadata": {
    "colab": {
     "base_uri": "https://localhost:8080/",
     "height": 434
    },
    "id": "7OONK8ldtIWe",
    "outputId": "fff7b6e7-308b-4107-f185-faf1aa3420b3"
   },
   "outputs": [
    {
     "data": {
      "application/javascript": [
       "\n",
       "(function(root) {\n",
       "  function now() {\n",
       "    return new Date();\n",
       "  }\n",
       "\n",
       "  var force = true;\n",
       "\n",
       "  if (typeof root._bokeh_onload_callbacks === \"undefined\" || force === true) {\n",
       "    root._bokeh_onload_callbacks = [];\n",
       "    root._bokeh_is_loading = undefined;\n",
       "  }\n",
       "\n",
       "  var JS_MIME_TYPE = 'application/javascript';\n",
       "  var HTML_MIME_TYPE = 'text/html';\n",
       "  var EXEC_MIME_TYPE = 'application/vnd.bokehjs_exec.v0+json';\n",
       "  var CLASS_NAME = 'output_bokeh rendered_html';\n",
       "\n",
       "  /**\n",
       "   * Render data to the DOM node\n",
       "   */\n",
       "  function render(props, node) {\n",
       "    var script = document.createElement(\"script\");\n",
       "    node.appendChild(script);\n",
       "  }\n",
       "\n",
       "  /**\n",
       "   * Handle when an output is cleared or removed\n",
       "   */\n",
       "  function handleClearOutput(event, handle) {\n",
       "    var cell = handle.cell;\n",
       "\n",
       "    var id = cell.output_area._bokeh_element_id;\n",
       "    var server_id = cell.output_area._bokeh_server_id;\n",
       "    // Clean up Bokeh references\n",
       "    if (id != null && id in Bokeh.index) {\n",
       "      Bokeh.index[id].model.document.clear();\n",
       "      delete Bokeh.index[id];\n",
       "    }\n",
       "\n",
       "    if (server_id !== undefined) {\n",
       "      // Clean up Bokeh references\n",
       "      var cmd = \"from bokeh.io.state import curstate; print(curstate().uuid_to_server['\" + server_id + \"'].get_sessions()[0].document.roots[0]._id)\";\n",
       "      cell.notebook.kernel.execute(cmd, {\n",
       "        iopub: {\n",
       "          output: function(msg) {\n",
       "            var id = msg.content.text.trim();\n",
       "            if (id in Bokeh.index) {\n",
       "              Bokeh.index[id].model.document.clear();\n",
       "              delete Bokeh.index[id];\n",
       "            }\n",
       "          }\n",
       "        }\n",
       "      });\n",
       "      // Destroy server and session\n",
       "      var cmd = \"import bokeh.io.notebook as ion; ion.destroy_server('\" + server_id + \"')\";\n",
       "      cell.notebook.kernel.execute(cmd);\n",
       "    }\n",
       "  }\n",
       "\n",
       "  /**\n",
       "   * Handle when a new output is added\n",
       "   */\n",
       "  function handleAddOutput(event, handle) {\n",
       "    var output_area = handle.output_area;\n",
       "    var output = handle.output;\n",
       "\n",
       "    // limit handleAddOutput to display_data with EXEC_MIME_TYPE content only\n",
       "    if ((output.output_type != \"display_data\") || (!output.data.hasOwnProperty(EXEC_MIME_TYPE))) {\n",
       "      return\n",
       "    }\n",
       "\n",
       "    var toinsert = output_area.element.find(\".\" + CLASS_NAME.split(' ')[0]);\n",
       "\n",
       "    if (output.metadata[EXEC_MIME_TYPE][\"id\"] !== undefined) {\n",
       "      toinsert[toinsert.length - 1].firstChild.textContent = output.data[JS_MIME_TYPE];\n",
       "      // store reference to embed id on output_area\n",
       "      output_area._bokeh_element_id = output.metadata[EXEC_MIME_TYPE][\"id\"];\n",
       "    }\n",
       "    if (output.metadata[EXEC_MIME_TYPE][\"server_id\"] !== undefined) {\n",
       "      var bk_div = document.createElement(\"div\");\n",
       "      bk_div.innerHTML = output.data[HTML_MIME_TYPE];\n",
       "      var script_attrs = bk_div.children[0].attributes;\n",
       "      for (var i = 0; i < script_attrs.length; i++) {\n",
       "        toinsert[toinsert.length - 1].firstChild.setAttribute(script_attrs[i].name, script_attrs[i].value);\n",
       "        toinsert[toinsert.length - 1].firstChild.textContent = bk_div.children[0].textContent\n",
       "      }\n",
       "      // store reference to server id on output_area\n",
       "      output_area._bokeh_server_id = output.metadata[EXEC_MIME_TYPE][\"server_id\"];\n",
       "    }\n",
       "  }\n",
       "\n",
       "  function register_renderer(events, OutputArea) {\n",
       "\n",
       "    function append_mime(data, metadata, element) {\n",
       "      // create a DOM node to render to\n",
       "      var toinsert = this.create_output_subarea(\n",
       "        metadata,\n",
       "        CLASS_NAME,\n",
       "        EXEC_MIME_TYPE\n",
       "      );\n",
       "      this.keyboard_manager.register_events(toinsert);\n",
       "      // Render to node\n",
       "      var props = {data: data, metadata: metadata[EXEC_MIME_TYPE]};\n",
       "      render(props, toinsert[toinsert.length - 1]);\n",
       "      element.append(toinsert);\n",
       "      return toinsert\n",
       "    }\n",
       "\n",
       "    /* Handle when an output is cleared or removed */\n",
       "    events.on('clear_output.CodeCell', handleClearOutput);\n",
       "    events.on('delete.Cell', handleClearOutput);\n",
       "\n",
       "    /* Handle when a new output is added */\n",
       "    events.on('output_added.OutputArea', handleAddOutput);\n",
       "\n",
       "    /**\n",
       "     * Register the mime type and append_mime function with output_area\n",
       "     */\n",
       "    OutputArea.prototype.register_mime_type(EXEC_MIME_TYPE, append_mime, {\n",
       "      /* Is output safe? */\n",
       "      safe: true,\n",
       "      /* Index of renderer in `output_area.display_order` */\n",
       "      index: 0\n",
       "    });\n",
       "  }\n",
       "\n",
       "  // register the mime type if in Jupyter Notebook environment and previously unregistered\n",
       "  if (root.Jupyter !== undefined) {\n",
       "    var events = require('base/js/events');\n",
       "    var OutputArea = require('notebook/js/outputarea').OutputArea;\n",
       "\n",
       "    if (OutputArea.prototype.mime_types().indexOf(EXEC_MIME_TYPE) == -1) {\n",
       "      register_renderer(events, OutputArea);\n",
       "    }\n",
       "  }\n",
       "\n",
       "  \n",
       "  if (typeof (root._bokeh_timeout) === \"undefined\" || force === true) {\n",
       "    root._bokeh_timeout = Date.now() + 5000;\n",
       "    root._bokeh_failed_load = false;\n",
       "  }\n",
       "\n",
       "  var NB_LOAD_WARNING = {'data': {'text/html':\n",
       "     \"<div style='background-color: #fdd'>\\n\"+\n",
       "     \"<p>\\n\"+\n",
       "     \"BokehJS does not appear to have successfully loaded. If loading BokehJS from CDN, this \\n\"+\n",
       "     \"may be due to a slow or bad network connection. Possible fixes:\\n\"+\n",
       "     \"</p>\\n\"+\n",
       "     \"<ul>\\n\"+\n",
       "     \"<li>re-rerun `output_notebook()` to attempt to load from CDN again, or</li>\\n\"+\n",
       "     \"<li>use INLINE resources instead, as so:</li>\\n\"+\n",
       "     \"</ul>\\n\"+\n",
       "     \"<code>\\n\"+\n",
       "     \"from bokeh.resources import INLINE\\n\"+\n",
       "     \"output_notebook(resources=INLINE)\\n\"+\n",
       "     \"</code>\\n\"+\n",
       "     \"</div>\"}};\n",
       "\n",
       "  function display_loaded() {\n",
       "    var el = document.getElementById(null);\n",
       "    if (el != null) {\n",
       "      el.textContent = \"BokehJS is loading...\";\n",
       "    }\n",
       "    if (root.Bokeh !== undefined) {\n",
       "      if (el != null) {\n",
       "        el.textContent = \"BokehJS \" + root.Bokeh.version + \" successfully loaded.\";\n",
       "      }\n",
       "    } else if (Date.now() < root._bokeh_timeout) {\n",
       "      setTimeout(display_loaded, 100)\n",
       "    }\n",
       "  }\n",
       "\n",
       "\n",
       "  function run_callbacks() {\n",
       "    try {\n",
       "      root._bokeh_onload_callbacks.forEach(function(callback) {\n",
       "        if (callback != null)\n",
       "          callback();\n",
       "      });\n",
       "    } finally {\n",
       "      delete root._bokeh_onload_callbacks\n",
       "    }\n",
       "    console.debug(\"Bokeh: all callbacks have finished\");\n",
       "  }\n",
       "\n",
       "  function load_libs(css_urls, js_urls, callback) {\n",
       "    if (css_urls == null) css_urls = [];\n",
       "    if (js_urls == null) js_urls = [];\n",
       "\n",
       "    root._bokeh_onload_callbacks.push(callback);\n",
       "    if (root._bokeh_is_loading > 0) {\n",
       "      console.debug(\"Bokeh: BokehJS is being loaded, scheduling callback at\", now());\n",
       "      return null;\n",
       "    }\n",
       "    if (js_urls == null || js_urls.length === 0) {\n",
       "      run_callbacks();\n",
       "      return null;\n",
       "    }\n",
       "    console.debug(\"Bokeh: BokehJS not loaded, scheduling load and callback at\", now());\n",
       "    root._bokeh_is_loading = css_urls.length + js_urls.length;\n",
       "\n",
       "    function on_load() {\n",
       "      root._bokeh_is_loading--;\n",
       "      if (root._bokeh_is_loading === 0) {\n",
       "        console.debug(\"Bokeh: all BokehJS libraries/stylesheets loaded\");\n",
       "        run_callbacks()\n",
       "      }\n",
       "    }\n",
       "\n",
       "    function on_error() {\n",
       "      console.error(\"failed to load \" + url);\n",
       "    }\n",
       "\n",
       "    for (var i = 0; i < css_urls.length; i++) {\n",
       "      var url = css_urls[i];\n",
       "      const element = document.createElement(\"link\");\n",
       "      element.onload = on_load;\n",
       "      element.onerror = on_error;\n",
       "      element.rel = \"stylesheet\";\n",
       "      element.type = \"text/css\";\n",
       "      element.href = url;\n",
       "      console.debug(\"Bokeh: injecting link tag for BokehJS stylesheet: \", url);\n",
       "      document.body.appendChild(element);\n",
       "    }\n",
       "\n",
       "    const hashes = {\"https://cdn.bokeh.org/bokeh/release/bokeh-2.1.1.min.js\": \"kLr4fYcqcSpbuI95brIH3vnnYCquzzSxHPU6XGQCIkQRGJwhg0StNbj1eegrHs12\", \"https://cdn.bokeh.org/bokeh/release/bokeh-widgets-2.1.1.min.js\": \"xIGPmVtaOm+z0BqfSOMn4lOR6ciex448GIKG4eE61LsAvmGj48XcMQZtKcE/UXZe\", \"https://cdn.bokeh.org/bokeh/release/bokeh-tables-2.1.1.min.js\": \"Dc9u1wF/0zApGIWoBbH77iWEHtdmkuYWG839Uzmv8y8yBLXebjO9ZnERsde5Ln/P\", \"https://cdn.bokeh.org/bokeh/release/bokeh-gl-2.1.1.min.js\": \"cT9JaBz7GiRXdENrJLZNSC6eMNF3nh3fa5fTF51Svp+ukxPdwcU5kGXGPBgDCa2j\"};\n",
       "\n",
       "    for (var i = 0; i < js_urls.length; i++) {\n",
       "      var url = js_urls[i];\n",
       "      var element = document.createElement('script');\n",
       "      element.onload = on_load;\n",
       "      element.onerror = on_error;\n",
       "      element.async = false;\n",
       "      element.src = url;\n",
       "      if (url in hashes) {\n",
       "        element.crossOrigin = \"anonymous\";\n",
       "        element.integrity = \"sha384-\" + hashes[url];\n",
       "      }\n",
       "      console.debug(\"Bokeh: injecting script tag for BokehJS library: \", url);\n",
       "      document.head.appendChild(element);\n",
       "    }\n",
       "  };\n",
       "\n",
       "  function inject_raw_css(css) {\n",
       "    const element = document.createElement(\"style\");\n",
       "    element.appendChild(document.createTextNode(css));\n",
       "    document.body.appendChild(element);\n",
       "  }\n",
       "\n",
       "  \n",
       "  var js_urls = [\"https://cdn.bokeh.org/bokeh/release/bokeh-2.1.1.min.js\", \"https://cdn.bokeh.org/bokeh/release/bokeh-widgets-2.1.1.min.js\", \"https://cdn.bokeh.org/bokeh/release/bokeh-tables-2.1.1.min.js\", \"https://cdn.bokeh.org/bokeh/release/bokeh-gl-2.1.1.min.js\"];\n",
       "  var css_urls = [];\n",
       "  \n",
       "\n",
       "  var inline_js = [\n",
       "    function(Bokeh) {\n",
       "      Bokeh.set_log_level(\"info\");\n",
       "    },\n",
       "    function(Bokeh) {\n",
       "    \n",
       "    \n",
       "    }\n",
       "  ];\n",
       "\n",
       "  function run_inline_js() {\n",
       "    \n",
       "    if (root.Bokeh !== undefined || force === true) {\n",
       "      \n",
       "    for (var i = 0; i < inline_js.length; i++) {\n",
       "      inline_js[i].call(root, root.Bokeh);\n",
       "    }\n",
       "    } else if (Date.now() < root._bokeh_timeout) {\n",
       "      setTimeout(run_inline_js, 100);\n",
       "    } else if (!root._bokeh_failed_load) {\n",
       "      console.log(\"Bokeh: BokehJS failed to load within specified timeout.\");\n",
       "      root._bokeh_failed_load = true;\n",
       "    } else if (force !== true) {\n",
       "      var cell = $(document.getElementById(null)).parents('.cell').data().cell;\n",
       "      cell.output_area.append_execute_result(NB_LOAD_WARNING)\n",
       "    }\n",
       "\n",
       "  }\n",
       "\n",
       "  if (root._bokeh_is_loading === 0) {\n",
       "    console.debug(\"Bokeh: BokehJS loaded, going straight to plotting\");\n",
       "    run_inline_js();\n",
       "  } else {\n",
       "    load_libs(css_urls, js_urls, function() {\n",
       "      console.debug(\"Bokeh: BokehJS plotting callback run at\", now());\n",
       "      run_inline_js();\n",
       "    });\n",
       "  }\n",
       "}(window));"
      ],
      "application/vnd.bokehjs_load.v0+json": "\n(function(root) {\n  function now() {\n    return new Date();\n  }\n\n  var force = true;\n\n  if (typeof root._bokeh_onload_callbacks === \"undefined\" || force === true) {\n    root._bokeh_onload_callbacks = [];\n    root._bokeh_is_loading = undefined;\n  }\n\n  \n\n  \n  if (typeof (root._bokeh_timeout) === \"undefined\" || force === true) {\n    root._bokeh_timeout = Date.now() + 5000;\n    root._bokeh_failed_load = false;\n  }\n\n  var NB_LOAD_WARNING = {'data': {'text/html':\n     \"<div style='background-color: #fdd'>\\n\"+\n     \"<p>\\n\"+\n     \"BokehJS does not appear to have successfully loaded. If loading BokehJS from CDN, this \\n\"+\n     \"may be due to a slow or bad network connection. Possible fixes:\\n\"+\n     \"</p>\\n\"+\n     \"<ul>\\n\"+\n     \"<li>re-rerun `output_notebook()` to attempt to load from CDN again, or</li>\\n\"+\n     \"<li>use INLINE resources instead, as so:</li>\\n\"+\n     \"</ul>\\n\"+\n     \"<code>\\n\"+\n     \"from bokeh.resources import INLINE\\n\"+\n     \"output_notebook(resources=INLINE)\\n\"+\n     \"</code>\\n\"+\n     \"</div>\"}};\n\n  function display_loaded() {\n    var el = document.getElementById(null);\n    if (el != null) {\n      el.textContent = \"BokehJS is loading...\";\n    }\n    if (root.Bokeh !== undefined) {\n      if (el != null) {\n        el.textContent = \"BokehJS \" + root.Bokeh.version + \" successfully loaded.\";\n      }\n    } else if (Date.now() < root._bokeh_timeout) {\n      setTimeout(display_loaded, 100)\n    }\n  }\n\n\n  function run_callbacks() {\n    try {\n      root._bokeh_onload_callbacks.forEach(function(callback) {\n        if (callback != null)\n          callback();\n      });\n    } finally {\n      delete root._bokeh_onload_callbacks\n    }\n    console.debug(\"Bokeh: all callbacks have finished\");\n  }\n\n  function load_libs(css_urls, js_urls, callback) {\n    if (css_urls == null) css_urls = [];\n    if (js_urls == null) js_urls = [];\n\n    root._bokeh_onload_callbacks.push(callback);\n    if (root._bokeh_is_loading > 0) {\n      console.debug(\"Bokeh: BokehJS is being loaded, scheduling callback at\", now());\n      return null;\n    }\n    if (js_urls == null || js_urls.length === 0) {\n      run_callbacks();\n      return null;\n    }\n    console.debug(\"Bokeh: BokehJS not loaded, scheduling load and callback at\", now());\n    root._bokeh_is_loading = css_urls.length + js_urls.length;\n\n    function on_load() {\n      root._bokeh_is_loading--;\n      if (root._bokeh_is_loading === 0) {\n        console.debug(\"Bokeh: all BokehJS libraries/stylesheets loaded\");\n        run_callbacks()\n      }\n    }\n\n    function on_error() {\n      console.error(\"failed to load \" + url);\n    }\n\n    for (var i = 0; i < css_urls.length; i++) {\n      var url = css_urls[i];\n      const element = document.createElement(\"link\");\n      element.onload = on_load;\n      element.onerror = on_error;\n      element.rel = \"stylesheet\";\n      element.type = \"text/css\";\n      element.href = url;\n      console.debug(\"Bokeh: injecting link tag for BokehJS stylesheet: \", url);\n      document.body.appendChild(element);\n    }\n\n    const hashes = {\"https://cdn.bokeh.org/bokeh/release/bokeh-2.1.1.min.js\": \"kLr4fYcqcSpbuI95brIH3vnnYCquzzSxHPU6XGQCIkQRGJwhg0StNbj1eegrHs12\", \"https://cdn.bokeh.org/bokeh/release/bokeh-widgets-2.1.1.min.js\": \"xIGPmVtaOm+z0BqfSOMn4lOR6ciex448GIKG4eE61LsAvmGj48XcMQZtKcE/UXZe\", \"https://cdn.bokeh.org/bokeh/release/bokeh-tables-2.1.1.min.js\": \"Dc9u1wF/0zApGIWoBbH77iWEHtdmkuYWG839Uzmv8y8yBLXebjO9ZnERsde5Ln/P\", \"https://cdn.bokeh.org/bokeh/release/bokeh-gl-2.1.1.min.js\": \"cT9JaBz7GiRXdENrJLZNSC6eMNF3nh3fa5fTF51Svp+ukxPdwcU5kGXGPBgDCa2j\"};\n\n    for (var i = 0; i < js_urls.length; i++) {\n      var url = js_urls[i];\n      var element = document.createElement('script');\n      element.onload = on_load;\n      element.onerror = on_error;\n      element.async = false;\n      element.src = url;\n      if (url in hashes) {\n        element.crossOrigin = \"anonymous\";\n        element.integrity = \"sha384-\" + hashes[url];\n      }\n      console.debug(\"Bokeh: injecting script tag for BokehJS library: \", url);\n      document.head.appendChild(element);\n    }\n  };\n\n  function inject_raw_css(css) {\n    const element = document.createElement(\"style\");\n    element.appendChild(document.createTextNode(css));\n    document.body.appendChild(element);\n  }\n\n  \n  var js_urls = [\"https://cdn.bokeh.org/bokeh/release/bokeh-2.1.1.min.js\", \"https://cdn.bokeh.org/bokeh/release/bokeh-widgets-2.1.1.min.js\", \"https://cdn.bokeh.org/bokeh/release/bokeh-tables-2.1.1.min.js\", \"https://cdn.bokeh.org/bokeh/release/bokeh-gl-2.1.1.min.js\"];\n  var css_urls = [];\n  \n\n  var inline_js = [\n    function(Bokeh) {\n      Bokeh.set_log_level(\"info\");\n    },\n    function(Bokeh) {\n    \n    \n    }\n  ];\n\n  function run_inline_js() {\n    \n    if (root.Bokeh !== undefined || force === true) {\n      \n    for (var i = 0; i < inline_js.length; i++) {\n      inline_js[i].call(root, root.Bokeh);\n    }\n    } else if (Date.now() < root._bokeh_timeout) {\n      setTimeout(run_inline_js, 100);\n    } else if (!root._bokeh_failed_load) {\n      console.log(\"Bokeh: BokehJS failed to load within specified timeout.\");\n      root._bokeh_failed_load = true;\n    } else if (force !== true) {\n      var cell = $(document.getElementById(null)).parents('.cell').data().cell;\n      cell.output_area.append_execute_result(NB_LOAD_WARNING)\n    }\n\n  }\n\n  if (root._bokeh_is_loading === 0) {\n    console.debug(\"Bokeh: BokehJS loaded, going straight to plotting\");\n    run_inline_js();\n  } else {\n    load_libs(css_urls, js_urls, function() {\n      console.debug(\"Bokeh: BokehJS plotting callback run at\", now());\n      run_inline_js();\n    });\n  }\n}(window));"
     },
     "metadata": {
      "tags": []
     },
     "output_type": "display_data"
    },
    {
     "data": {
      "text/html": [
       "\n",
       "\n",
       "\n",
       "\n",
       "\n",
       "\n",
       "  <div class=\"bk-root\" id=\"56949209-e456-42eb-a3ea-1d7e0e801713\" data-root-id=\"1002\"></div>\n"
      ]
     },
     "metadata": {
      "tags": []
     },
     "output_type": "display_data"
    },
    {
     "data": {
      "application/javascript": [
       "(function(root) {\n",
       "  function embed_document(root) {\n",
       "    \n",
       "  var docs_json = {\"6e810570-a14c-45dd-b926-7199790ebe96\":{\"roots\":{\"references\":[{\"attributes\":{\"below\":[{\"id\":\"1011\"}],\"center\":[{\"id\":\"1014\"},{\"id\":\"1018\"}],\"left\":[{\"id\":\"1015\"}],\"plot_height\":400,\"renderers\":[{\"id\":\"1036\"}],\"title\":{\"id\":\"1040\"},\"toolbar\":{\"id\":\"1026\"},\"x_range\":{\"id\":\"1003\"},\"x_scale\":{\"id\":\"1007\"},\"y_range\":{\"id\":\"1005\"},\"y_scale\":{\"id\":\"1009\"}},\"id\":\"1002\",\"subtype\":\"Figure\",\"type\":\"Plot\"},{\"attributes\":{\"active_drag\":\"auto\",\"active_inspect\":\"auto\",\"active_multi\":null,\"active_scroll\":{\"id\":\"1020\"},\"active_tap\":\"auto\",\"tools\":[{\"id\":\"1019\"},{\"id\":\"1020\"},{\"id\":\"1021\"},{\"id\":\"1022\"},{\"id\":\"1023\"},{\"id\":\"1024\"},{\"id\":\"1038\"}]},\"id\":\"1026\",\"type\":\"Toolbar\"},{\"attributes\":{},\"id\":\"1005\",\"type\":\"DataRange1d\"},{\"attributes\":{},\"id\":\"1020\",\"type\":\"WheelZoomTool\"},{\"attributes\":{\"data\":{\"color\":[\"red\",\"red\",\"red\",\"blue\",\"red\",\"blue\",\"blue\",\"blue\",\"blue\",\"blue\",\"blue\",\"blue\",\"blue\",\"red\",\"red\",\"blue\",\"blue\",\"blue\",\"red\",\"blue\",\"blue\",\"blue\",\"blue\",\"red\",\"blue\",\"blue\",\"red\",\"red\",\"blue\",\"red\",\"blue\",\"red\",\"red\",\"blue\",\"red\",\"red\",\"blue\",\"red\",\"blue\",\"blue\",\"red\",\"blue\",\"blue\",\"blue\",\"red\",\"red\",\"red\",\"red\",\"blue\",\"red\",\"blue\",\"blue\",\"blue\",\"red\",\"blue\",\"red\",\"blue\",\"blue\",\"red\",\"red\",\"red\",\"blue\",\"blue\",\"red\",\"red\",\"blue\",\"blue\",\"red\",\"blue\",\"blue\",\"blue\",\"blue\",\"red\",\"red\",\"red\",\"red\",\"red\",\"blue\",\"red\",\"red\",\"blue\",\"blue\",\"red\",\"red\",\"blue\",\"red\",\"red\",\"red\",\"blue\",\"red\",\"red\",\"red\",\"red\",\"blue\",\"blue\",\"red\",\"red\",\"blue\",\"red\",\"red\",\"blue\",\"red\",\"blue\",\"red\",\"red\",\"red\",\"red\",\"blue\",\"red\",\"blue\",\"blue\",\"blue\",\"blue\",\"red\",\"red\",\"blue\",\"blue\",\"blue\",\"red\",\"blue\",\"red\",\"red\",\"red\",\"red\",\"blue\",\"blue\",\"red\",\"blue\",\"red\",\"blue\",\"blue\",\"blue\",\"red\",\"blue\",\"red\",\"blue\",\"red\",\"red\",\"blue\",\"red\",\"red\",\"blue\",\"red\",\"red\",\"blue\",\"red\",\"red\",\"blue\",\"blue\",\"blue\",\"blue\",\"red\",\"red\",\"red\",\"blue\",\"red\",\"red\",\"red\",\"blue\",\"red\",\"red\",\"red\",\"red\",\"red\",\"red\",\"blue\",\"blue\",\"red\",\"blue\",\"blue\",\"red\",\"red\",\"red\",\"blue\",\"red\",\"red\",\"blue\",\"red\",\"blue\",\"blue\",\"red\",\"blue\",\"red\",\"red\",\"blue\",\"blue\",\"blue\",\"blue\",\"blue\",\"red\",\"red\",\"red\",\"blue\",\"blue\",\"blue\",\"red\",\"red\",\"blue\",\"blue\",\"blue\",\"blue\",\"blue\",\"blue\",\"red\",\"red\",\"red\",\"red\",\"red\",\"red\",\"red\",\"red\",\"red\",\"blue\",\"blue\",\"blue\",\"red\",\"blue\",\"red\",\"blue\",\"blue\",\"red\",\"blue\",\"red\",\"blue\",\"blue\",\"red\",\"blue\",\"blue\",\"blue\",\"blue\",\"red\",\"blue\",\"red\",\"red\",\"red\",\"blue\",\"red\",\"blue\",\"red\",\"red\",\"red\",\"blue\",\"red\",\"blue\",\"red\",\"blue\",\"red\",\"blue\",\"red\",\"blue\",\"blue\",\"blue\",\"blue\",\"blue\",\"blue\",\"blue\",\"red\",\"red\",\"red\",\"red\",\"blue\",\"red\",\"red\",\"blue\",\"blue\",\"blue\",\"red\",\"red\",\"red\",\"red\",\"blue\",\"blue\",\"blue\",\"blue\",\"blue\",\"blue\",\"blue\",\"red\",\"blue\",\"red\",\"red\",\"red\",\"blue\",\"red\",\"red\",\"blue\",\"blue\",\"red\",\"blue\",\"blue\",\"red\",\"red\",\"blue\",\"red\",\"red\",\"blue\",\"blue\",\"red\",\"blue\",\"red\",\"red\",\"blue\",\"red\",\"red\",\"blue\",\"red\",\"blue\",\"blue\",\"red\",\"red\",\"blue\",\"blue\",\"blue\",\"red\",\"blue\",\"blue\",\"red\",\"red\",\"red\",\"blue\",\"blue\",\"red\",\"blue\",\"red\",\"red\",\"red\",\"red\",\"red\",\"blue\",\"blue\",\"red\",\"red\",\"red\",\"red\",\"red\",\"blue\",\"red\",\"red\",\"red\",\"blue\",\"blue\",\"blue\",\"blue\",\"blue\",\"red\",\"blue\",\"blue\",\"red\",\"red\",\"blue\",\"blue\",\"blue\",\"blue\",\"red\",\"blue\",\"blue\",\"blue\",\"blue\",\"red\",\"blue\",\"red\",\"blue\",\"red\",\"red\",\"blue\",\"blue\",\"blue\",\"red\",\"red\",\"blue\",\"red\",\"red\",\"red\",\"blue\",\"red\",\"blue\",\"blue\",\"blue\",\"red\",\"red\",\"red\",\"blue\",\"blue\",\"red\",\"blue\",\"blue\",\"red\",\"blue\",\"blue\",\"red\",\"blue\",\"blue\",\"red\",\"blue\",\"red\",\"red\",\"blue\",\"blue\",\"blue\",\"red\",\"blue\",\"blue\",\"blue\",\"red\",\"red\",\"blue\",\"blue\",\"blue\",\"red\",\"blue\",\"blue\",\"blue\",\"red\",\"blue\",\"blue\",\"blue\",\"blue\",\"red\",\"blue\",\"blue\",\"red\",\"red\",\"red\",\"blue\",\"blue\",\"blue\",\"red\",\"red\",\"blue\",\"blue\",\"blue\",\"red\",\"blue\",\"blue\",\"blue\",\"blue\",\"blue\",\"red\",\"red\",\"blue\",\"blue\",\"blue\",\"red\",\"red\",\"blue\",\"red\",\"red\",\"red\",\"blue\",\"red\",\"red\",\"blue\",\"red\",\"blue\",\"blue\",\"red\",\"blue\",\"blue\",\"red\",\"red\",\"blue\",\"blue\",\"blue\",\"blue\",\"red\",\"red\",\"red\",\"red\",\"blue\",\"blue\",\"blue\",\"red\",\"blue\",\"blue\",\"red\",\"blue\",\"red\",\"red\",\"blue\",\"red\",\"blue\",\"red\",\"red\",\"blue\",\"red\",\"blue\",\"blue\",\"blue\",\"red\",\"blue\",\"red\",\"blue\",\"blue\",\"blue\",\"blue\",\"blue\",\"red\",\"blue\",\"blue\",\"red\",\"blue\",\"red\",\"blue\",\"red\",\"blue\",\"red\",\"red\",\"red\",\"red\",\"red\",\"red\",\"blue\",\"blue\",\"blue\",\"red\",\"blue\",\"red\",\"red\",\"blue\",\"red\",\"red\",\"red\",\"red\",\"red\",\"red\",\"blue\",\"blue\",\"blue\",\"red\",\"blue\",\"red\",\"blue\",\"blue\",\"red\",\"red\",\"red\",\"blue\",\"red\",\"blue\",\"blue\",\"blue\",\"red\",\"blue\",\"blue\",\"red\",\"blue\",\"blue\",\"blue\",\"blue\",\"blue\",\"blue\",\"red\",\"red\",\"red\",\"blue\",\"blue\",\"red\",\"blue\",\"blue\",\"blue\",\"red\",\"blue\",\"red\",\"blue\",\"blue\",\"red\",\"red\",\"blue\",\"red\",\"red\",\"red\",\"blue\",\"red\",\"red\",\"blue\",\"red\",\"red\",\"blue\",\"blue\",\"blue\",\"red\",\"red\",\"red\",\"blue\",\"blue\",\"blue\",\"red\",\"red\",\"red\",\"red\",\"blue\",\"blue\",\"red\",\"red\",\"red\",\"red\",\"red\",\"red\",\"blue\",\"blue\",\"red\",\"red\",\"red\",\"blue\",\"red\",\"red\",\"red\",\"blue\",\"red\",\"red\",\"blue\",\"red\",\"red\",\"blue\",\"blue\",\"blue\",\"red\",\"blue\",\"blue\",\"blue\",\"red\",\"red\",\"red\",\"blue\",\"blue\",\"red\",\"red\",\"blue\",\"red\",\"blue\",\"blue\",\"blue\",\"red\",\"red\",\"blue\",\"red\",\"red\",\"blue\",\"red\",\"blue\",\"blue\",\"red\",\"red\",\"red\",\"red\",\"red\",\"red\",\"red\",\"red\",\"red\",\"blue\",\"blue\",\"blue\",\"red\",\"red\",\"blue\",\"blue\",\"blue\",\"red\",\"blue\",\"blue\",\"blue\",\"blue\",\"red\",\"blue\",\"red\",\"blue\",\"red\",\"red\",\"red\",\"blue\",\"red\",\"red\",\"red\",\"blue\",\"red\",\"blue\",\"blue\",\"blue\",\"red\",\"red\",\"red\",\"blue\",\"blue\",\"blue\",\"red\",\"red\",\"red\",\"blue\",\"red\",\"red\",\"red\",\"blue\",\"red\",\"blue\",\"red\",\"red\",\"blue\",\"red\",\"blue\",\"blue\",\"red\",\"red\",\"blue\",\"blue\",\"blue\",\"blue\",\"red\",\"blue\",\"blue\",\"red\",\"red\",\"red\",\"red\",\"blue\",\"blue\",\"red\",\"red\",\"red\",\"red\",\"red\",\"blue\",\"blue\",\"red\",\"red\",\"red\",\"blue\",\"blue\",\"blue\",\"blue\",\"blue\",\"red\",\"red\",\"red\",\"blue\",\"blue\",\"red\",\"red\",\"red\",\"red\",\"red\",\"blue\",\"blue\",\"blue\",\"red\",\"red\",\"red\",\"red\",\"red\",\"blue\",\"red\",\"red\",\"red\",\"blue\",\"red\",\"red\",\"red\",\"red\",\"red\",\"red\",\"red\",\"red\",\"red\",\"blue\",\"blue\",\"blue\",\"blue\",\"blue\",\"red\",\"blue\",\"blue\",\"red\",\"blue\",\"red\",\"red\",\"blue\",\"red\",\"red\",\"blue\",\"red\",\"blue\",\"red\",\"red\",\"red\",\"blue\",\"red\",\"blue\",\"blue\",\"blue\",\"red\",\"blue\",\"blue\",\"red\",\"blue\",\"blue\",\"blue\",\"blue\",\"red\",\"blue\",\"red\",\"red\",\"red\",\"red\",\"blue\",\"blue\",\"red\",\"red\",\"blue\",\"red\",\"red\",\"blue\",\"red\",\"blue\",\"red\",\"blue\",\"blue\",\"red\",\"blue\",\"blue\",\"blue\",\"red\",\"blue\",\"red\",\"blue\",\"blue\",\"red\",\"red\",\"red\",\"blue\",\"blue\",\"blue\",\"red\",\"blue\",\"red\",\"blue\",\"blue\",\"red\",\"blue\",\"blue\",\"blue\",\"red\",\"red\",\"red\",\"blue\",\"red\",\"red\",\"red\",\"blue\",\"red\",\"red\",\"blue\",\"red\",\"blue\",\"blue\",\"blue\",\"red\",\"blue\",\"blue\",\"red\",\"red\",\"red\",\"blue\",\"blue\",\"blue\",\"red\",\"blue\",\"red\",\"blue\",\"red\",\"red\",\"blue\",\"red\",\"red\",\"red\",\"blue\",\"blue\",\"blue\",\"red\",\"red\",\"red\",\"red\",\"red\",\"red\",\"blue\",\"red\",\"red\",\"blue\",\"red\",\"red\",\"blue\",\"red\",\"blue\",\"blue\",\"blue\",\"blue\",\"red\",\"blue\",\"blue\",\"blue\",\"blue\",\"red\",\"red\",\"blue\",\"blue\",\"red\",\"red\",\"red\",\"blue\",\"red\",\"red\",\"blue\",\"blue\",\"red\",\"red\",\"blue\",\"red\",\"red\",\"blue\",\"red\",\"red\",\"red\",\"blue\",\"blue\",\"red\",\"red\",\"red\",\"blue\",\"red\",\"blue\",\"red\",\"blue\",\"red\",\"blue\",\"red\",\"blue\",\"red\",\"red\",\"blue\",\"blue\",\"blue\",\"red\",\"red\",\"red\",\"red\",\"red\",\"red\",\"blue\",\"red\",\"blue\",\"red\",\"blue\",\"red\",\"blue\",\"blue\",\"blue\",\"red\",\"blue\",\"blue\",\"red\",\"blue\",\"blue\",\"blue\",\"red\",\"red\",\"red\",\"blue\",\"blue\",\"blue\",\"red\",\"red\",\"blue\",\"red\",\"red\",\"red\",\"red\",\"blue\",\"red\",\"red\",\"red\",\"red\",\"blue\",\"blue\",\"blue\",\"red\",\"blue\",\"red\",\"red\",\"blue\",\"red\",\"blue\",\"blue\",\"red\",\"red\",\"red\",\"blue\",\"blue\",\"blue\",\"blue\",\"red\",\"red\",\"blue\",\"blue\",\"red\",\"blue\",\"blue\",\"blue\",\"blue\",\"red\",\"blue\",\"red\",\"red\",\"blue\",\"blue\",\"blue\",\"blue\",\"blue\",\"red\",\"red\",\"red\",\"red\",\"blue\",\"red\",\"blue\",\"red\",\"blue\",\"red\",\"blue\",\"red\",\"blue\",\"red\",\"blue\",\"blue\",\"red\",\"blue\",\"red\",\"blue\",\"red\",\"blue\",\"blue\",\"blue\",\"red\",\"red\",\"blue\",\"red\",\"red\",\"blue\",\"blue\",\"blue\",\"red\",\"blue\",\"blue\",\"red\",\"red\",\"red\",\"blue\",\"red\",\"blue\",\"blue\",\"red\",\"red\",\"red\",\"blue\",\"red\",\"blue\",\"blue\",\"blue\",\"red\",\"blue\",\"red\",\"red\",\"red\",\"red\",\"red\",\"red\",\"blue\",\"red\",\"blue\",\"blue\",\"blue\",\"red\",\"blue\",\"red\",\"red\",\"blue\",\"blue\",\"red\",\"red\",\"blue\",\"red\",\"blue\",\"red\",\"red\",\"blue\",\"red\",\"red\",\"blue\",\"red\",\"red\",\"red\",\"blue\",\"blue\",\"blue\",\"red\",\"blue\",\"blue\",\"blue\",\"red\",\"blue\",\"red\",\"red\",\"blue\",\"red\",\"blue\",\"blue\",\"red\",\"blue\",\"red\",\"blue\",\"blue\",\"red\",\"blue\",\"blue\",\"red\",\"blue\",\"blue\",\"blue\",\"red\",\"red\",\"blue\",\"blue\",\"red\",\"blue\",\"red\",\"red\",\"red\",\"blue\",\"blue\",\"blue\",\"red\",\"blue\",\"blue\",\"blue\",\"red\",\"blue\",\"blue\",\"blue\",\"blue\",\"blue\",\"red\",\"blue\",\"blue\",\"red\",\"red\",\"blue\",\"red\",\"red\",\"red\",\"blue\",\"blue\",\"blue\",\"red\",\"blue\",\"blue\",\"blue\",\"red\",\"red\",\"red\",\"red\",\"red\",\"blue\",\"blue\",\"red\",\"blue\",\"red\",\"blue\",\"blue\",\"blue\",\"red\",\"red\",\"red\",\"blue\",\"blue\",\"red\",\"red\",\"blue\",\"red\",\"blue\",\"blue\",\"red\",\"blue\",\"blue\",\"red\",\"red\",\"red\",\"red\",\"red\",\"red\",\"blue\",\"red\",\"red\",\"blue\",\"blue\",\"red\",\"blue\",\"blue\",\"blue\",\"red\",\"blue\",\"blue\",\"blue\",\"blue\",\"blue\",\"red\",\"red\",\"red\",\"red\",\"red\",\"red\",\"blue\",\"blue\",\"red\",\"red\",\"red\",\"blue\",\"red\",\"blue\",\"blue\",\"red\",\"blue\",\"blue\",\"red\",\"blue\",\"red\",\"red\",\"blue\",\"red\",\"red\",\"blue\",\"blue\",\"blue\",\"red\",\"red\",\"red\",\"blue\",\"blue\",\"red\",\"blue\",\"blue\",\"blue\",\"red\",\"red\",\"red\",\"blue\",\"red\",\"red\",\"red\",\"blue\",\"blue\",\"red\",\"blue\",\"blue\",\"blue\",\"blue\",\"blue\",\"blue\",\"blue\",\"blue\",\"blue\",\"red\",\"blue\",\"red\",\"red\",\"blue\",\"blue\",\"red\",\"red\",\"blue\",\"blue\",\"blue\",\"red\"],\"x\":{\"__ndarray__\":\"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\",\"dtype\":\"float64\",\"order\":\"little\",\"shape\":[1280]},\"y\":{\"__ndarray__\":\"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\",\"dtype\":\"float64\",\"order\":\"little\",\"shape\":[1280]}},\"selected\":{\"id\":\"1046\"},\"selection_policy\":{\"id\":\"1047\"}},\"id\":\"1001\",\"type\":\"ColumnDataSource\"},{\"attributes\":{\"callback\":null,\"tooltips\":[]},\"id\":\"1038\",\"type\":\"HoverTool\"},{\"attributes\":{\"overlay\":{\"id\":\"1025\"}},\"id\":\"1021\",\"type\":\"BoxZoomTool\"},{\"attributes\":{},\"id\":\"1003\",\"type\":\"DataRange1d\"},{\"attributes\":{\"fill_alpha\":{\"value\":0.1},\"fill_color\":{\"field\":\"color\"},\"line_alpha\":{\"value\":0.1},\"line_color\":{\"field\":\"color\"},\"size\":{\"units\":\"screen\",\"value\":10},\"x\":{\"field\":\"x\"},\"y\":{\"field\":\"y\"}},\"id\":\"1035\",\"type\":\"Scatter\"},{\"attributes\":{\"source\":{\"id\":\"1001\"}},\"id\":\"1037\",\"type\":\"CDSView\"},{\"attributes\":{\"data_source\":{\"id\":\"1001\"},\"glyph\":{\"id\":\"1034\"},\"hover_glyph\":null,\"muted_glyph\":null,\"nonselection_glyph\":{\"id\":\"1035\"},\"selection_glyph\":null,\"view\":{\"id\":\"1037\"}},\"id\":\"1036\",\"type\":\"GlyphRenderer\"},{\"attributes\":{},\"id\":\"1007\",\"type\":\"LinearScale\"},{\"attributes\":{},\"id\":\"1022\",\"type\":\"SaveTool\"},{\"attributes\":{},\"id\":\"1023\",\"type\":\"ResetTool\"},{\"attributes\":{\"text\":\"\"},\"id\":\"1040\",\"type\":\"Title\"},{\"attributes\":{},\"id\":\"1042\",\"type\":\"BasicTickFormatter\"},{\"attributes\":{},\"id\":\"1024\",\"type\":\"HelpTool\"},{\"attributes\":{\"fill_alpha\":{\"value\":0.25},\"fill_color\":{\"field\":\"color\"},\"line_alpha\":{\"value\":0.25},\"line_color\":{\"field\":\"color\"},\"size\":{\"units\":\"screen\",\"value\":10},\"x\":{\"field\":\"x\"},\"y\":{\"field\":\"y\"}},\"id\":\"1034\",\"type\":\"Scatter\"},{\"attributes\":{},\"id\":\"1047\",\"type\":\"UnionRenderers\"},{\"attributes\":{\"bottom_units\":\"screen\",\"fill_alpha\":0.5,\"fill_color\":\"lightgrey\",\"left_units\":\"screen\",\"level\":\"overlay\",\"line_alpha\":1.0,\"line_color\":\"black\",\"line_dash\":[4,4],\"line_width\":2,\"right_units\":\"screen\",\"top_units\":\"screen\"},\"id\":\"1025\",\"type\":\"BoxAnnotation\"},{\"attributes\":{},\"id\":\"1009\",\"type\":\"LinearScale\"},{\"attributes\":{\"formatter\":{\"id\":\"1042\"},\"ticker\":{\"id\":\"1016\"}},\"id\":\"1015\",\"type\":\"LinearAxis\"},{\"attributes\":{},\"id\":\"1012\",\"type\":\"BasicTicker\"},{\"attributes\":{\"formatter\":{\"id\":\"1044\"},\"ticker\":{\"id\":\"1012\"}},\"id\":\"1011\",\"type\":\"LinearAxis\"},{\"attributes\":{},\"id\":\"1019\",\"type\":\"PanTool\"},{\"attributes\":{},\"id\":\"1044\",\"type\":\"BasicTickFormatter\"},{\"attributes\":{\"axis\":{\"id\":\"1011\"},\"ticker\":null},\"id\":\"1014\",\"type\":\"Grid\"},{\"attributes\":{},\"id\":\"1016\",\"type\":\"BasicTicker\"},{\"attributes\":{\"axis\":{\"id\":\"1015\"},\"dimension\":1,\"ticker\":null},\"id\":\"1018\",\"type\":\"Grid\"},{\"attributes\":{},\"id\":\"1046\",\"type\":\"Selection\"}],\"root_ids\":[\"1002\"]},\"title\":\"Bokeh Application\",\"version\":\"2.1.1\"}};\n",
       "  var render_items = [{\"docid\":\"6e810570-a14c-45dd-b926-7199790ebe96\",\"root_ids\":[\"1002\"],\"roots\":{\"1002\":\"56949209-e456-42eb-a3ea-1d7e0e801713\"}}];\n",
       "  root.Bokeh.embed.embed_items_notebook(docs_json, render_items);\n",
       "\n",
       "  }\n",
       "  if (root.Bokeh !== undefined) {\n",
       "    embed_document(root);\n",
       "  } else {\n",
       "    var attempts = 0;\n",
       "    var timer = setInterval(function(root) {\n",
       "      if (root.Bokeh !== undefined) {\n",
       "        clearInterval(timer);\n",
       "        embed_document(root);\n",
       "      } else {\n",
       "        attempts++;\n",
       "        if (attempts > 100) {\n",
       "          clearInterval(timer);\n",
       "          console.log(\"Bokeh: ERROR: Unable to run BokehJS code because BokehJS library is missing\");\n",
       "        }\n",
       "      }\n",
       "    }, 10, root)\n",
       "  }\n",
       "})(window);"
      ],
      "application/vnd.bokehjs_exec.v0+json": ""
     },
     "metadata": {
      "application/vnd.bokehjs_exec.v0+json": {
       "id": "1002"
      },
      "tags": []
     },
     "output_type": "display_data"
    },
    {
     "data": {
      "text/html": [
       "<div style=\"display: table;\"><div style=\"display: table-row;\"><div style=\"display: table-cell;\"><b title=\"bokeh.plotting.figure.Figure\">Figure</b>(</div><div style=\"display: table-cell;\">id&nbsp;=&nbsp;'1002', <span id=\"1104\" style=\"cursor: pointer;\">&hellip;)</span></div></div><div class=\"1103\" style=\"display: none;\"><div style=\"display: table-cell;\"></div><div style=\"display: table-cell;\">above&nbsp;=&nbsp;[],</div></div><div class=\"1103\" style=\"display: none;\"><div style=\"display: table-cell;\"></div><div style=\"display: table-cell;\">align&nbsp;=&nbsp;'start',</div></div><div class=\"1103\" style=\"display: none;\"><div style=\"display: table-cell;\"></div><div style=\"display: table-cell;\">aspect_ratio&nbsp;=&nbsp;None,</div></div><div class=\"1103\" style=\"display: none;\"><div style=\"display: table-cell;\"></div><div style=\"display: table-cell;\">aspect_scale&nbsp;=&nbsp;1,</div></div><div class=\"1103\" style=\"display: none;\"><div style=\"display: table-cell;\"></div><div style=\"display: table-cell;\">background&nbsp;=&nbsp;None,</div></div><div class=\"1103\" style=\"display: none;\"><div style=\"display: table-cell;\"></div><div style=\"display: table-cell;\">background_fill_alpha&nbsp;=&nbsp;1.0,</div></div><div class=\"1103\" style=\"display: none;\"><div style=\"display: table-cell;\"></div><div style=\"display: table-cell;\">background_fill_color&nbsp;=&nbsp;'#ffffff',</div></div><div class=\"1103\" style=\"display: none;\"><div style=\"display: table-cell;\"></div><div style=\"display: table-cell;\">below&nbsp;=&nbsp;[LinearAxis(id='1011', ...)],</div></div><div class=\"1103\" style=\"display: none;\"><div style=\"display: table-cell;\"></div><div style=\"display: table-cell;\">border_fill_alpha&nbsp;=&nbsp;1.0,</div></div><div class=\"1103\" style=\"display: none;\"><div style=\"display: table-cell;\"></div><div style=\"display: table-cell;\">border_fill_color&nbsp;=&nbsp;'#ffffff',</div></div><div class=\"1103\" style=\"display: none;\"><div style=\"display: table-cell;\"></div><div style=\"display: table-cell;\">center&nbsp;=&nbsp;[Grid(id='1014', ...), Grid(id='1018', ...)],</div></div><div class=\"1103\" style=\"display: none;\"><div style=\"display: table-cell;\"></div><div style=\"display: table-cell;\">css_classes&nbsp;=&nbsp;[],</div></div><div class=\"1103\" style=\"display: none;\"><div style=\"display: table-cell;\"></div><div style=\"display: table-cell;\">disabled&nbsp;=&nbsp;False,</div></div><div class=\"1103\" style=\"display: none;\"><div style=\"display: table-cell;\"></div><div style=\"display: table-cell;\">extra_x_ranges&nbsp;=&nbsp;{},</div></div><div class=\"1103\" style=\"display: none;\"><div style=\"display: table-cell;\"></div><div style=\"display: table-cell;\">extra_y_ranges&nbsp;=&nbsp;{},</div></div><div class=\"1103\" style=\"display: none;\"><div style=\"display: table-cell;\"></div><div style=\"display: table-cell;\">frame_height&nbsp;=&nbsp;None,</div></div><div class=\"1103\" style=\"display: none;\"><div style=\"display: table-cell;\"></div><div style=\"display: table-cell;\">frame_width&nbsp;=&nbsp;None,</div></div><div class=\"1103\" style=\"display: none;\"><div style=\"display: table-cell;\"></div><div style=\"display: table-cell;\">height&nbsp;=&nbsp;None,</div></div><div class=\"1103\" style=\"display: none;\"><div style=\"display: table-cell;\"></div><div style=\"display: table-cell;\">height_policy&nbsp;=&nbsp;'auto',</div></div><div class=\"1103\" style=\"display: none;\"><div style=\"display: table-cell;\"></div><div style=\"display: table-cell;\">hidpi&nbsp;=&nbsp;True,</div></div><div class=\"1103\" style=\"display: none;\"><div style=\"display: table-cell;\"></div><div style=\"display: table-cell;\">js_event_callbacks&nbsp;=&nbsp;{},</div></div><div class=\"1103\" style=\"display: none;\"><div style=\"display: table-cell;\"></div><div style=\"display: table-cell;\">js_property_callbacks&nbsp;=&nbsp;{},</div></div><div class=\"1103\" style=\"display: none;\"><div style=\"display: table-cell;\"></div><div style=\"display: table-cell;\">left&nbsp;=&nbsp;[LinearAxis(id='1015', ...)],</div></div><div class=\"1103\" style=\"display: none;\"><div style=\"display: table-cell;\"></div><div style=\"display: table-cell;\">lod_factor&nbsp;=&nbsp;10,</div></div><div class=\"1103\" style=\"display: none;\"><div style=\"display: table-cell;\"></div><div style=\"display: table-cell;\">lod_interval&nbsp;=&nbsp;300,</div></div><div class=\"1103\" style=\"display: none;\"><div style=\"display: table-cell;\"></div><div style=\"display: table-cell;\">lod_threshold&nbsp;=&nbsp;2000,</div></div><div class=\"1103\" style=\"display: none;\"><div style=\"display: table-cell;\"></div><div style=\"display: table-cell;\">lod_timeout&nbsp;=&nbsp;500,</div></div><div class=\"1103\" style=\"display: none;\"><div style=\"display: table-cell;\"></div><div style=\"display: table-cell;\">margin&nbsp;=&nbsp;(0, 0, 0, 0),</div></div><div class=\"1103\" style=\"display: none;\"><div style=\"display: table-cell;\"></div><div style=\"display: table-cell;\">match_aspect&nbsp;=&nbsp;False,</div></div><div class=\"1103\" style=\"display: none;\"><div style=\"display: table-cell;\"></div><div style=\"display: table-cell;\">max_height&nbsp;=&nbsp;None,</div></div><div class=\"1103\" style=\"display: none;\"><div style=\"display: table-cell;\"></div><div style=\"display: table-cell;\">max_width&nbsp;=&nbsp;None,</div></div><div class=\"1103\" style=\"display: none;\"><div style=\"display: table-cell;\"></div><div style=\"display: table-cell;\">min_border&nbsp;=&nbsp;5,</div></div><div class=\"1103\" style=\"display: none;\"><div style=\"display: table-cell;\"></div><div style=\"display: table-cell;\">min_border_bottom&nbsp;=&nbsp;None,</div></div><div class=\"1103\" style=\"display: none;\"><div style=\"display: table-cell;\"></div><div style=\"display: table-cell;\">min_border_left&nbsp;=&nbsp;None,</div></div><div class=\"1103\" style=\"display: none;\"><div style=\"display: table-cell;\"></div><div style=\"display: table-cell;\">min_border_right&nbsp;=&nbsp;None,</div></div><div class=\"1103\" style=\"display: none;\"><div style=\"display: table-cell;\"></div><div style=\"display: table-cell;\">min_border_top&nbsp;=&nbsp;None,</div></div><div class=\"1103\" style=\"display: none;\"><div style=\"display: table-cell;\"></div><div style=\"display: table-cell;\">min_height&nbsp;=&nbsp;None,</div></div><div class=\"1103\" style=\"display: none;\"><div style=\"display: table-cell;\"></div><div style=\"display: table-cell;\">min_width&nbsp;=&nbsp;None,</div></div><div class=\"1103\" style=\"display: none;\"><div style=\"display: table-cell;\"></div><div style=\"display: table-cell;\">name&nbsp;=&nbsp;None,</div></div><div class=\"1103\" style=\"display: none;\"><div style=\"display: table-cell;\"></div><div style=\"display: table-cell;\">outline_line_alpha&nbsp;=&nbsp;1.0,</div></div><div class=\"1103\" style=\"display: none;\"><div style=\"display: table-cell;\"></div><div style=\"display: table-cell;\">outline_line_cap&nbsp;=&nbsp;'butt',</div></div><div class=\"1103\" style=\"display: none;\"><div style=\"display: table-cell;\"></div><div style=\"display: table-cell;\">outline_line_color&nbsp;=&nbsp;'#e5e5e5',</div></div><div class=\"1103\" style=\"display: none;\"><div style=\"display: table-cell;\"></div><div style=\"display: table-cell;\">outline_line_dash&nbsp;=&nbsp;[],</div></div><div class=\"1103\" style=\"display: none;\"><div style=\"display: table-cell;\"></div><div style=\"display: table-cell;\">outline_line_dash_offset&nbsp;=&nbsp;0,</div></div><div class=\"1103\" style=\"display: none;\"><div style=\"display: table-cell;\"></div><div style=\"display: table-cell;\">outline_line_join&nbsp;=&nbsp;'bevel',</div></div><div class=\"1103\" style=\"display: none;\"><div style=\"display: table-cell;\"></div><div style=\"display: table-cell;\">outline_line_width&nbsp;=&nbsp;1,</div></div><div class=\"1103\" style=\"display: none;\"><div style=\"display: table-cell;\"></div><div style=\"display: table-cell;\">output_backend&nbsp;=&nbsp;'canvas',</div></div><div class=\"1103\" style=\"display: none;\"><div style=\"display: table-cell;\"></div><div style=\"display: table-cell;\">plot_height&nbsp;=&nbsp;400,</div></div><div class=\"1103\" style=\"display: none;\"><div style=\"display: table-cell;\"></div><div style=\"display: table-cell;\">plot_width&nbsp;=&nbsp;600,</div></div><div class=\"1103\" style=\"display: none;\"><div style=\"display: table-cell;\"></div><div style=\"display: table-cell;\">renderers&nbsp;=&nbsp;[GlyphRenderer(id='1036', ...)],</div></div><div class=\"1103\" style=\"display: none;\"><div style=\"display: table-cell;\"></div><div style=\"display: table-cell;\">reset_policy&nbsp;=&nbsp;'standard',</div></div><div class=\"1103\" style=\"display: none;\"><div style=\"display: table-cell;\"></div><div style=\"display: table-cell;\">right&nbsp;=&nbsp;[],</div></div><div class=\"1103\" style=\"display: none;\"><div style=\"display: table-cell;\"></div><div style=\"display: table-cell;\">sizing_mode&nbsp;=&nbsp;None,</div></div><div class=\"1103\" style=\"display: none;\"><div style=\"display: table-cell;\"></div><div style=\"display: table-cell;\">subscribed_events&nbsp;=&nbsp;[],</div></div><div class=\"1103\" style=\"display: none;\"><div style=\"display: table-cell;\"></div><div style=\"display: table-cell;\">tags&nbsp;=&nbsp;[],</div></div><div class=\"1103\" style=\"display: none;\"><div style=\"display: table-cell;\"></div><div style=\"display: table-cell;\">title&nbsp;=&nbsp;Title(id='1040', ...),</div></div><div class=\"1103\" style=\"display: none;\"><div style=\"display: table-cell;\"></div><div style=\"display: table-cell;\">title_location&nbsp;=&nbsp;'above',</div></div><div class=\"1103\" style=\"display: none;\"><div style=\"display: table-cell;\"></div><div style=\"display: table-cell;\">toolbar&nbsp;=&nbsp;Toolbar(id='1026', ...),</div></div><div class=\"1103\" style=\"display: none;\"><div style=\"display: table-cell;\"></div><div style=\"display: table-cell;\">toolbar_location&nbsp;=&nbsp;'right',</div></div><div class=\"1103\" style=\"display: none;\"><div style=\"display: table-cell;\"></div><div style=\"display: table-cell;\">toolbar_sticky&nbsp;=&nbsp;True,</div></div><div class=\"1103\" style=\"display: none;\"><div style=\"display: table-cell;\"></div><div style=\"display: table-cell;\">visible&nbsp;=&nbsp;True,</div></div><div class=\"1103\" style=\"display: none;\"><div style=\"display: table-cell;\"></div><div style=\"display: table-cell;\">width&nbsp;=&nbsp;None,</div></div><div class=\"1103\" style=\"display: none;\"><div style=\"display: table-cell;\"></div><div style=\"display: table-cell;\">width_policy&nbsp;=&nbsp;'auto',</div></div><div class=\"1103\" style=\"display: none;\"><div style=\"display: table-cell;\"></div><div style=\"display: table-cell;\">x_range&nbsp;=&nbsp;DataRange1d(id='1003', ...),</div></div><div class=\"1103\" style=\"display: none;\"><div style=\"display: table-cell;\"></div><div style=\"display: table-cell;\">x_scale&nbsp;=&nbsp;LinearScale(id='1007', ...),</div></div><div class=\"1103\" style=\"display: none;\"><div style=\"display: table-cell;\"></div><div style=\"display: table-cell;\">y_range&nbsp;=&nbsp;DataRange1d(id='1005', ...),</div></div><div class=\"1103\" style=\"display: none;\"><div style=\"display: table-cell;\"></div><div style=\"display: table-cell;\">y_scale&nbsp;=&nbsp;LinearScale(id='1009', ...))</div></div></div>\n",
       "<script>\n",
       "(function() {\n",
       "  var expanded = false;\n",
       "  var ellipsis = document.getElementById(\"1104\");\n",
       "  ellipsis.addEventListener(\"click\", function() {\n",
       "    var rows = document.getElementsByClassName(\"1103\");\n",
       "    for (var i = 0; i < rows.length; i++) {\n",
       "      var el = rows[i];\n",
       "      el.style.display = expanded ? \"none\" : \"table-row\";\n",
       "    }\n",
       "    ellipsis.innerHTML = expanded ? \"&hellip;)\" : \"&lsaquo;&lsaquo;&lsaquo;\";\n",
       "    expanded = !expanded;\n",
       "  });\n",
       "})();\n",
       "</script>\n"
      ],
      "text/plain": [
       "Figure(id='1002', ...)"
      ]
     },
     "execution_count": 18,
     "metadata": {
      "tags": []
     },
     "output_type": "execute_result"
    }
   ],
   "source": [
    "draw_vectors(\n",
    "    examples[\"transformed_features\"][:, 0], \n",
    "    examples[\"transformed_features\"][:, 1], \n",
    "    color=[[\"red\", \"blue\"][t] for t in examples[\"targets\"]]\n",
    "    )"
   ]
  },
  {
   "cell_type": "markdown",
   "metadata": {
    "id": "0fNF6LRQ9MPI"
   },
   "source": [
    "Скорее всего, на визуализации нет четкого разделения твитов между классами. Это значит, что по полученным нами векторам твитов не так-то просто определить, к какому классу твит пренадлежит. Значит, обычный линейный классификатор не очень хорошо справится с задачей. Надо будет делать глубокую (хотя бы два слоя) нейронную сеть.\n",
    "\n",
    "Подготовим загрузчики данных.\n",
    "Усреднее векторов будем делать в \"батчевалке\"(`collate_fn`). Она используется для того, чтобы собирать из данных `torch.Tensor` батчи, которые можно отправлять в модель.\n"
   ]
  },
  {
   "cell_type": "code",
   "execution_count": 19,
   "metadata": {
    "id": "y1XapsADtITv"
   },
   "outputs": [],
   "source": [
    "from torch.utils.data import DataLoader\n",
    "\n",
    "\n",
    "batch_size = 1024\n",
    "num_workers = 4\n",
    "\n",
    "def average_emb(batch):\n",
    "    features = [np.mean(b[\"feature\"], axis=0) for b in batch]\n",
    "    targets = [b[\"target\"] for b in batch]\n",
    "\n",
    "    return {\"features\": torch.FloatTensor(features), \"targets\": torch.LongTensor(targets)}\n",
    "\n",
    "\n",
    "train_size = math.ceil(len(dev) * 0.8)\n",
    "\n",
    "train, valid = random_split(dev, [train_size, len(dev) - train_size])\n",
    "\n",
    "train_loader = DataLoader(train, batch_size=batch_size, num_workers=num_workers, shuffle=True, drop_last=True, collate_fn=average_emb)\n",
    "valid_loader = DataLoader(valid, batch_size=batch_size, num_workers=num_workers, shuffle=False, drop_last=False, collate_fn=average_emb)"
   ]
  },
  {
   "cell_type": "markdown",
   "metadata": {
    "id": "p-zs0WEK-Vkt"
   },
   "source": [
    "Определим функции для тренировки и теста модели:"
   ]
  },
  {
   "cell_type": "code",
   "execution_count": 20,
   "metadata": {
    "id": "U--T2Gjw1r27"
   },
   "outputs": [],
   "source": [
    "from tqdm.notebook import tqdm\n",
    "from sklearn.metrics import accuracy_score\n",
    "\n",
    "\n",
    "def training(model, optimizer, criterion, train_loader, epoch, device=\"cpu\"):\n",
    "    pbar = tqdm(train_loader, desc=f\"Epoch {e + 1}. Train Loss: {0}\")\n",
    "    model.train()\n",
    "    for batch in pbar:\n",
    "        features = batch[\"features\"].to(device)\n",
    "        targets = batch[\"targets\"].to(device)\n",
    "\n",
    "        # Получи предсказания модели\n",
    "        optimizer.zero_grad()\n",
    "        pred = model(features)\n",
    "        loss = criterion(pred, targets) # Посчитай лосс\n",
    "        # Обнови параметры модели\n",
    "        loss.backward()\n",
    "        optimizer.step()\n",
    "\n",
    "        pbar.set_description(f\"Epoch {e + 1}. Train Loss: {loss:.4}\")\n",
    "    \n",
    "\n",
    "def testing(model, criterion, test_loader, device=\"cpu\"):\n",
    "    pbar = tqdm(test_loader, desc=f\"Test Loss: {0}, Test Acc: {0}\")\n",
    "    mean_loss = 0\n",
    "    mean_acc = 0\n",
    "    model.eval()\n",
    "    with torch.no_grad():\n",
    "        for batch in pbar:\n",
    "            features = batch[\"features\"].to(device)\n",
    "            targets = batch[\"targets\"].to(device)\n",
    "            #print(features.shape)\n",
    "            #print(targets.shape)\n",
    "\n",
    "            # Получи предсказания модели\n",
    "            pred = model(features)\n",
    "            #print(pred.shape)\n",
    "            loss = criterion(pred, targets) # Посчитай лосс\n",
    "            pred = torch.argmax(pred, 1)\n",
    "            #print(pred.shape)\n",
    "            acc = accuracy_score(batch[\"targets\"], pred.cpu()) # Посчитай точность модели\n",
    "\n",
    "            mean_loss += loss.item()\n",
    "            mean_acc += acc.item()\n",
    "\n",
    "            pbar.set_description(f\"Test Loss: {loss:.4}, Test Acc: {acc:.4}\")\n",
    "\n",
    "    pbar.set_description(f\"Test Loss: {mean_loss / len(test_loader):.4}, Test Acc: {mean_acc / len(test_loader):.4}\")\n",
    "\n",
    "    return {\"Test Loss\": mean_loss / len(test_loader), \"Test Acc\": mean_acc / len(test_loader)}"
   ]
  },
  {
   "cell_type": "markdown",
   "metadata": {
    "id": "oVg_XBBb-YBH"
   },
   "source": [
    "Создадим модель, оптимизатор и целевую функцию. Вы можете сами выбрать количество слоев в нейронной сети, ваш любимый оптимизатор и целевую функцию.\n"
   ]
  },
  {
   "cell_type": "code",
   "execution_count": 21,
   "metadata": {
    "id": "EBoZ4F3Fx1Hm"
   },
   "outputs": [],
   "source": [
    "import torch.nn as nn\n",
    "from torch.optim import Adam\n",
    "\n",
    "\n",
    "# Не забудь поиграться с параметрами ;)\n",
    "vector_size = dev.word2vec.vector_size\n",
    "num_classes = 2\n",
    "lr = 1e-3\n",
    "num_epochs = 3\n",
    "\n",
    "class SimpleNet(nn.Module):\n",
    "  \n",
    "    def __init__(self, in_channels, n_classes):\n",
    "        super().__init__()\n",
    "        self.linear1 = nn.Linear(in_channels, in_channels * 2)\n",
    "        self.linear2 = nn.Linear(in_channels * 2, in_channels)\n",
    "        self.out = nn.Linear(in_channels, n_classes)\n",
    "  \n",
    "    def forward(self, x):\n",
    "        x = self.linear1(x)\n",
    "        x = self.linear2(x)\n",
    "        logits = self.out(x)\n",
    "        return logits\n",
    "\n",
    "model = SimpleNet(vector_size, num_classes)  # Твоя модель\n",
    "model = model.cuda()\n",
    "criterion = nn.CrossEntropyLoss()  # Твой лосс\n",
    "optimizer = torch.optim.Adam(model.parameters(), lr = lr)  # Твой оптимайзер"
   ]
  },
  {
   "cell_type": "markdown",
   "metadata": {
    "id": "-AitU8AR-zBj"
   },
   "source": [
    "Наконец, обучим модель и протестируем её.\n",
    "\n",
    "После каждой эпохи будем проверять качество модели на валидационной части датасета. Если метрика стала лучше, будем сохранять модель. **Подумайте, какая метрика (точность или лосс) будет лучше работать в этой задаче?** "
   ]
  },
  {
   "cell_type": "code",
   "execution_count": 22,
   "metadata": {
    "colab": {
     "base_uri": "https://localhost:8080/",
     "height": 362,
     "referenced_widgets": [
      "1c2b4fb00f114e5581446683ef7a2eca",
      "3345204010d748aea58e26d397c1facf",
      "a155a33c699840c0af6d540c529654ec",
      "9981028ed2f74992997e3afe07715c4c",
      "9b331e46efa74dce805dc5eaff6e6696",
      "792dcc8e5d45448685803b02b3e4b2b6",
      "66dbb72e5cc4421492c00a6f22542917",
      "fa69f185bf7b46079ae9314f05995866",
      "7b2599a8a3ef4e5f82044fc61eb07a7a",
      "0905de2634894da18dfc71bd31a259e3",
      "357b672ada0d4b0e9ccb3d98b6414cd1",
      "9bcab3d3ae64406fa127a119438053d3",
      "aa12f75bb5c84584a95fad8745529c3f",
      "85d69c50161a42cb807f4b67122d1194",
      "a53cc908b4ab4aa6b595d53fad9229fa",
      "e6bbef79aba44dfda4c0ffe1022abf4a",
      "95ce8d3534d34f7bb5eba59d41b81510",
      "dfa776c83dca4d6aa511ae3bb06c04f0",
      "ea3b6da790704745b7ce039a8406d0f9",
      "ce707fef9bf84341a3dd6de9f38aec22",
      "2cd5a6c9ecfc4fba938372a3c537500a",
      "b6ce03593d9c44f4bf037090050170c5",
      "dbd59a2190384e4e86a37176e4403c52",
      "cd53330702894a85bb3c7b486428562c",
      "52e5c2ed9e6f412d8054c4b288c086c3",
      "c602c87b61df4ff59c9b6bfd5f97e685",
      "62b4b086d8864f8c8201300feb2dc0e3",
      "d1fb0cc7bfe54d338ddf39cd43359f7b",
      "9518397cac354d06b932b531c10ee32f",
      "d92c1b23cbe240e7adad58d7d71064be",
      "63db20f791474805a466596064a54972",
      "a2dd039f7b204dab8fc812e93c1b06f3",
      "7814f38881df4e79afb93acf306bb631",
      "c6940dccb991407897554fda2bfbdece",
      "49d00a9b5b104476a0fcdca5e85a37f4",
      "80e60cb2e9b7496faf1f84e6a817fcfd",
      "e819c1db74da44eaa7ab3f1fd879c290",
      "0c515184678843a7ac7ed50e4b29bea1",
      "4093bc7d39024cb0981ea1f815020fcb",
      "5f7663ed36cd4f9cab33b35948a08071",
      "862c6cd0a99142d98dd01136933a0b8c",
      "68a27faca3c64205b07b8f8810d7bf90",
      "a0ae783a15404c13a01af257261d61d3",
      "df507826749f4996911f6fb7455d222b",
      "60c885924cb84d18aa60aae604ef817a",
      "bcd6e0d588e043d0b949c04b1a07da22",
      "36f3bd3e82c44e58a1664ed4eb0a4ce3",
      "dd3d7502fc9e439c9a236ca258a9c761"
     ]
    },
    "id": "gKhk71Pmx1F1",
    "outputId": "93c57aa6-0ffc-4599-9229-60befb5974c9"
   },
   "outputs": [
    {
     "data": {
      "application/vnd.jupyter.widget-view+json": {
       "model_id": "1c2b4fb00f114e5581446683ef7a2eca",
       "version_major": 2,
       "version_minor": 0
      },
      "text/plain": [
       "HBox(children=(FloatProgress(value=0.0, description='Epoch 1. Train Loss: 0', max=1000.0, style=ProgressStyle(…"
      ]
     },
     "metadata": {
      "tags": []
     },
     "output_type": "display_data"
    },
    {
     "name": "stdout",
     "output_type": "stream",
     "text": [
      "\n"
     ]
    },
    {
     "data": {
      "application/vnd.jupyter.widget-view+json": {
       "model_id": "7b2599a8a3ef4e5f82044fc61eb07a7a",
       "version_major": 2,
       "version_minor": 0
      },
      "text/plain": [
       "HBox(children=(FloatProgress(value=0.0, description='Test Loss: 0, Test Acc: 0', max=250.0, style=ProgressStyl…"
      ]
     },
     "metadata": {
      "tags": []
     },
     "output_type": "display_data"
    },
    {
     "name": "stdout",
     "output_type": "stream",
     "text": [
      "\n",
      "{'Test Loss': 0.5518179941177368, 'Test Acc': 0.72262890625}\n"
     ]
    },
    {
     "data": {
      "application/vnd.jupyter.widget-view+json": {
       "model_id": "95ce8d3534d34f7bb5eba59d41b81510",
       "version_major": 2,
       "version_minor": 0
      },
      "text/plain": [
       "HBox(children=(FloatProgress(value=0.0, description='Epoch 2. Train Loss: 0', max=1000.0, style=ProgressStyle(…"
      ]
     },
     "metadata": {
      "tags": []
     },
     "output_type": "display_data"
    },
    {
     "name": "stdout",
     "output_type": "stream",
     "text": [
      "\n"
     ]
    },
    {
     "data": {
      "application/vnd.jupyter.widget-view+json": {
       "model_id": "52e5c2ed9e6f412d8054c4b288c086c3",
       "version_major": 2,
       "version_minor": 0
      },
      "text/plain": [
       "HBox(children=(FloatProgress(value=0.0, description='Test Loss: 0, Test Acc: 0', max=250.0, style=ProgressStyl…"
      ]
     },
     "metadata": {
      "tags": []
     },
     "output_type": "display_data"
    },
    {
     "name": "stdout",
     "output_type": "stream",
     "text": [
      "\n",
      "{'Test Loss': 0.5527972233295441, 'Test Acc': 0.72137109375}\n"
     ]
    },
    {
     "data": {
      "application/vnd.jupyter.widget-view+json": {
       "model_id": "7814f38881df4e79afb93acf306bb631",
       "version_major": 2,
       "version_minor": 0
      },
      "text/plain": [
       "HBox(children=(FloatProgress(value=0.0, description='Epoch 3. Train Loss: 0', max=1000.0, style=ProgressStyle(…"
      ]
     },
     "metadata": {
      "tags": []
     },
     "output_type": "display_data"
    },
    {
     "name": "stdout",
     "output_type": "stream",
     "text": [
      "\n"
     ]
    },
    {
     "data": {
      "application/vnd.jupyter.widget-view+json": {
       "model_id": "862c6cd0a99142d98dd01136933a0b8c",
       "version_major": 2,
       "version_minor": 0
      },
      "text/plain": [
       "HBox(children=(FloatProgress(value=0.0, description='Test Loss: 0, Test Acc: 0', max=250.0, style=ProgressStyl…"
      ]
     },
     "metadata": {
      "tags": []
     },
     "output_type": "display_data"
    },
    {
     "name": "stdout",
     "output_type": "stream",
     "text": [
      "\n",
      "{'Test Loss': 0.5509700813293457, 'Test Acc': 0.72398046875}\n"
     ]
    }
   ],
   "source": [
    "best_metric = np.inf\n",
    "for e in range(num_epochs):\n",
    "    training(model, optimizer, criterion, train_loader, e, device)\n",
    "    log = testing(model, criterion, valid_loader, device)\n",
    "    print(log)\n",
    "    if log[\"Test Loss\"] < best_metric:\n",
    "        torch.save(model.state_dict(), \"model.pt\")\n",
    "        best_metric = log[\"Test Loss\"]"
   ]
  },
  {
   "cell_type": "code",
   "execution_count": 23,
   "metadata": {
    "colab": {
     "base_uri": "https://localhost:8080/",
     "height": 83,
     "referenced_widgets": [
      "b7534f9aa837432f9a688f7eaeb7ed08",
      "3741527aa5ab4ff5a5f1ea5a89f9b5ab",
      "e474ffeba70f42b2b0cab83d58b6d15a",
      "c87942e29a28439ab404476a68304a80",
      "d64f584e317647ad95d2dd65facb8af7",
      "fd77ad0eb04748288a864b26a1dc775e",
      "bdc21897b601411284927c8e166c7cbc",
      "31974821ac4f46dab3fa69a7b18eaf2f"
     ]
    },
    "id": "di4dGwD4x1Dt",
    "outputId": "6a878aec-583a-4e6d-9496-a38e2e3e4d0d"
   },
   "outputs": [
    {
     "data": {
      "application/vnd.jupyter.widget-view+json": {
       "model_id": "b7534f9aa837432f9a688f7eaeb7ed08",
       "version_major": 2,
       "version_minor": 0
      },
      "text/plain": [
       "HBox(children=(FloatProgress(value=0.0, description='Test Loss: 0, Test Acc: 0', max=313.0, style=ProgressStyl…"
      ]
     },
     "metadata": {
      "tags": []
     },
     "output_type": "display_data"
    },
    {
     "name": "stdout",
     "output_type": "stream",
     "text": [
      "\n",
      "{'Test Loss': 0.5526549376237887, 'Test Acc': 0.7226936900958466}\n"
     ]
    }
   ],
   "source": [
    "test_loader = DataLoader(\n",
    "    TwitterDataset(test_data, \"text\", \"emotion\", word2vec), \n",
    "    batch_size=batch_size, \n",
    "    num_workers=num_workers, \n",
    "    shuffle=False,\n",
    "    drop_last=False, \n",
    "    collate_fn=average_emb)\n",
    "\n",
    "model.load_state_dict(torch.load(\"model.pt\", map_location=device))\n",
    "\n",
    "print(testing(model, criterion, test_loader, device=device))"
   ]
  },
  {
   "cell_type": "markdown",
   "metadata": {
    "id": "ZRvzpldHSAu0"
   },
   "source": [
    "## Embeddings for unknown words (8 баллов)\n",
    "\n",
    "Пока что использовалась не вся информация из текста. Часть информации фильтровалось – если слова не было в словаре эмбеддингов, то мы просто превращали слово в нулевой вектор. Хочется использовать информацию по-максимуму. Поэтому рассмотрим другие способы обработки слов, которых нет в словаре. А именно:\n",
    "\n",
    "- Для каждого незнакомого слова будем запоминать его контекст(слова слева и справа от этого слова). Эмбеддингом нашего незнакомого слова будет сумма эмбеддингов всех слов из его контекста. (4 балла)\n",
    "- Для каждого слова текста получим его эмбеддинг из Tfidf с помощью ```TfidfVectorizer``` из [sklearn](https://scikit-learn.org/stable/modules/generated/sklearn.feature_extraction.text.TfidfVectorizer.html#sklearn.feature_extraction.text.TfidfVectorizer). Итоговым эмбеддингом для каждого слова будет сумма двух эмбеддингов: предобученного и Tfidf-ного. Для слов, которых нет в словаре предобученных эмбеддингов, результирующий эмбеддинг будет просто полученный из Tfidf. (4 балла)\n",
    "\n",
    "Реализуйте оба варианта **ниже**. Напишите, какой способ сработал лучше и ваши мысли, почему так получилось."
   ]
  },
  {
   "cell_type": "markdown",
   "metadata": {
    "id": "zOON4dVrwJUz"
   },
   "source": [
    "**Вариант 1** - добавление эмбеддингов соседних слов если центральное незнакомо. Беру по 1 слову слева и справа. Если центральное слово крайнее (первое или последнее), то беру только одно соседнее.\n",
    "\n",
    "Получение эмбеддингов реализовано в даталоадере"
   ]
  },
  {
   "cell_type": "code",
   "execution_count": 24,
   "metadata": {
    "id": "RxhEpKalU1UQ"
   },
   "outputs": [],
   "source": [
    "class NewTwitterDataset(Dataset):\n",
    "    def __init__(self, data: pd.DataFrame, feature_column: str, target_column: str, word2vec: gensim.models.Word2Vec):\n",
    "        self.tokenizer = nltk.WordPunctTokenizer()\n",
    "        \n",
    "        self.data = data\n",
    "\n",
    "        self.feature_column = feature_column\n",
    "        self.target_column = target_column\n",
    "\n",
    "        self.word2vec = word2vec\n",
    "\n",
    "        self.label2num = lambda label: 0 if label == 0 else 1\n",
    "        self.mean = np.mean(word2vec.vectors, axis=0)\n",
    "        self.std = np.std(word2vec.vectors, axis=0)\n",
    "\n",
    "    def __getitem__(self, item):\n",
    "        text = self.data[self.feature_column][item]\n",
    "        label = self.label2num(self.data[self.target_column][item])\n",
    "\n",
    "        tokens = self.get_tokens_(text)\n",
    "        embeddings = self.get_embeddings_(tokens)\n",
    "\n",
    "        return {\"feature\": embeddings, \"target\": label}\n",
    "\n",
    "    def get_tokens_(self, text):\n",
    "        # Получи все токены из текста и профильтруй их\n",
    "        tokens = self.tokenizer.tokenize(text.lower())\n",
    "        tokens = [w for w in tokens if all(c not in string.punctuation for c in w) and len(w) > 1]\n",
    "        return tokens\n",
    "\n",
    "    def get_embeddings_(self, tokens):\n",
    "        #embeddings = # Получи эмбеддинги слов и усредни их\n",
    "        embeddings = []\n",
    "        for i in range(len(tokens)):\n",
    "            temp_emb = []\n",
    "            if tokens[i] in self.word2vec:\n",
    "                embeddings.append((self.word2vec.get_vector(tokens[i]) - self.mean) / self.std)\n",
    "            else:\n",
    "                if i == 0 and len(tokens) > 1:\n",
    "                    embeddings.append(((self.word2vec.get_vector(tokens[i + 1]) - self.mean) / self.std) if tokens[i + 1] in self.word2vec else np.zeros(300))\n",
    "                elif i != 0 and i == (len(tokens) - 1):\n",
    "                    embeddings.append(((self.word2vec.get_vector(tokens[i - 1]) - self.mean) / self.std) if tokens[i - 1] in self.word2vec else np.zeros(300))\n",
    "                elif i > 0 and i < (len(tokens) - 1):\n",
    "                    temp_emb.append(self.word2vec.get_vector(tokens[i + 1]) if tokens[i + 1] in self.word2vec else np.zeros(300))\n",
    "                    temp_emb.append(self.word2vec.get_vector(tokens[i - 1]) if tokens[i - 1] in self.word2vec else np.zeros(300))\n",
    "                    embeddings.append((sum(temp_emb) - self.mean) / self.std)\n",
    "        #embeddings = [(self.word2vec.get_vector(w) - self.mean) / self.std for w in tokens if w in self.word2vec and len(w) > 3]\n",
    "\n",
    "        if len(embeddings) == 0:\n",
    "            embeddings = np.zeros((1, self.word2vec.vector_size))\n",
    "        else:\n",
    "            embeddings = np.array(embeddings)\n",
    "            if len(embeddings.shape) == 1:\n",
    "                embeddings = embeddings.reshape(-1, 1)\n",
    "\n",
    "        return embeddings\n",
    "\n",
    "    def __len__(self):\n",
    "        return self.data.shape[0]"
   ]
  },
  {
   "cell_type": "code",
   "execution_count": 25,
   "metadata": {
    "id": "wHMvKhMMSF45"
   },
   "outputs": [],
   "source": [
    "new_dev = NewTwitterDataset(dev_data, \"text\", \"emotion\", word2vec)"
   ]
  },
  {
   "cell_type": "code",
   "execution_count": 26,
   "metadata": {
    "id": "FFi72pONS_rE"
   },
   "outputs": [],
   "source": [
    "train_size = math.ceil(len(new_dev) * 0.8)\n",
    "\n",
    "train, valid = random_split(new_dev, [train_size, len(new_dev) - train_size])\n",
    "\n",
    "train_loader = DataLoader(train, batch_size=batch_size, num_workers=num_workers, shuffle=True, drop_last=True, collate_fn=average_emb)\n",
    "valid_loader = DataLoader(valid, batch_size=batch_size, num_workers=num_workers, shuffle=False, drop_last=False, collate_fn=average_emb)\n",
    "\n",
    "#model = SimpleNet(vector_size, num_classes)  # Твоя модель\n",
    "#model = model.cuda()"
   ]
  },
  {
   "cell_type": "code",
   "execution_count": 27,
   "metadata": {
    "colab": {
     "base_uri": "https://localhost:8080/",
     "height": 362,
     "referenced_widgets": [
      "3800c16b4ef74299a1f9413ff133d276",
      "20280c083f684139b9b1bf7d71de3451",
      "f29339cc39824d73931b6dfdb5210a15",
      "6b785e5912f44a7ca99903a71c6058d3",
      "f538015cfc7a431f9cd37321d8277f0e",
      "a5968d9d3cc945eea8b2d55585cc357a",
      "534e310c0b4646489581e8d353d3fbf1",
      "62761a4b4968469a9c9af3b8c9a8e42b",
      "3a0dfa9e938f4a94bd924b1f34c7e2c7",
      "93260847d7cf4d7b96401d414eec7b69",
      "4dac8d937aef4f6593d4a55d9675e922",
      "8d46b19f88294b77afe6dfbf4ab6e379",
      "88840c1138d249e58a81eccf2c4513f3",
      "3b94decc773d4cdeaed2b9eec56c5310",
      "e119bc1fdb714327a179a8d2831705f4",
      "0659a414abb24ebfa943f3ba7809fb2a",
      "6d586a3b933e4334895be6e27eed424f",
      "f67c8fc93f954a9fba63789439301421",
      "bc566a49a306402089985dc8f6b2a343",
      "4e8c2ebb51a647f7adb19ace42aa1ad6",
      "ee5eb94c835b4fb4be99d18f732a1c24",
      "cf785761c2f64afb987804272e16a43c",
      "2228fe53bc65408ca2f0f6088c499c3b",
      "cf96ea67b3ff45ddbb770a9011738d87",
      "73af25fc5a4445a8b245c8d3727ee29f",
      "7bc8d690fb46468db460a3e6e66e38e6",
      "e13c59394db0453ca730c52999aad54e",
      "4daa983f85db4281af9631bf390a9271",
      "ab0927b6115f4e9c8b04018e7310a552",
      "ab52cdd0bd2b45828ce0d8f010a86420",
      "00fb62f35d7e4bff9e5e8b2cc0b813d9",
      "198ad8364224475da065fc9904761e76",
      "5e42141f96c149e2bfc3910e34d82aa2",
      "800d0dc645a04a36815df6e6451ca423",
      "6b51ec90fa444953abfe56c196b7b5b5",
      "6911ca76b0a34501af252685d790ac5a",
      "4967e9045dcf44de9a1f69d6718d1e38",
      "2c8908b979f54677884dd4def30aec9c",
      "65581b479ceb41db9b53c997cdd78fc6",
      "8898b037993848dda0474a6d083ec735",
      "67c39328d0484a70a04bdc97fd1c2f82",
      "a5ef508f92f1431ca595ae9e3524e4e8",
      "8a65eb63daa54d29a4e610ced076bad8",
      "cb5e88f47cf744dc837078444c06198f",
      "89378fb0cf9d4a76beb0ffa8f3ef50b6",
      "572ddbed0b3f4d789e8991522d272c11",
      "dd05922591af4acaa50eb6665a060f32",
      "bbcda39dd6b947d6a5559226939b3ff4"
     ]
    },
    "id": "WRwRODbfSXxI",
    "outputId": "78b7e42c-99d7-4189-b934-24f1d52faa43"
   },
   "outputs": [
    {
     "data": {
      "application/vnd.jupyter.widget-view+json": {
       "model_id": "3800c16b4ef74299a1f9413ff133d276",
       "version_major": 2,
       "version_minor": 0
      },
      "text/plain": [
       "HBox(children=(FloatProgress(value=0.0, description='Epoch 1. Train Loss: 0', max=1000.0, style=ProgressStyle(…"
      ]
     },
     "metadata": {
      "tags": []
     },
     "output_type": "display_data"
    },
    {
     "name": "stdout",
     "output_type": "stream",
     "text": [
      "\n"
     ]
    },
    {
     "data": {
      "application/vnd.jupyter.widget-view+json": {
       "model_id": "3a0dfa9e938f4a94bd924b1f34c7e2c7",
       "version_major": 2,
       "version_minor": 0
      },
      "text/plain": [
       "HBox(children=(FloatProgress(value=0.0, description='Test Loss: 0, Test Acc: 0', max=250.0, style=ProgressStyl…"
      ]
     },
     "metadata": {
      "tags": []
     },
     "output_type": "display_data"
    },
    {
     "name": "stdout",
     "output_type": "stream",
     "text": [
      "\n",
      "{'Test Loss': 0.529288833975792, 'Test Acc': 0.73965625}\n"
     ]
    },
    {
     "data": {
      "application/vnd.jupyter.widget-view+json": {
       "model_id": "6d586a3b933e4334895be6e27eed424f",
       "version_major": 2,
       "version_minor": 0
      },
      "text/plain": [
       "HBox(children=(FloatProgress(value=0.0, description='Epoch 2. Train Loss: 0', max=1000.0, style=ProgressStyle(…"
      ]
     },
     "metadata": {
      "tags": []
     },
     "output_type": "display_data"
    },
    {
     "name": "stdout",
     "output_type": "stream",
     "text": [
      "\n"
     ]
    },
    {
     "data": {
      "application/vnd.jupyter.widget-view+json": {
       "model_id": "73af25fc5a4445a8b245c8d3727ee29f",
       "version_major": 2,
       "version_minor": 0
      },
      "text/plain": [
       "HBox(children=(FloatProgress(value=0.0, description='Test Loss: 0, Test Acc: 0', max=250.0, style=ProgressStyl…"
      ]
     },
     "metadata": {
      "tags": []
     },
     "output_type": "display_data"
    },
    {
     "name": "stdout",
     "output_type": "stream",
     "text": [
      "\n",
      "{'Test Loss': 0.5297826253175736, 'Test Acc': 0.7397265625}\n"
     ]
    },
    {
     "data": {
      "application/vnd.jupyter.widget-view+json": {
       "model_id": "5e42141f96c149e2bfc3910e34d82aa2",
       "version_major": 2,
       "version_minor": 0
      },
      "text/plain": [
       "HBox(children=(FloatProgress(value=0.0, description='Epoch 3. Train Loss: 0', max=1000.0, style=ProgressStyle(…"
      ]
     },
     "metadata": {
      "tags": []
     },
     "output_type": "display_data"
    },
    {
     "name": "stdout",
     "output_type": "stream",
     "text": [
      "\n"
     ]
    },
    {
     "data": {
      "application/vnd.jupyter.widget-view+json": {
       "model_id": "67c39328d0484a70a04bdc97fd1c2f82",
       "version_major": 2,
       "version_minor": 0
      },
      "text/plain": [
       "HBox(children=(FloatProgress(value=0.0, description='Test Loss: 0, Test Acc: 0', max=250.0, style=ProgressStyl…"
      ]
     },
     "metadata": {
      "tags": []
     },
     "output_type": "display_data"
    },
    {
     "name": "stdout",
     "output_type": "stream",
     "text": [
      "\n",
      "{'Test Loss': 0.529699500799179, 'Test Acc': 0.74134765625}\n"
     ]
    }
   ],
   "source": [
    "best_metric = np.inf\n",
    "for e in range(num_epochs):\n",
    "    training(model, optimizer, criterion, train_loader, e, device)\n",
    "    log = testing(model, criterion, valid_loader, device)\n",
    "    print(log)\n",
    "    if log[\"Test Loss\"] < best_metric:\n",
    "        torch.save(model.state_dict(), \"model.pt\")\n",
    "        best_metric = log[\"Test Loss\"]"
   ]
  },
  {
   "cell_type": "code",
   "execution_count": 28,
   "metadata": {
    "colab": {
     "base_uri": "https://localhost:8080/",
     "height": 83,
     "referenced_widgets": [
      "ff06c95ea66745e1b00aa42d3374d961",
      "0c94957716aa4a13b9c7c0438ea05190",
      "2197f7482d3b4c13906896630cbabf36",
      "2c6d125fb50847caa8cf2d62e8f99ee8",
      "e344d332366d4b7f9ebf3cc6f779a155",
      "f9ea90437981402380fb3122154bccc4",
      "222f03a6fae14ae2a2d122e39eb6860a",
      "4b04b4f58e2d475ca2d21c2bb925cb54"
     ]
    },
    "id": "alZjEvWKSd5c",
    "outputId": "21d19f10-da1b-44c6-b58c-d537b964a48f"
   },
   "outputs": [
    {
     "data": {
      "application/vnd.jupyter.widget-view+json": {
       "model_id": "ff06c95ea66745e1b00aa42d3374d961",
       "version_major": 2,
       "version_minor": 0
      },
      "text/plain": [
       "HBox(children=(FloatProgress(value=0.0, description='Test Loss: 0, Test Acc: 0', max=313.0, style=ProgressStyl…"
      ]
     },
     "metadata": {
      "tags": []
     },
     "output_type": "display_data"
    },
    {
     "name": "stdout",
     "output_type": "stream",
     "text": [
      "\n",
      "{'Test Loss': 0.5768803832249139, 'Test Acc': 0.7165722344249201}\n"
     ]
    }
   ],
   "source": [
    "test_loader = DataLoader(\n",
    "    TwitterDataset(test_data, \"text\", \"emotion\", word2vec), \n",
    "    batch_size=batch_size, \n",
    "    num_workers=num_workers, \n",
    "    shuffle=False,\n",
    "    drop_last=False, \n",
    "    collate_fn=average_emb)\n",
    "\n",
    "model.load_state_dict(torch.load(\"model.pt\", map_location=device))\n",
    "\n",
    "print(testing(model, criterion, test_loader, device=device))"
   ]
  },
  {
   "cell_type": "markdown",
   "metadata": {
    "id": "tTQpskTiwdow"
   },
   "source": [
    "**Вариант 2** Для каждого слова текста получим его эмбеддинг из Tfidf с помощью TfidfVectorizer из sklearn. Итоговым эмбеддингом для каждого слова будет сумма двух эмбеддингов: предобученного и Tfidf-ного. Для слов, которых нет в словаре предобученных эмбеддингов, результирующий эмбеддинг будет просто полученный из Tfidf.\n",
    " \n",
    "Получение эмбеддингов реализовано в даталоадере"
   ]
  },
  {
   "cell_type": "code",
   "execution_count": 29,
   "metadata": {
    "id": "SalXahC51ArL"
   },
   "outputs": [],
   "source": [
    "from sklearn.feature_extraction.text import TfidfVectorizer"
   ]
  },
  {
   "cell_type": "code",
   "execution_count": 30,
   "metadata": {
    "id": "Kphzk9GY1Gnq"
   },
   "outputs": [],
   "source": [
    "tf_idf_vectorizer = TfidfVectorizer()\n",
    "tf_idf_vectorizer.fit(data[\"text\"])\n",
    "tf_idf_vocab = tf_idf_vectorizer.get_feature_names()"
   ]
  },
  {
   "cell_type": "code",
   "execution_count": 31,
   "metadata": {
    "id": "F4YElmocEhpz"
   },
   "outputs": [],
   "source": [
    "idf = tf_idf_vectorizer.idf_\n",
    "tf_idf_dict = dict(zip(tf_idf_vectorizer.get_feature_names(), idf))"
   ]
  },
  {
   "cell_type": "code",
   "execution_count": 32,
   "metadata": {
    "colab": {
     "base_uri": "https://localhost:8080/"
    },
    "id": "DhFgVM-cFO0p",
    "outputId": "0514490a-58a0-4eeb-a900-db7043568659"
   },
   "outputs": [
    {
     "data": {
      "text/plain": [
       "9.095199406356667"
      ]
     },
     "execution_count": 32,
     "metadata": {
      "tags": []
     },
     "output_type": "execute_result"
    }
   ],
   "source": [
    "tf_idf_dict.get('print')"
   ]
  },
  {
   "cell_type": "code",
   "execution_count": 33,
   "metadata": {
    "id": "OOQQRkerwqhn"
   },
   "outputs": [],
   "source": [
    "class TfIdfTwitterDataset(Dataset):\n",
    "    def __init__(self, data: pd.DataFrame, feature_column: str, target_column: str, \n",
    "                 word2vec: gensim.models.Word2Vec, tf_idf_dict: dict):\n",
    "        self.tokenizer = nltk.WordPunctTokenizer()\n",
    "        \n",
    "        self.data = data\n",
    "\n",
    "        self.feature_column = feature_column\n",
    "        self.target_column = target_column\n",
    "\n",
    "        self.word2vec = word2vec\n",
    "        self.tf_idf_dict = tf_idf_dict\n",
    "\n",
    "        self.label2num = lambda label: 0 if label == 0 else 1\n",
    "        self.mean = np.mean(word2vec.vectors, axis=0)\n",
    "        self.std = np.std(word2vec.vectors, axis=0)\n",
    "\n",
    "    def __getitem__(self, item):\n",
    "        text = self.data[self.feature_column][item]\n",
    "        label = self.label2num(self.data[self.target_column][item])\n",
    "\n",
    "        tokens = self.get_tokens_(text)\n",
    "        embeddings = self.get_embeddings_(tokens)\n",
    "\n",
    "        return {\"feature\": embeddings, \"target\": label}\n",
    "\n",
    "    def get_tokens_(self, text):\n",
    "        # Получи все токены из текста и профильтруй их\n",
    "        tokens = self.tokenizer.tokenize(text.lower())\n",
    "        tokens = [w for w in tokens if all(c not in string.punctuation for c in w) and len(w) > 3]\n",
    "        return tokens\n",
    "\n",
    "    def get_embeddings_(self, tokens):\n",
    "        #embeddings = # Получи эмбеддинги слов и усредни их\n",
    "        embeddings = []\n",
    "        for w in tokens:\n",
    "            temp_emb.append((self.word2vec.get_vector(w) - self.mean))\n",
    "            if w in self.word2vec:\n",
    "                embeddings.append(((self.word2vec.get_vector(w) + tf_idf_dict.get(w)) - self.mean) / self.std)\n",
    "            else: \n",
    "                embeddings.append(((np.zeros(300) + tf_idf_dict.get(w)) - self.mean) / self.std)\n",
    "\n",
    "        #embeddings = [(self.word2vec.get_vector(w) - self.mean) / self.std for w in tokens if w in self.word2vec and len(w) > 3]\n",
    "\n",
    "        if len(embeddings) == 0:\n",
    "            embeddings = np.zeros((1, self.word2vec.vector_size))\n",
    "        else:\n",
    "            embeddings = np.array(embeddings)\n",
    "            if len(embeddings.shape) == 1:\n",
    "                embeddings = embeddings.reshape(-1, 1)\n",
    "\n",
    "        return embeddings\n",
    "\n",
    "    def __len__(self):\n",
    "        return self.data.shape[0]"
   ]
  },
  {
   "cell_type": "code",
   "execution_count": 34,
   "metadata": {
    "id": "u3O0UkVHIB4C"
   },
   "outputs": [],
   "source": [
    "tfidf_dev = TfIdfTwitterDataset(dev_data, \"text\", \"emotion\", word2vec, tf_idf_dict)"
   ]
  },
  {
   "cell_type": "code",
   "execution_count": 35,
   "metadata": {
    "id": "5nwUruTwIJlA"
   },
   "outputs": [],
   "source": [
    "train_size = math.ceil(len(new_dev) * 0.8)\n",
    "\n",
    "train, valid = random_split(new_dev, [train_size, len(new_dev) - train_size])\n",
    "\n",
    "train_loader = DataLoader(train, batch_size=batch_size, num_workers=num_workers, shuffle=True, drop_last=True, collate_fn=average_emb)\n",
    "valid_loader = DataLoader(valid, batch_size=batch_size, num_workers=num_workers, shuffle=False, drop_last=False, collate_fn=average_emb)\n",
    "\n",
    "#model1 = SimpleNet(vector_size, num_classes)  # Твоя модель\n",
    "#model1 = model1.cuda()"
   ]
  },
  {
   "cell_type": "code",
   "execution_count": 36,
   "metadata": {
    "colab": {
     "base_uri": "https://localhost:8080/",
     "height": 362,
     "referenced_widgets": [
      "748862a397804188b89d1c686e455aa7",
      "35f70ce55b2b4938a5a36b3328cf2360",
      "383fd624ff7a445eb43f1aa0cc91f7fe",
      "ed6df54b6dc74508b9614818d688c542",
      "5e58c6d5f9dd46c1846df04fad29cacf",
      "18e850ec6777458485884c3728af84a1",
      "717301ef909c452abb019fabe2a90835",
      "5274a7220e7d4e8d995d8976a5b0b2e9",
      "9dc9aa67370347869a0145405c56799c",
      "e3d6ddabc07142dfba5a98243c248165",
      "5fff4c52bc524555ae23f58ce2128483",
      "a359465a95634e91a28f566b012d9ab7",
      "ce2c7ebc6cc94c50a945648040db0fa1",
      "f458177b9d00478f90691e6f7240ddf0",
      "c462f8e62f4540fdb033e818103fe7bb",
      "9d4089e0049740f6b15caa65ef105cb6",
      "3d416fd560634f3696bec0489660cff7",
      "30b4ccb8603c435ebe80c8cae2be0440",
      "a986381a054a44b39035031bf11521b2",
      "190eaddaefe047dcb15678cad8282e18",
      "012a76a2dbce4f5ab2e59611607178b9",
      "1349b0b6d6ca4903a3043aed472b1268",
      "213ed83e51e942249857951951771788",
      "06f7112a261043d897738f29eb618681",
      "49bf0ec16be649f8bb6e0f5639838e04",
      "9c50b843a0bc40ab8c3130adc179d1ce",
      "870f4b0916424ee99144e65e9deacfc6",
      "481e76cd936c4f0686b4ef46a2973c5d",
      "5e922280752c433187b36c811ba91fd9",
      "512c8f08ed174137b94f63dc57c96114",
      "209ae4c613374fe4a0dc95a1fa662380",
      "3c38e88702f042dc8871c99898c3dff9",
      "fe0f6fb2c3d74446843dd0c27aa75f61",
      "656c354da7c64097844379ef32ea2391",
      "65d3ac41a3d44192809c12aa8e7e9b92",
      "1493c52a8e574c7fa5d8ccdca844d532",
      "417c08345d4f49c3b9ce1ce6d9117565",
      "8f6a514c68b647538c2f977e60729bed",
      "4fddde16a67e4a02b062b34f67a4adfc",
      "d60eb5aadb2f4dc68733414e3c1ba964",
      "5471950ee3e54234b10eaa927c8a185c",
      "e98f213d8ab94e748a8820eed42c8a8a",
      "f6f20e11e38040a89c268f05ae57cbc5",
      "678ab98dbd5442aaac3d7fc19eaf3942",
      "731e259f604a48e1aa6a793f5d5e86f6",
      "deeae08be5e6405fbb805b5a486071d5",
      "30973b115e884f09979070631ecce8e9",
      "9b9f556bfb2d4e1d842e1f0020b5b067"
     ]
    },
    "id": "QjYCMh0FIctT",
    "outputId": "263d801a-1b01-4f5f-ffce-f54728be0b62"
   },
   "outputs": [
    {
     "data": {
      "application/vnd.jupyter.widget-view+json": {
       "model_id": "748862a397804188b89d1c686e455aa7",
       "version_major": 2,
       "version_minor": 0
      },
      "text/plain": [
       "HBox(children=(FloatProgress(value=0.0, description='Epoch 1. Train Loss: 0', max=1000.0, style=ProgressStyle(…"
      ]
     },
     "metadata": {
      "tags": []
     },
     "output_type": "display_data"
    },
    {
     "name": "stdout",
     "output_type": "stream",
     "text": [
      "\n"
     ]
    },
    {
     "data": {
      "application/vnd.jupyter.widget-view+json": {
       "model_id": "9dc9aa67370347869a0145405c56799c",
       "version_major": 2,
       "version_minor": 0
      },
      "text/plain": [
       "HBox(children=(FloatProgress(value=0.0, description='Test Loss: 0, Test Acc: 0', max=250.0, style=ProgressStyl…"
      ]
     },
     "metadata": {
      "tags": []
     },
     "output_type": "display_data"
    },
    {
     "name": "stdout",
     "output_type": "stream",
     "text": [
      "\n",
      "{'Test Loss': 0.5298411495685578, 'Test Acc': 0.73724609375}\n"
     ]
    },
    {
     "data": {
      "application/vnd.jupyter.widget-view+json": {
       "model_id": "3d416fd560634f3696bec0489660cff7",
       "version_major": 2,
       "version_minor": 0
      },
      "text/plain": [
       "HBox(children=(FloatProgress(value=0.0, description='Epoch 2. Train Loss: 0', max=1000.0, style=ProgressStyle(…"
      ]
     },
     "metadata": {
      "tags": []
     },
     "output_type": "display_data"
    },
    {
     "name": "stdout",
     "output_type": "stream",
     "text": [
      "\n"
     ]
    },
    {
     "data": {
      "application/vnd.jupyter.widget-view+json": {
       "model_id": "49bf0ec16be649f8bb6e0f5639838e04",
       "version_major": 2,
       "version_minor": 0
      },
      "text/plain": [
       "HBox(children=(FloatProgress(value=0.0, description='Test Loss: 0, Test Acc: 0', max=250.0, style=ProgressStyl…"
      ]
     },
     "metadata": {
      "tags": []
     },
     "output_type": "display_data"
    },
    {
     "name": "stdout",
     "output_type": "stream",
     "text": [
      "\n",
      "{'Test Loss': 0.5310283641815186, 'Test Acc': 0.73851171875}\n"
     ]
    },
    {
     "data": {
      "application/vnd.jupyter.widget-view+json": {
       "model_id": "fe0f6fb2c3d74446843dd0c27aa75f61",
       "version_major": 2,
       "version_minor": 0
      },
      "text/plain": [
       "HBox(children=(FloatProgress(value=0.0, description='Epoch 3. Train Loss: 0', max=1000.0, style=ProgressStyle(…"
      ]
     },
     "metadata": {
      "tags": []
     },
     "output_type": "display_data"
    },
    {
     "name": "stdout",
     "output_type": "stream",
     "text": [
      "\n"
     ]
    },
    {
     "data": {
      "application/vnd.jupyter.widget-view+json": {
       "model_id": "5471950ee3e54234b10eaa927c8a185c",
       "version_major": 2,
       "version_minor": 0
      },
      "text/plain": [
       "HBox(children=(FloatProgress(value=0.0, description='Test Loss: 0, Test Acc: 0', max=250.0, style=ProgressStyl…"
      ]
     },
     "metadata": {
      "tags": []
     },
     "output_type": "display_data"
    },
    {
     "name": "stdout",
     "output_type": "stream",
     "text": [
      "\n",
      "{'Test Loss': 0.5302018361091614, 'Test Acc': 0.737328125}\n"
     ]
    }
   ],
   "source": [
    "best_metric = np.inf\n",
    "for e in range(num_epochs):\n",
    "    training(model, optimizer, criterion, train_loader, e, device)\n",
    "    log = testing(model, criterion, valid_loader, device)\n",
    "    print(log)\n",
    "    if log[\"Test Loss\"] < best_metric:\n",
    "        torch.save(model.state_dict(), \"model.pt\")\n",
    "        best_metric = log[\"Test Loss\"]"
   ]
  },
  {
   "cell_type": "code",
   "execution_count": 37,
   "metadata": {
    "colab": {
     "base_uri": "https://localhost:8080/",
     "height": 83,
     "referenced_widgets": [
      "f624a6572a2d42b7ae19a0345fd2b6fc",
      "c3b89564a03f412886005ac9901a0ee8",
      "a585367d31ea48499b046f78ae44ebd8",
      "34248cf7d444400b908f1fccc2ebb3fd",
      "680dc515047c438e906420307045cdf3",
      "010ada69fe5543ff9f298f2444416421",
      "c0f1cae5ff18421fa6d233c1d0e5758a",
      "9dc9c1c06b44453ab0d1019b05165ad4"
     ]
    },
    "id": "AlCCWAXnIjjj",
    "outputId": "6c9b0180-1cad-489e-f241-03fd3576602a"
   },
   "outputs": [
    {
     "data": {
      "application/vnd.jupyter.widget-view+json": {
       "model_id": "f624a6572a2d42b7ae19a0345fd2b6fc",
       "version_major": 2,
       "version_minor": 0
      },
      "text/plain": [
       "HBox(children=(FloatProgress(value=0.0, description='Test Loss: 0, Test Acc: 0', max=313.0, style=ProgressStyl…"
      ]
     },
     "metadata": {
      "tags": []
     },
     "output_type": "display_data"
    },
    {
     "name": "stdout",
     "output_type": "stream",
     "text": [
      "\n",
      "{'Test Loss': 0.5777208327104489, 'Test Acc': 0.7166720746805112}\n"
     ]
    }
   ],
   "source": [
    "test_loader = DataLoader(\n",
    "    TwitterDataset(test_data, \"text\", \"emotion\", word2vec), \n",
    "    batch_size=batch_size, \n",
    "    num_workers=num_workers, \n",
    "    shuffle=False,\n",
    "    drop_last=False, \n",
    "    collate_fn=average_emb)\n",
    "\n",
    "model.load_state_dict(torch.load(\"model.pt\", map_location=device))\n",
    "\n",
    "print(testing(model, criterion, test_loader, device=device))"
   ]
  },
  {
   "cell_type": "markdown",
   "metadata": {
    "id": "KNlPa31bLsjd"
   },
   "source": [
    "При попытке обучать модель заново по вариантам 1 и 2 качество заметно ухудшалось. Лосс поднимался до 0.60, accuracy снижалось до 0,52. При дообучении первоначальной модели качество немного, но все-таки улучшилось при добавление контекстных эмбеддингов и не изменилось при добавлении tf-idf векторизации."
   ]
  }
 ],
 "metadata": {
  "accelerator": "GPU",
  "colab": {
   "collapsed_sections": [],
   "name": "Copy of [homework]embeddings.ipynb",
   "provenance": []
  },
  "kernelspec": {
   "display_name": "Python 3",
   "language": "python",
   "name": "python3"
  },
  "language_info": {
   "codemirror_mode": {
    "name": "ipython",
    "version": 3
   },
   "file_extension": ".py",
   "mimetype": "text/x-python",
   "name": "python",
   "nbconvert_exporter": "python",
   "pygments_lexer": "ipython3",
   "version": "3.8.5"
  },
  "widgets": {
   "application/vnd.jupyter.widget-state+json": {
    "00fb62f35d7e4bff9e5e8b2cc0b813d9": {
     "model_module": "@jupyter-widgets/controls",
     "model_name": "DescriptionStyleModel",
     "state": {
      "_model_module": "@jupyter-widgets/controls",
      "_model_module_version": "1.5.0",
      "_model_name": "DescriptionStyleModel",
      "_view_count": null,
      "_view_module": "@jupyter-widgets/base",
      "_view_module_version": "1.2.0",
      "_view_name": "StyleView",
      "description_width": ""
     }
    },
    "010ada69fe5543ff9f298f2444416421": {
     "model_module": "@jupyter-widgets/base",
     "model_name": "LayoutModel",
     "state": {
      "_model_module": "@jupyter-widgets/base",
      "_model_module_version": "1.2.0",
      "_model_name": "LayoutModel",
      "_view_count": null,
      "_view_module": "@jupyter-widgets/base",
      "_view_module_version": "1.2.0",
      "_view_name": "LayoutView",
      "align_content": null,
      "align_items": null,
      "align_self": null,
      "border": null,
      "bottom": null,
      "display": null,
      "flex": null,
      "flex_flow": null,
      "grid_area": null,
      "grid_auto_columns": null,
      "grid_auto_flow": null,
      "grid_auto_rows": null,
      "grid_column": null,
      "grid_gap": null,
      "grid_row": null,
      "grid_template_areas": null,
      "grid_template_columns": null,
      "grid_template_rows": null,
      "height": null,
      "justify_content": null,
      "justify_items": null,
      "left": null,
      "margin": null,
      "max_height": null,
      "max_width": null,
      "min_height": null,
      "min_width": null,
      "object_fit": null,
      "object_position": null,
      "order": null,
      "overflow": null,
      "overflow_x": null,
      "overflow_y": null,
      "padding": null,
      "right": null,
      "top": null,
      "visibility": null,
      "width": null
     }
    },
    "012a76a2dbce4f5ab2e59611607178b9": {
     "model_module": "@jupyter-widgets/controls",
     "model_name": "ProgressStyleModel",
     "state": {
      "_model_module": "@jupyter-widgets/controls",
      "_model_module_version": "1.5.0",
      "_model_name": "ProgressStyleModel",
      "_view_count": null,
      "_view_module": "@jupyter-widgets/base",
      "_view_module_version": "1.2.0",
      "_view_name": "StyleView",
      "bar_color": null,
      "description_width": "initial"
     }
    },
    "0659a414abb24ebfa943f3ba7809fb2a": {
     "model_module": "@jupyter-widgets/base",
     "model_name": "LayoutModel",
     "state": {
      "_model_module": "@jupyter-widgets/base",
      "_model_module_version": "1.2.0",
      "_model_name": "LayoutModel",
      "_view_count": null,
      "_view_module": "@jupyter-widgets/base",
      "_view_module_version": "1.2.0",
      "_view_name": "LayoutView",
      "align_content": null,
      "align_items": null,
      "align_self": null,
      "border": null,
      "bottom": null,
      "display": null,
      "flex": null,
      "flex_flow": null,
      "grid_area": null,
      "grid_auto_columns": null,
      "grid_auto_flow": null,
      "grid_auto_rows": null,
      "grid_column": null,
      "grid_gap": null,
      "grid_row": null,
      "grid_template_areas": null,
      "grid_template_columns": null,
      "grid_template_rows": null,
      "height": null,
      "justify_content": null,
      "justify_items": null,
      "left": null,
      "margin": null,
      "max_height": null,
      "max_width": null,
      "min_height": null,
      "min_width": null,
      "object_fit": null,
      "object_position": null,
      "order": null,
      "overflow": null,
      "overflow_x": null,
      "overflow_y": null,
      "padding": null,
      "right": null,
      "top": null,
      "visibility": null,
      "width": null
     }
    },
    "06f7112a261043d897738f29eb618681": {
     "model_module": "@jupyter-widgets/base",
     "model_name": "LayoutModel",
     "state": {
      "_model_module": "@jupyter-widgets/base",
      "_model_module_version": "1.2.0",
      "_model_name": "LayoutModel",
      "_view_count": null,
      "_view_module": "@jupyter-widgets/base",
      "_view_module_version": "1.2.0",
      "_view_name": "LayoutView",
      "align_content": null,
      "align_items": null,
      "align_self": null,
      "border": null,
      "bottom": null,
      "display": null,
      "flex": null,
      "flex_flow": null,
      "grid_area": null,
      "grid_auto_columns": null,
      "grid_auto_flow": null,
      "grid_auto_rows": null,
      "grid_column": null,
      "grid_gap": null,
      "grid_row": null,
      "grid_template_areas": null,
      "grid_template_columns": null,
      "grid_template_rows": null,
      "height": null,
      "justify_content": null,
      "justify_items": null,
      "left": null,
      "margin": null,
      "max_height": null,
      "max_width": null,
      "min_height": null,
      "min_width": null,
      "object_fit": null,
      "object_position": null,
      "order": null,
      "overflow": null,
      "overflow_x": null,
      "overflow_y": null,
      "padding": null,
      "right": null,
      "top": null,
      "visibility": null,
      "width": null
     }
    },
    "0905de2634894da18dfc71bd31a259e3": {
     "model_module": "@jupyter-widgets/base",
     "model_name": "LayoutModel",
     "state": {
      "_model_module": "@jupyter-widgets/base",
      "_model_module_version": "1.2.0",
      "_model_name": "LayoutModel",
      "_view_count": null,
      "_view_module": "@jupyter-widgets/base",
      "_view_module_version": "1.2.0",
      "_view_name": "LayoutView",
      "align_content": null,
      "align_items": null,
      "align_self": null,
      "border": null,
      "bottom": null,
      "display": null,
      "flex": null,
      "flex_flow": null,
      "grid_area": null,
      "grid_auto_columns": null,
      "grid_auto_flow": null,
      "grid_auto_rows": null,
      "grid_column": null,
      "grid_gap": null,
      "grid_row": null,
      "grid_template_areas": null,
      "grid_template_columns": null,
      "grid_template_rows": null,
      "height": null,
      "justify_content": null,
      "justify_items": null,
      "left": null,
      "margin": null,
      "max_height": null,
      "max_width": null,
      "min_height": null,
      "min_width": null,
      "object_fit": null,
      "object_position": null,
      "order": null,
      "overflow": null,
      "overflow_x": null,
      "overflow_y": null,
      "padding": null,
      "right": null,
      "top": null,
      "visibility": null,
      "width": null
     }
    },
    "0c515184678843a7ac7ed50e4b29bea1": {
     "model_module": "@jupyter-widgets/base",
     "model_name": "LayoutModel",
     "state": {
      "_model_module": "@jupyter-widgets/base",
      "_model_module_version": "1.2.0",
      "_model_name": "LayoutModel",
      "_view_count": null,
      "_view_module": "@jupyter-widgets/base",
      "_view_module_version": "1.2.0",
      "_view_name": "LayoutView",
      "align_content": null,
      "align_items": null,
      "align_self": null,
      "border": null,
      "bottom": null,
      "display": null,
      "flex": null,
      "flex_flow": null,
      "grid_area": null,
      "grid_auto_columns": null,
      "grid_auto_flow": null,
      "grid_auto_rows": null,
      "grid_column": null,
      "grid_gap": null,
      "grid_row": null,
      "grid_template_areas": null,
      "grid_template_columns": null,
      "grid_template_rows": null,
      "height": null,
      "justify_content": null,
      "justify_items": null,
      "left": null,
      "margin": null,
      "max_height": null,
      "max_width": null,
      "min_height": null,
      "min_width": null,
      "object_fit": null,
      "object_position": null,
      "order": null,
      "overflow": null,
      "overflow_x": null,
      "overflow_y": null,
      "padding": null,
      "right": null,
      "top": null,
      "visibility": null,
      "width": null
     }
    },
    "0c94957716aa4a13b9c7c0438ea05190": {
     "model_module": "@jupyter-widgets/base",
     "model_name": "LayoutModel",
     "state": {
      "_model_module": "@jupyter-widgets/base",
      "_model_module_version": "1.2.0",
      "_model_name": "LayoutModel",
      "_view_count": null,
      "_view_module": "@jupyter-widgets/base",
      "_view_module_version": "1.2.0",
      "_view_name": "LayoutView",
      "align_content": null,
      "align_items": null,
      "align_self": null,
      "border": null,
      "bottom": null,
      "display": null,
      "flex": null,
      "flex_flow": null,
      "grid_area": null,
      "grid_auto_columns": null,
      "grid_auto_flow": null,
      "grid_auto_rows": null,
      "grid_column": null,
      "grid_gap": null,
      "grid_row": null,
      "grid_template_areas": null,
      "grid_template_columns": null,
      "grid_template_rows": null,
      "height": null,
      "justify_content": null,
      "justify_items": null,
      "left": null,
      "margin": null,
      "max_height": null,
      "max_width": null,
      "min_height": null,
      "min_width": null,
      "object_fit": null,
      "object_position": null,
      "order": null,
      "overflow": null,
      "overflow_x": null,
      "overflow_y": null,
      "padding": null,
      "right": null,
      "top": null,
      "visibility": null,
      "width": null
     }
    },
    "1349b0b6d6ca4903a3043aed472b1268": {
     "model_module": "@jupyter-widgets/base",
     "model_name": "LayoutModel",
     "state": {
      "_model_module": "@jupyter-widgets/base",
      "_model_module_version": "1.2.0",
      "_model_name": "LayoutModel",
      "_view_count": null,
      "_view_module": "@jupyter-widgets/base",
      "_view_module_version": "1.2.0",
      "_view_name": "LayoutView",
      "align_content": null,
      "align_items": null,
      "align_self": null,
      "border": null,
      "bottom": null,
      "display": null,
      "flex": null,
      "flex_flow": null,
      "grid_area": null,
      "grid_auto_columns": null,
      "grid_auto_flow": null,
      "grid_auto_rows": null,
      "grid_column": null,
      "grid_gap": null,
      "grid_row": null,
      "grid_template_areas": null,
      "grid_template_columns": null,
      "grid_template_rows": null,
      "height": null,
      "justify_content": null,
      "justify_items": null,
      "left": null,
      "margin": null,
      "max_height": null,
      "max_width": null,
      "min_height": null,
      "min_width": null,
      "object_fit": null,
      "object_position": null,
      "order": null,
      "overflow": null,
      "overflow_x": null,
      "overflow_y": null,
      "padding": null,
      "right": null,
      "top": null,
      "visibility": null,
      "width": null
     }
    },
    "1493c52a8e574c7fa5d8ccdca844d532": {
     "model_module": "@jupyter-widgets/controls",
     "model_name": "HTMLModel",
     "state": {
      "_dom_classes": [],
      "_model_module": "@jupyter-widgets/controls",
      "_model_module_version": "1.5.0",
      "_model_name": "HTMLModel",
      "_view_count": null,
      "_view_module": "@jupyter-widgets/controls",
      "_view_module_version": "1.5.0",
      "_view_name": "HTMLView",
      "description": "",
      "description_tooltip": null,
      "layout": "IPY_MODEL_d60eb5aadb2f4dc68733414e3c1ba964",
      "placeholder": "​",
      "style": "IPY_MODEL_4fddde16a67e4a02b062b34f67a4adfc",
      "value": " 1000/1000 [02:35&lt;00:00,  6.44it/s]"
     }
    },
    "18e850ec6777458485884c3728af84a1": {
     "model_module": "@jupyter-widgets/base",
     "model_name": "LayoutModel",
     "state": {
      "_model_module": "@jupyter-widgets/base",
      "_model_module_version": "1.2.0",
      "_model_name": "LayoutModel",
      "_view_count": null,
      "_view_module": "@jupyter-widgets/base",
      "_view_module_version": "1.2.0",
      "_view_name": "LayoutView",
      "align_content": null,
      "align_items": null,
      "align_self": null,
      "border": null,
      "bottom": null,
      "display": null,
      "flex": null,
      "flex_flow": null,
      "grid_area": null,
      "grid_auto_columns": null,
      "grid_auto_flow": null,
      "grid_auto_rows": null,
      "grid_column": null,
      "grid_gap": null,
      "grid_row": null,
      "grid_template_areas": null,
      "grid_template_columns": null,
      "grid_template_rows": null,
      "height": null,
      "justify_content": null,
      "justify_items": null,
      "left": null,
      "margin": null,
      "max_height": null,
      "max_width": null,
      "min_height": null,
      "min_width": null,
      "object_fit": null,
      "object_position": null,
      "order": null,
      "overflow": null,
      "overflow_x": null,
      "overflow_y": null,
      "padding": null,
      "right": null,
      "top": null,
      "visibility": null,
      "width": null
     }
    },
    "190eaddaefe047dcb15678cad8282e18": {
     "model_module": "@jupyter-widgets/controls",
     "model_name": "HTMLModel",
     "state": {
      "_dom_classes": [],
      "_model_module": "@jupyter-widgets/controls",
      "_model_module_version": "1.5.0",
      "_model_name": "HTMLModel",
      "_view_count": null,
      "_view_module": "@jupyter-widgets/controls",
      "_view_module_version": "1.5.0",
      "_view_name": "HTMLView",
      "description": "",
      "description_tooltip": null,
      "layout": "IPY_MODEL_06f7112a261043d897738f29eb618681",
      "placeholder": "​",
      "style": "IPY_MODEL_213ed83e51e942249857951951771788",
      "value": " 1000/1000 [05:42&lt;00:00,  2.92it/s]"
     }
    },
    "198ad8364224475da065fc9904761e76": {
     "model_module": "@jupyter-widgets/base",
     "model_name": "LayoutModel",
     "state": {
      "_model_module": "@jupyter-widgets/base",
      "_model_module_version": "1.2.0",
      "_model_name": "LayoutModel",
      "_view_count": null,
      "_view_module": "@jupyter-widgets/base",
      "_view_module_version": "1.2.0",
      "_view_name": "LayoutView",
      "align_content": null,
      "align_items": null,
      "align_self": null,
      "border": null,
      "bottom": null,
      "display": null,
      "flex": null,
      "flex_flow": null,
      "grid_area": null,
      "grid_auto_columns": null,
      "grid_auto_flow": null,
      "grid_auto_rows": null,
      "grid_column": null,
      "grid_gap": null,
      "grid_row": null,
      "grid_template_areas": null,
      "grid_template_columns": null,
      "grid_template_rows": null,
      "height": null,
      "justify_content": null,
      "justify_items": null,
      "left": null,
      "margin": null,
      "max_height": null,
      "max_width": null,
      "min_height": null,
      "min_width": null,
      "object_fit": null,
      "object_position": null,
      "order": null,
      "overflow": null,
      "overflow_x": null,
      "overflow_y": null,
      "padding": null,
      "right": null,
      "top": null,
      "visibility": null,
      "width": null
     }
    },
    "1c2b4fb00f114e5581446683ef7a2eca": {
     "model_module": "@jupyter-widgets/controls",
     "model_name": "HBoxModel",
     "state": {
      "_dom_classes": [],
      "_model_module": "@jupyter-widgets/controls",
      "_model_module_version": "1.5.0",
      "_model_name": "HBoxModel",
      "_view_count": null,
      "_view_module": "@jupyter-widgets/controls",
      "_view_module_version": "1.5.0",
      "_view_name": "HBoxView",
      "box_style": "",
      "children": [
       "IPY_MODEL_a155a33c699840c0af6d540c529654ec",
       "IPY_MODEL_9981028ed2f74992997e3afe07715c4c"
      ],
      "layout": "IPY_MODEL_3345204010d748aea58e26d397c1facf"
     }
    },
    "20280c083f684139b9b1bf7d71de3451": {
     "model_module": "@jupyter-widgets/base",
     "model_name": "LayoutModel",
     "state": {
      "_model_module": "@jupyter-widgets/base",
      "_model_module_version": "1.2.0",
      "_model_name": "LayoutModel",
      "_view_count": null,
      "_view_module": "@jupyter-widgets/base",
      "_view_module_version": "1.2.0",
      "_view_name": "LayoutView",
      "align_content": null,
      "align_items": null,
      "align_self": null,
      "border": null,
      "bottom": null,
      "display": null,
      "flex": null,
      "flex_flow": null,
      "grid_area": null,
      "grid_auto_columns": null,
      "grid_auto_flow": null,
      "grid_auto_rows": null,
      "grid_column": null,
      "grid_gap": null,
      "grid_row": null,
      "grid_template_areas": null,
      "grid_template_columns": null,
      "grid_template_rows": null,
      "height": null,
      "justify_content": null,
      "justify_items": null,
      "left": null,
      "margin": null,
      "max_height": null,
      "max_width": null,
      "min_height": null,
      "min_width": null,
      "object_fit": null,
      "object_position": null,
      "order": null,
      "overflow": null,
      "overflow_x": null,
      "overflow_y": null,
      "padding": null,
      "right": null,
      "top": null,
      "visibility": null,
      "width": null
     }
    },
    "209ae4c613374fe4a0dc95a1fa662380": {
     "model_module": "@jupyter-widgets/controls",
     "model_name": "DescriptionStyleModel",
     "state": {
      "_model_module": "@jupyter-widgets/controls",
      "_model_module_version": "1.5.0",
      "_model_name": "DescriptionStyleModel",
      "_view_count": null,
      "_view_module": "@jupyter-widgets/base",
      "_view_module_version": "1.2.0",
      "_view_name": "StyleView",
      "description_width": ""
     }
    },
    "213ed83e51e942249857951951771788": {
     "model_module": "@jupyter-widgets/controls",
     "model_name": "DescriptionStyleModel",
     "state": {
      "_model_module": "@jupyter-widgets/controls",
      "_model_module_version": "1.5.0",
      "_model_name": "DescriptionStyleModel",
      "_view_count": null,
      "_view_module": "@jupyter-widgets/base",
      "_view_module_version": "1.2.0",
      "_view_name": "StyleView",
      "description_width": ""
     }
    },
    "2197f7482d3b4c13906896630cbabf36": {
     "model_module": "@jupyter-widgets/controls",
     "model_name": "FloatProgressModel",
     "state": {
      "_dom_classes": [],
      "_model_module": "@jupyter-widgets/controls",
      "_model_module_version": "1.5.0",
      "_model_name": "FloatProgressModel",
      "_view_count": null,
      "_view_module": "@jupyter-widgets/controls",
      "_view_module_version": "1.5.0",
      "_view_name": "ProgressView",
      "bar_style": "success",
      "description": "Test Loss: 0.6153, Test Acc: 0.7031: 100%",
      "description_tooltip": null,
      "layout": "IPY_MODEL_f9ea90437981402380fb3122154bccc4",
      "max": 313,
      "min": 0,
      "orientation": "horizontal",
      "style": "IPY_MODEL_e344d332366d4b7f9ebf3cc6f779a155",
      "value": 313
     }
    },
    "2228fe53bc65408ca2f0f6088c499c3b": {
     "model_module": "@jupyter-widgets/controls",
     "model_name": "DescriptionStyleModel",
     "state": {
      "_model_module": "@jupyter-widgets/controls",
      "_model_module_version": "1.5.0",
      "_model_name": "DescriptionStyleModel",
      "_view_count": null,
      "_view_module": "@jupyter-widgets/base",
      "_view_module_version": "1.2.0",
      "_view_name": "StyleView",
      "description_width": ""
     }
    },
    "222f03a6fae14ae2a2d122e39eb6860a": {
     "model_module": "@jupyter-widgets/controls",
     "model_name": "DescriptionStyleModel",
     "state": {
      "_model_module": "@jupyter-widgets/controls",
      "_model_module_version": "1.5.0",
      "_model_name": "DescriptionStyleModel",
      "_view_count": null,
      "_view_module": "@jupyter-widgets/base",
      "_view_module_version": "1.2.0",
      "_view_name": "StyleView",
      "description_width": ""
     }
    },
    "2c6d125fb50847caa8cf2d62e8f99ee8": {
     "model_module": "@jupyter-widgets/controls",
     "model_name": "HTMLModel",
     "state": {
      "_dom_classes": [],
      "_model_module": "@jupyter-widgets/controls",
      "_model_module_version": "1.5.0",
      "_model_name": "HTMLModel",
      "_view_count": null,
      "_view_module": "@jupyter-widgets/controls",
      "_view_module_version": "1.5.0",
      "_view_name": "HTMLView",
      "description": "",
      "description_tooltip": null,
      "layout": "IPY_MODEL_4b04b4f58e2d475ca2d21c2bb925cb54",
      "placeholder": "​",
      "style": "IPY_MODEL_222f03a6fae14ae2a2d122e39eb6860a",
      "value": " 313/313 [00:36&lt;00:00,  8.63it/s]"
     }
    },
    "2c8908b979f54677884dd4def30aec9c": {
     "model_module": "@jupyter-widgets/base",
     "model_name": "LayoutModel",
     "state": {
      "_model_module": "@jupyter-widgets/base",
      "_model_module_version": "1.2.0",
      "_model_name": "LayoutModel",
      "_view_count": null,
      "_view_module": "@jupyter-widgets/base",
      "_view_module_version": "1.2.0",
      "_view_name": "LayoutView",
      "align_content": null,
      "align_items": null,
      "align_self": null,
      "border": null,
      "bottom": null,
      "display": null,
      "flex": null,
      "flex_flow": null,
      "grid_area": null,
      "grid_auto_columns": null,
      "grid_auto_flow": null,
      "grid_auto_rows": null,
      "grid_column": null,
      "grid_gap": null,
      "grid_row": null,
      "grid_template_areas": null,
      "grid_template_columns": null,
      "grid_template_rows": null,
      "height": null,
      "justify_content": null,
      "justify_items": null,
      "left": null,
      "margin": null,
      "max_height": null,
      "max_width": null,
      "min_height": null,
      "min_width": null,
      "object_fit": null,
      "object_position": null,
      "order": null,
      "overflow": null,
      "overflow_x": null,
      "overflow_y": null,
      "padding": null,
      "right": null,
      "top": null,
      "visibility": null,
      "width": null
     }
    },
    "2cd5a6c9ecfc4fba938372a3c537500a": {
     "model_module": "@jupyter-widgets/controls",
     "model_name": "ProgressStyleModel",
     "state": {
      "_model_module": "@jupyter-widgets/controls",
      "_model_module_version": "1.5.0",
      "_model_name": "ProgressStyleModel",
      "_view_count": null,
      "_view_module": "@jupyter-widgets/base",
      "_view_module_version": "1.2.0",
      "_view_name": "StyleView",
      "bar_color": null,
      "description_width": "initial"
     }
    },
    "30973b115e884f09979070631ecce8e9": {
     "model_module": "@jupyter-widgets/controls",
     "model_name": "DescriptionStyleModel",
     "state": {
      "_model_module": "@jupyter-widgets/controls",
      "_model_module_version": "1.5.0",
      "_model_name": "DescriptionStyleModel",
      "_view_count": null,
      "_view_module": "@jupyter-widgets/base",
      "_view_module_version": "1.2.0",
      "_view_name": "StyleView",
      "description_width": ""
     }
    },
    "30b4ccb8603c435ebe80c8cae2be0440": {
     "model_module": "@jupyter-widgets/base",
     "model_name": "LayoutModel",
     "state": {
      "_model_module": "@jupyter-widgets/base",
      "_model_module_version": "1.2.0",
      "_model_name": "LayoutModel",
      "_view_count": null,
      "_view_module": "@jupyter-widgets/base",
      "_view_module_version": "1.2.0",
      "_view_name": "LayoutView",
      "align_content": null,
      "align_items": null,
      "align_self": null,
      "border": null,
      "bottom": null,
      "display": null,
      "flex": null,
      "flex_flow": null,
      "grid_area": null,
      "grid_auto_columns": null,
      "grid_auto_flow": null,
      "grid_auto_rows": null,
      "grid_column": null,
      "grid_gap": null,
      "grid_row": null,
      "grid_template_areas": null,
      "grid_template_columns": null,
      "grid_template_rows": null,
      "height": null,
      "justify_content": null,
      "justify_items": null,
      "left": null,
      "margin": null,
      "max_height": null,
      "max_width": null,
      "min_height": null,
      "min_width": null,
      "object_fit": null,
      "object_position": null,
      "order": null,
      "overflow": null,
      "overflow_x": null,
      "overflow_y": null,
      "padding": null,
      "right": null,
      "top": null,
      "visibility": null,
      "width": null
     }
    },
    "31974821ac4f46dab3fa69a7b18eaf2f": {
     "model_module": "@jupyter-widgets/base",
     "model_name": "LayoutModel",
     "state": {
      "_model_module": "@jupyter-widgets/base",
      "_model_module_version": "1.2.0",
      "_model_name": "LayoutModel",
      "_view_count": null,
      "_view_module": "@jupyter-widgets/base",
      "_view_module_version": "1.2.0",
      "_view_name": "LayoutView",
      "align_content": null,
      "align_items": null,
      "align_self": null,
      "border": null,
      "bottom": null,
      "display": null,
      "flex": null,
      "flex_flow": null,
      "grid_area": null,
      "grid_auto_columns": null,
      "grid_auto_flow": null,
      "grid_auto_rows": null,
      "grid_column": null,
      "grid_gap": null,
      "grid_row": null,
      "grid_template_areas": null,
      "grid_template_columns": null,
      "grid_template_rows": null,
      "height": null,
      "justify_content": null,
      "justify_items": null,
      "left": null,
      "margin": null,
      "max_height": null,
      "max_width": null,
      "min_height": null,
      "min_width": null,
      "object_fit": null,
      "object_position": null,
      "order": null,
      "overflow": null,
      "overflow_x": null,
      "overflow_y": null,
      "padding": null,
      "right": null,
      "top": null,
      "visibility": null,
      "width": null
     }
    },
    "3345204010d748aea58e26d397c1facf": {
     "model_module": "@jupyter-widgets/base",
     "model_name": "LayoutModel",
     "state": {
      "_model_module": "@jupyter-widgets/base",
      "_model_module_version": "1.2.0",
      "_model_name": "LayoutModel",
      "_view_count": null,
      "_view_module": "@jupyter-widgets/base",
      "_view_module_version": "1.2.0",
      "_view_name": "LayoutView",
      "align_content": null,
      "align_items": null,
      "align_self": null,
      "border": null,
      "bottom": null,
      "display": null,
      "flex": null,
      "flex_flow": null,
      "grid_area": null,
      "grid_auto_columns": null,
      "grid_auto_flow": null,
      "grid_auto_rows": null,
      "grid_column": null,
      "grid_gap": null,
      "grid_row": null,
      "grid_template_areas": null,
      "grid_template_columns": null,
      "grid_template_rows": null,
      "height": null,
      "justify_content": null,
      "justify_items": null,
      "left": null,
      "margin": null,
      "max_height": null,
      "max_width": null,
      "min_height": null,
      "min_width": null,
      "object_fit": null,
      "object_position": null,
      "order": null,
      "overflow": null,
      "overflow_x": null,
      "overflow_y": null,
      "padding": null,
      "right": null,
      "top": null,
      "visibility": null,
      "width": null
     }
    },
    "34248cf7d444400b908f1fccc2ebb3fd": {
     "model_module": "@jupyter-widgets/controls",
     "model_name": "HTMLModel",
     "state": {
      "_dom_classes": [],
      "_model_module": "@jupyter-widgets/controls",
      "_model_module_version": "1.5.0",
      "_model_name": "HTMLModel",
      "_view_count": null,
      "_view_module": "@jupyter-widgets/controls",
      "_view_module_version": "1.5.0",
      "_view_name": "HTMLView",
      "description": "",
      "description_tooltip": null,
      "layout": "IPY_MODEL_9dc9c1c06b44453ab0d1019b05165ad4",
      "placeholder": "​",
      "style": "IPY_MODEL_c0f1cae5ff18421fa6d233c1d0e5758a",
      "value": " 313/313 [00:36&lt;00:00,  8.59it/s]"
     }
    },
    "357b672ada0d4b0e9ccb3d98b6414cd1": {
     "model_module": "@jupyter-widgets/controls",
     "model_name": "FloatProgressModel",
     "state": {
      "_dom_classes": [],
      "_model_module": "@jupyter-widgets/controls",
      "_model_module_version": "1.5.0",
      "_model_name": "FloatProgressModel",
      "_view_count": null,
      "_view_module": "@jupyter-widgets/controls",
      "_view_module_version": "1.5.0",
      "_view_name": "ProgressView",
      "bar_style": "success",
      "description": "Test Loss: 0.5518, Test Acc: 0.7226: 100%",
      "description_tooltip": null,
      "layout": "IPY_MODEL_85d69c50161a42cb807f4b67122d1194",
      "max": 250,
      "min": 0,
      "orientation": "horizontal",
      "style": "IPY_MODEL_aa12f75bb5c84584a95fad8745529c3f",
      "value": 250
     }
    },
    "35f70ce55b2b4938a5a36b3328cf2360": {
     "model_module": "@jupyter-widgets/base",
     "model_name": "LayoutModel",
     "state": {
      "_model_module": "@jupyter-widgets/base",
      "_model_module_version": "1.2.0",
      "_model_name": "LayoutModel",
      "_view_count": null,
      "_view_module": "@jupyter-widgets/base",
      "_view_module_version": "1.2.0",
      "_view_name": "LayoutView",
      "align_content": null,
      "align_items": null,
      "align_self": null,
      "border": null,
      "bottom": null,
      "display": null,
      "flex": null,
      "flex_flow": null,
      "grid_area": null,
      "grid_auto_columns": null,
      "grid_auto_flow": null,
      "grid_auto_rows": null,
      "grid_column": null,
      "grid_gap": null,
      "grid_row": null,
      "grid_template_areas": null,
      "grid_template_columns": null,
      "grid_template_rows": null,
      "height": null,
      "justify_content": null,
      "justify_items": null,
      "left": null,
      "margin": null,
      "max_height": null,
      "max_width": null,
      "min_height": null,
      "min_width": null,
      "object_fit": null,
      "object_position": null,
      "order": null,
      "overflow": null,
      "overflow_x": null,
      "overflow_y": null,
      "padding": null,
      "right": null,
      "top": null,
      "visibility": null,
      "width": null
     }
    },
    "36f3bd3e82c44e58a1664ed4eb0a4ce3": {
     "model_module": "@jupyter-widgets/controls",
     "model_name": "DescriptionStyleModel",
     "state": {
      "_model_module": "@jupyter-widgets/controls",
      "_model_module_version": "1.5.0",
      "_model_name": "DescriptionStyleModel",
      "_view_count": null,
      "_view_module": "@jupyter-widgets/base",
      "_view_module_version": "1.2.0",
      "_view_name": "StyleView",
      "description_width": ""
     }
    },
    "3741527aa5ab4ff5a5f1ea5a89f9b5ab": {
     "model_module": "@jupyter-widgets/base",
     "model_name": "LayoutModel",
     "state": {
      "_model_module": "@jupyter-widgets/base",
      "_model_module_version": "1.2.0",
      "_model_name": "LayoutModel",
      "_view_count": null,
      "_view_module": "@jupyter-widgets/base",
      "_view_module_version": "1.2.0",
      "_view_name": "LayoutView",
      "align_content": null,
      "align_items": null,
      "align_self": null,
      "border": null,
      "bottom": null,
      "display": null,
      "flex": null,
      "flex_flow": null,
      "grid_area": null,
      "grid_auto_columns": null,
      "grid_auto_flow": null,
      "grid_auto_rows": null,
      "grid_column": null,
      "grid_gap": null,
      "grid_row": null,
      "grid_template_areas": null,
      "grid_template_columns": null,
      "grid_template_rows": null,
      "height": null,
      "justify_content": null,
      "justify_items": null,
      "left": null,
      "margin": null,
      "max_height": null,
      "max_width": null,
      "min_height": null,
      "min_width": null,
      "object_fit": null,
      "object_position": null,
      "order": null,
      "overflow": null,
      "overflow_x": null,
      "overflow_y": null,
      "padding": null,
      "right": null,
      "top": null,
      "visibility": null,
      "width": null
     }
    },
    "3800c16b4ef74299a1f9413ff133d276": {
     "model_module": "@jupyter-widgets/controls",
     "model_name": "HBoxModel",
     "state": {
      "_dom_classes": [],
      "_model_module": "@jupyter-widgets/controls",
      "_model_module_version": "1.5.0",
      "_model_name": "HBoxModel",
      "_view_count": null,
      "_view_module": "@jupyter-widgets/controls",
      "_view_module_version": "1.5.0",
      "_view_name": "HBoxView",
      "box_style": "",
      "children": [
       "IPY_MODEL_f29339cc39824d73931b6dfdb5210a15",
       "IPY_MODEL_6b785e5912f44a7ca99903a71c6058d3"
      ],
      "layout": "IPY_MODEL_20280c083f684139b9b1bf7d71de3451"
     }
    },
    "383fd624ff7a445eb43f1aa0cc91f7fe": {
     "model_module": "@jupyter-widgets/controls",
     "model_name": "FloatProgressModel",
     "state": {
      "_dom_classes": [],
      "_model_module": "@jupyter-widgets/controls",
      "_model_module_version": "1.5.0",
      "_model_name": "FloatProgressModel",
      "_view_count": null,
      "_view_module": "@jupyter-widgets/controls",
      "_view_module_version": "1.5.0",
      "_view_name": "ProgressView",
      "bar_style": "success",
      "description": "Epoch 1. Train Loss: 0.5498: 100%",
      "description_tooltip": null,
      "layout": "IPY_MODEL_18e850ec6777458485884c3728af84a1",
      "max": 1000,
      "min": 0,
      "orientation": "horizontal",
      "style": "IPY_MODEL_5e58c6d5f9dd46c1846df04fad29cacf",
      "value": 1000
     }
    },
    "3a0dfa9e938f4a94bd924b1f34c7e2c7": {
     "model_module": "@jupyter-widgets/controls",
     "model_name": "HBoxModel",
     "state": {
      "_dom_classes": [],
      "_model_module": "@jupyter-widgets/controls",
      "_model_module_version": "1.5.0",
      "_model_name": "HBoxModel",
      "_view_count": null,
      "_view_module": "@jupyter-widgets/controls",
      "_view_module_version": "1.5.0",
      "_view_name": "HBoxView",
      "box_style": "",
      "children": [
       "IPY_MODEL_4dac8d937aef4f6593d4a55d9675e922",
       "IPY_MODEL_8d46b19f88294b77afe6dfbf4ab6e379"
      ],
      "layout": "IPY_MODEL_93260847d7cf4d7b96401d414eec7b69"
     }
    },
    "3b94decc773d4cdeaed2b9eec56c5310": {
     "model_module": "@jupyter-widgets/base",
     "model_name": "LayoutModel",
     "state": {
      "_model_module": "@jupyter-widgets/base",
      "_model_module_version": "1.2.0",
      "_model_name": "LayoutModel",
      "_view_count": null,
      "_view_module": "@jupyter-widgets/base",
      "_view_module_version": "1.2.0",
      "_view_name": "LayoutView",
      "align_content": null,
      "align_items": null,
      "align_self": null,
      "border": null,
      "bottom": null,
      "display": null,
      "flex": null,
      "flex_flow": null,
      "grid_area": null,
      "grid_auto_columns": null,
      "grid_auto_flow": null,
      "grid_auto_rows": null,
      "grid_column": null,
      "grid_gap": null,
      "grid_row": null,
      "grid_template_areas": null,
      "grid_template_columns": null,
      "grid_template_rows": null,
      "height": null,
      "justify_content": null,
      "justify_items": null,
      "left": null,
      "margin": null,
      "max_height": null,
      "max_width": null,
      "min_height": null,
      "min_width": null,
      "object_fit": null,
      "object_position": null,
      "order": null,
      "overflow": null,
      "overflow_x": null,
      "overflow_y": null,
      "padding": null,
      "right": null,
      "top": null,
      "visibility": null,
      "width": null
     }
    },
    "3c38e88702f042dc8871c99898c3dff9": {
     "model_module": "@jupyter-widgets/base",
     "model_name": "LayoutModel",
     "state": {
      "_model_module": "@jupyter-widgets/base",
      "_model_module_version": "1.2.0",
      "_model_name": "LayoutModel",
      "_view_count": null,
      "_view_module": "@jupyter-widgets/base",
      "_view_module_version": "1.2.0",
      "_view_name": "LayoutView",
      "align_content": null,
      "align_items": null,
      "align_self": null,
      "border": null,
      "bottom": null,
      "display": null,
      "flex": null,
      "flex_flow": null,
      "grid_area": null,
      "grid_auto_columns": null,
      "grid_auto_flow": null,
      "grid_auto_rows": null,
      "grid_column": null,
      "grid_gap": null,
      "grid_row": null,
      "grid_template_areas": null,
      "grid_template_columns": null,
      "grid_template_rows": null,
      "height": null,
      "justify_content": null,
      "justify_items": null,
      "left": null,
      "margin": null,
      "max_height": null,
      "max_width": null,
      "min_height": null,
      "min_width": null,
      "object_fit": null,
      "object_position": null,
      "order": null,
      "overflow": null,
      "overflow_x": null,
      "overflow_y": null,
      "padding": null,
      "right": null,
      "top": null,
      "visibility": null,
      "width": null
     }
    },
    "3d416fd560634f3696bec0489660cff7": {
     "model_module": "@jupyter-widgets/controls",
     "model_name": "HBoxModel",
     "state": {
      "_dom_classes": [],
      "_model_module": "@jupyter-widgets/controls",
      "_model_module_version": "1.5.0",
      "_model_name": "HBoxModel",
      "_view_count": null,
      "_view_module": "@jupyter-widgets/controls",
      "_view_module_version": "1.5.0",
      "_view_name": "HBoxView",
      "box_style": "",
      "children": [
       "IPY_MODEL_a986381a054a44b39035031bf11521b2",
       "IPY_MODEL_190eaddaefe047dcb15678cad8282e18"
      ],
      "layout": "IPY_MODEL_30b4ccb8603c435ebe80c8cae2be0440"
     }
    },
    "4093bc7d39024cb0981ea1f815020fcb": {
     "model_module": "@jupyter-widgets/controls",
     "model_name": "DescriptionStyleModel",
     "state": {
      "_model_module": "@jupyter-widgets/controls",
      "_model_module_version": "1.5.0",
      "_model_name": "DescriptionStyleModel",
      "_view_count": null,
      "_view_module": "@jupyter-widgets/base",
      "_view_module_version": "1.2.0",
      "_view_name": "StyleView",
      "description_width": ""
     }
    },
    "417c08345d4f49c3b9ce1ce6d9117565": {
     "model_module": "@jupyter-widgets/controls",
     "model_name": "ProgressStyleModel",
     "state": {
      "_model_module": "@jupyter-widgets/controls",
      "_model_module_version": "1.5.0",
      "_model_name": "ProgressStyleModel",
      "_view_count": null,
      "_view_module": "@jupyter-widgets/base",
      "_view_module_version": "1.2.0",
      "_view_name": "StyleView",
      "bar_color": null,
      "description_width": "initial"
     }
    },
    "481e76cd936c4f0686b4ef46a2973c5d": {
     "model_module": "@jupyter-widgets/controls",
     "model_name": "HTMLModel",
     "state": {
      "_dom_classes": [],
      "_model_module": "@jupyter-widgets/controls",
      "_model_module_version": "1.5.0",
      "_model_name": "HTMLModel",
      "_view_count": null,
      "_view_module": "@jupyter-widgets/controls",
      "_view_module_version": "1.5.0",
      "_view_name": "HTMLView",
      "description": "",
      "description_tooltip": null,
      "layout": "IPY_MODEL_3c38e88702f042dc8871c99898c3dff9",
      "placeholder": "​",
      "style": "IPY_MODEL_209ae4c613374fe4a0dc95a1fa662380",
      "value": " 250/250 [00:47&lt;00:00,  5.22it/s]"
     }
    },
    "4967e9045dcf44de9a1f69d6718d1e38": {
     "model_module": "@jupyter-widgets/controls",
     "model_name": "ProgressStyleModel",
     "state": {
      "_model_module": "@jupyter-widgets/controls",
      "_model_module_version": "1.5.0",
      "_model_name": "ProgressStyleModel",
      "_view_count": null,
      "_view_module": "@jupyter-widgets/base",
      "_view_module_version": "1.2.0",
      "_view_name": "StyleView",
      "bar_color": null,
      "description_width": "initial"
     }
    },
    "49bf0ec16be649f8bb6e0f5639838e04": {
     "model_module": "@jupyter-widgets/controls",
     "model_name": "HBoxModel",
     "state": {
      "_dom_classes": [],
      "_model_module": "@jupyter-widgets/controls",
      "_model_module_version": "1.5.0",
      "_model_name": "HBoxModel",
      "_view_count": null,
      "_view_module": "@jupyter-widgets/controls",
      "_view_module_version": "1.5.0",
      "_view_name": "HBoxView",
      "box_style": "",
      "children": [
       "IPY_MODEL_870f4b0916424ee99144e65e9deacfc6",
       "IPY_MODEL_481e76cd936c4f0686b4ef46a2973c5d"
      ],
      "layout": "IPY_MODEL_9c50b843a0bc40ab8c3130adc179d1ce"
     }
    },
    "49d00a9b5b104476a0fcdca5e85a37f4": {
     "model_module": "@jupyter-widgets/controls",
     "model_name": "FloatProgressModel",
     "state": {
      "_dom_classes": [],
      "_model_module": "@jupyter-widgets/controls",
      "_model_module_version": "1.5.0",
      "_model_name": "FloatProgressModel",
      "_view_count": null,
      "_view_module": "@jupyter-widgets/controls",
      "_view_module_version": "1.5.0",
      "_view_name": "ProgressView",
      "bar_style": "success",
      "description": "Epoch 3. Train Loss: 0.5669: 100%",
      "description_tooltip": null,
      "layout": "IPY_MODEL_0c515184678843a7ac7ed50e4b29bea1",
      "max": 1000,
      "min": 0,
      "orientation": "horizontal",
      "style": "IPY_MODEL_e819c1db74da44eaa7ab3f1fd879c290",
      "value": 1000
     }
    },
    "4b04b4f58e2d475ca2d21c2bb925cb54": {
     "model_module": "@jupyter-widgets/base",
     "model_name": "LayoutModel",
     "state": {
      "_model_module": "@jupyter-widgets/base",
      "_model_module_version": "1.2.0",
      "_model_name": "LayoutModel",
      "_view_count": null,
      "_view_module": "@jupyter-widgets/base",
      "_view_module_version": "1.2.0",
      "_view_name": "LayoutView",
      "align_content": null,
      "align_items": null,
      "align_self": null,
      "border": null,
      "bottom": null,
      "display": null,
      "flex": null,
      "flex_flow": null,
      "grid_area": null,
      "grid_auto_columns": null,
      "grid_auto_flow": null,
      "grid_auto_rows": null,
      "grid_column": null,
      "grid_gap": null,
      "grid_row": null,
      "grid_template_areas": null,
      "grid_template_columns": null,
      "grid_template_rows": null,
      "height": null,
      "justify_content": null,
      "justify_items": null,
      "left": null,
      "margin": null,
      "max_height": null,
      "max_width": null,
      "min_height": null,
      "min_width": null,
      "object_fit": null,
      "object_position": null,
      "order": null,
      "overflow": null,
      "overflow_x": null,
      "overflow_y": null,
      "padding": null,
      "right": null,
      "top": null,
      "visibility": null,
      "width": null
     }
    },
    "4daa983f85db4281af9631bf390a9271": {
     "model_module": "@jupyter-widgets/controls",
     "model_name": "HTMLModel",
     "state": {
      "_dom_classes": [],
      "_model_module": "@jupyter-widgets/controls",
      "_model_module_version": "1.5.0",
      "_model_name": "HTMLModel",
      "_view_count": null,
      "_view_module": "@jupyter-widgets/controls",
      "_view_module_version": "1.5.0",
      "_view_name": "HTMLView",
      "description": "",
      "description_tooltip": null,
      "layout": "IPY_MODEL_198ad8364224475da065fc9904761e76",
      "placeholder": "​",
      "style": "IPY_MODEL_00fb62f35d7e4bff9e5e8b2cc0b813d9",
      "value": " 250/250 [00:41&lt;00:00,  6.03it/s]"
     }
    },
    "4dac8d937aef4f6593d4a55d9675e922": {
     "model_module": "@jupyter-widgets/controls",
     "model_name": "FloatProgressModel",
     "state": {
      "_dom_classes": [],
      "_model_module": "@jupyter-widgets/controls",
      "_model_module_version": "1.5.0",
      "_model_name": "FloatProgressModel",
      "_view_count": null,
      "_view_module": "@jupyter-widgets/controls",
      "_view_module_version": "1.5.0",
      "_view_name": "ProgressView",
      "bar_style": "success",
      "description": "Test Loss: 0.5293, Test Acc: 0.7397: 100%",
      "description_tooltip": null,
      "layout": "IPY_MODEL_3b94decc773d4cdeaed2b9eec56c5310",
      "max": 250,
      "min": 0,
      "orientation": "horizontal",
      "style": "IPY_MODEL_88840c1138d249e58a81eccf2c4513f3",
      "value": 250
     }
    },
    "4e8c2ebb51a647f7adb19ace42aa1ad6": {
     "model_module": "@jupyter-widgets/controls",
     "model_name": "HTMLModel",
     "state": {
      "_dom_classes": [],
      "_model_module": "@jupyter-widgets/controls",
      "_model_module_version": "1.5.0",
      "_model_name": "HTMLModel",
      "_view_count": null,
      "_view_module": "@jupyter-widgets/controls",
      "_view_module_version": "1.5.0",
      "_view_name": "HTMLView",
      "description": "",
      "description_tooltip": null,
      "layout": "IPY_MODEL_cf96ea67b3ff45ddbb770a9011738d87",
      "placeholder": "​",
      "style": "IPY_MODEL_2228fe53bc65408ca2f0f6088c499c3b",
      "value": " 1000/1000 [06:17&lt;00:00,  2.65it/s]"
     }
    },
    "4fddde16a67e4a02b062b34f67a4adfc": {
     "model_module": "@jupyter-widgets/controls",
     "model_name": "DescriptionStyleModel",
     "state": {
      "_model_module": "@jupyter-widgets/controls",
      "_model_module_version": "1.5.0",
      "_model_name": "DescriptionStyleModel",
      "_view_count": null,
      "_view_module": "@jupyter-widgets/base",
      "_view_module_version": "1.2.0",
      "_view_name": "StyleView",
      "description_width": ""
     }
    },
    "512c8f08ed174137b94f63dc57c96114": {
     "model_module": "@jupyter-widgets/base",
     "model_name": "LayoutModel",
     "state": {
      "_model_module": "@jupyter-widgets/base",
      "_model_module_version": "1.2.0",
      "_model_name": "LayoutModel",
      "_view_count": null,
      "_view_module": "@jupyter-widgets/base",
      "_view_module_version": "1.2.0",
      "_view_name": "LayoutView",
      "align_content": null,
      "align_items": null,
      "align_self": null,
      "border": null,
      "bottom": null,
      "display": null,
      "flex": null,
      "flex_flow": null,
      "grid_area": null,
      "grid_auto_columns": null,
      "grid_auto_flow": null,
      "grid_auto_rows": null,
      "grid_column": null,
      "grid_gap": null,
      "grid_row": null,
      "grid_template_areas": null,
      "grid_template_columns": null,
      "grid_template_rows": null,
      "height": null,
      "justify_content": null,
      "justify_items": null,
      "left": null,
      "margin": null,
      "max_height": null,
      "max_width": null,
      "min_height": null,
      "min_width": null,
      "object_fit": null,
      "object_position": null,
      "order": null,
      "overflow": null,
      "overflow_x": null,
      "overflow_y": null,
      "padding": null,
      "right": null,
      "top": null,
      "visibility": null,
      "width": null
     }
    },
    "5274a7220e7d4e8d995d8976a5b0b2e9": {
     "model_module": "@jupyter-widgets/base",
     "model_name": "LayoutModel",
     "state": {
      "_model_module": "@jupyter-widgets/base",
      "_model_module_version": "1.2.0",
      "_model_name": "LayoutModel",
      "_view_count": null,
      "_view_module": "@jupyter-widgets/base",
      "_view_module_version": "1.2.0",
      "_view_name": "LayoutView",
      "align_content": null,
      "align_items": null,
      "align_self": null,
      "border": null,
      "bottom": null,
      "display": null,
      "flex": null,
      "flex_flow": null,
      "grid_area": null,
      "grid_auto_columns": null,
      "grid_auto_flow": null,
      "grid_auto_rows": null,
      "grid_column": null,
      "grid_gap": null,
      "grid_row": null,
      "grid_template_areas": null,
      "grid_template_columns": null,
      "grid_template_rows": null,
      "height": null,
      "justify_content": null,
      "justify_items": null,
      "left": null,
      "margin": null,
      "max_height": null,
      "max_width": null,
      "min_height": null,
      "min_width": null,
      "object_fit": null,
      "object_position": null,
      "order": null,
      "overflow": null,
      "overflow_x": null,
      "overflow_y": null,
      "padding": null,
      "right": null,
      "top": null,
      "visibility": null,
      "width": null
     }
    },
    "52e5c2ed9e6f412d8054c4b288c086c3": {
     "model_module": "@jupyter-widgets/controls",
     "model_name": "HBoxModel",
     "state": {
      "_dom_classes": [],
      "_model_module": "@jupyter-widgets/controls",
      "_model_module_version": "1.5.0",
      "_model_name": "HBoxModel",
      "_view_count": null,
      "_view_module": "@jupyter-widgets/controls",
      "_view_module_version": "1.5.0",
      "_view_name": "HBoxView",
      "box_style": "",
      "children": [
       "IPY_MODEL_62b4b086d8864f8c8201300feb2dc0e3",
       "IPY_MODEL_d1fb0cc7bfe54d338ddf39cd43359f7b"
      ],
      "layout": "IPY_MODEL_c602c87b61df4ff59c9b6bfd5f97e685"
     }
    },
    "534e310c0b4646489581e8d353d3fbf1": {
     "model_module": "@jupyter-widgets/controls",
     "model_name": "DescriptionStyleModel",
     "state": {
      "_model_module": "@jupyter-widgets/controls",
      "_model_module_version": "1.5.0",
      "_model_name": "DescriptionStyleModel",
      "_view_count": null,
      "_view_module": "@jupyter-widgets/base",
      "_view_module_version": "1.2.0",
      "_view_name": "StyleView",
      "description_width": ""
     }
    },
    "5471950ee3e54234b10eaa927c8a185c": {
     "model_module": "@jupyter-widgets/controls",
     "model_name": "HBoxModel",
     "state": {
      "_dom_classes": [],
      "_model_module": "@jupyter-widgets/controls",
      "_model_module_version": "1.5.0",
      "_model_name": "HBoxModel",
      "_view_count": null,
      "_view_module": "@jupyter-widgets/controls",
      "_view_module_version": "1.5.0",
      "_view_name": "HBoxView",
      "box_style": "",
      "children": [
       "IPY_MODEL_f6f20e11e38040a89c268f05ae57cbc5",
       "IPY_MODEL_678ab98dbd5442aaac3d7fc19eaf3942"
      ],
      "layout": "IPY_MODEL_e98f213d8ab94e748a8820eed42c8a8a"
     }
    },
    "572ddbed0b3f4d789e8991522d272c11": {
     "model_module": "@jupyter-widgets/base",
     "model_name": "LayoutModel",
     "state": {
      "_model_module": "@jupyter-widgets/base",
      "_model_module_version": "1.2.0",
      "_model_name": "LayoutModel",
      "_view_count": null,
      "_view_module": "@jupyter-widgets/base",
      "_view_module_version": "1.2.0",
      "_view_name": "LayoutView",
      "align_content": null,
      "align_items": null,
      "align_self": null,
      "border": null,
      "bottom": null,
      "display": null,
      "flex": null,
      "flex_flow": null,
      "grid_area": null,
      "grid_auto_columns": null,
      "grid_auto_flow": null,
      "grid_auto_rows": null,
      "grid_column": null,
      "grid_gap": null,
      "grid_row": null,
      "grid_template_areas": null,
      "grid_template_columns": null,
      "grid_template_rows": null,
      "height": null,
      "justify_content": null,
      "justify_items": null,
      "left": null,
      "margin": null,
      "max_height": null,
      "max_width": null,
      "min_height": null,
      "min_width": null,
      "object_fit": null,
      "object_position": null,
      "order": null,
      "overflow": null,
      "overflow_x": null,
      "overflow_y": null,
      "padding": null,
      "right": null,
      "top": null,
      "visibility": null,
      "width": null
     }
    },
    "5e42141f96c149e2bfc3910e34d82aa2": {
     "model_module": "@jupyter-widgets/controls",
     "model_name": "HBoxModel",
     "state": {
      "_dom_classes": [],
      "_model_module": "@jupyter-widgets/controls",
      "_model_module_version": "1.5.0",
      "_model_name": "HBoxModel",
      "_view_count": null,
      "_view_module": "@jupyter-widgets/controls",
      "_view_module_version": "1.5.0",
      "_view_name": "HBoxView",
      "box_style": "",
      "children": [
       "IPY_MODEL_6b51ec90fa444953abfe56c196b7b5b5",
       "IPY_MODEL_6911ca76b0a34501af252685d790ac5a"
      ],
      "layout": "IPY_MODEL_800d0dc645a04a36815df6e6451ca423"
     }
    },
    "5e58c6d5f9dd46c1846df04fad29cacf": {
     "model_module": "@jupyter-widgets/controls",
     "model_name": "ProgressStyleModel",
     "state": {
      "_model_module": "@jupyter-widgets/controls",
      "_model_module_version": "1.5.0",
      "_model_name": "ProgressStyleModel",
      "_view_count": null,
      "_view_module": "@jupyter-widgets/base",
      "_view_module_version": "1.2.0",
      "_view_name": "StyleView",
      "bar_color": null,
      "description_width": "initial"
     }
    },
    "5e922280752c433187b36c811ba91fd9": {
     "model_module": "@jupyter-widgets/controls",
     "model_name": "ProgressStyleModel",
     "state": {
      "_model_module": "@jupyter-widgets/controls",
      "_model_module_version": "1.5.0",
      "_model_name": "ProgressStyleModel",
      "_view_count": null,
      "_view_module": "@jupyter-widgets/base",
      "_view_module_version": "1.2.0",
      "_view_name": "StyleView",
      "bar_color": null,
      "description_width": "initial"
     }
    },
    "5f7663ed36cd4f9cab33b35948a08071": {
     "model_module": "@jupyter-widgets/base",
     "model_name": "LayoutModel",
     "state": {
      "_model_module": "@jupyter-widgets/base",
      "_model_module_version": "1.2.0",
      "_model_name": "LayoutModel",
      "_view_count": null,
      "_view_module": "@jupyter-widgets/base",
      "_view_module_version": "1.2.0",
      "_view_name": "LayoutView",
      "align_content": null,
      "align_items": null,
      "align_self": null,
      "border": null,
      "bottom": null,
      "display": null,
      "flex": null,
      "flex_flow": null,
      "grid_area": null,
      "grid_auto_columns": null,
      "grid_auto_flow": null,
      "grid_auto_rows": null,
      "grid_column": null,
      "grid_gap": null,
      "grid_row": null,
      "grid_template_areas": null,
      "grid_template_columns": null,
      "grid_template_rows": null,
      "height": null,
      "justify_content": null,
      "justify_items": null,
      "left": null,
      "margin": null,
      "max_height": null,
      "max_width": null,
      "min_height": null,
      "min_width": null,
      "object_fit": null,
      "object_position": null,
      "order": null,
      "overflow": null,
      "overflow_x": null,
      "overflow_y": null,
      "padding": null,
      "right": null,
      "top": null,
      "visibility": null,
      "width": null
     }
    },
    "5fff4c52bc524555ae23f58ce2128483": {
     "model_module": "@jupyter-widgets/controls",
     "model_name": "FloatProgressModel",
     "state": {
      "_dom_classes": [],
      "_model_module": "@jupyter-widgets/controls",
      "_model_module_version": "1.5.0",
      "_model_name": "FloatProgressModel",
      "_view_count": null,
      "_view_module": "@jupyter-widgets/controls",
      "_view_module_version": "1.5.0",
      "_view_name": "ProgressView",
      "bar_style": "success",
      "description": "Test Loss: 0.5298, Test Acc: 0.7372: 100%",
      "description_tooltip": null,
      "layout": "IPY_MODEL_f458177b9d00478f90691e6f7240ddf0",
      "max": 250,
      "min": 0,
      "orientation": "horizontal",
      "style": "IPY_MODEL_ce2c7ebc6cc94c50a945648040db0fa1",
      "value": 250
     }
    },
    "60c885924cb84d18aa60aae604ef817a": {
     "model_module": "@jupyter-widgets/controls",
     "model_name": "ProgressStyleModel",
     "state": {
      "_model_module": "@jupyter-widgets/controls",
      "_model_module_version": "1.5.0",
      "_model_name": "ProgressStyleModel",
      "_view_count": null,
      "_view_module": "@jupyter-widgets/base",
      "_view_module_version": "1.2.0",
      "_view_name": "StyleView",
      "bar_color": null,
      "description_width": "initial"
     }
    },
    "62761a4b4968469a9c9af3b8c9a8e42b": {
     "model_module": "@jupyter-widgets/base",
     "model_name": "LayoutModel",
     "state": {
      "_model_module": "@jupyter-widgets/base",
      "_model_module_version": "1.2.0",
      "_model_name": "LayoutModel",
      "_view_count": null,
      "_view_module": "@jupyter-widgets/base",
      "_view_module_version": "1.2.0",
      "_view_name": "LayoutView",
      "align_content": null,
      "align_items": null,
      "align_self": null,
      "border": null,
      "bottom": null,
      "display": null,
      "flex": null,
      "flex_flow": null,
      "grid_area": null,
      "grid_auto_columns": null,
      "grid_auto_flow": null,
      "grid_auto_rows": null,
      "grid_column": null,
      "grid_gap": null,
      "grid_row": null,
      "grid_template_areas": null,
      "grid_template_columns": null,
      "grid_template_rows": null,
      "height": null,
      "justify_content": null,
      "justify_items": null,
      "left": null,
      "margin": null,
      "max_height": null,
      "max_width": null,
      "min_height": null,
      "min_width": null,
      "object_fit": null,
      "object_position": null,
      "order": null,
      "overflow": null,
      "overflow_x": null,
      "overflow_y": null,
      "padding": null,
      "right": null,
      "top": null,
      "visibility": null,
      "width": null
     }
    },
    "62b4b086d8864f8c8201300feb2dc0e3": {
     "model_module": "@jupyter-widgets/controls",
     "model_name": "FloatProgressModel",
     "state": {
      "_dom_classes": [],
      "_model_module": "@jupyter-widgets/controls",
      "_model_module_version": "1.5.0",
      "_model_name": "FloatProgressModel",
      "_view_count": null,
      "_view_module": "@jupyter-widgets/controls",
      "_view_module_version": "1.5.0",
      "_view_name": "ProgressView",
      "bar_style": "success",
      "description": "Test Loss: 0.5528, Test Acc: 0.7214: 100%",
      "description_tooltip": null,
      "layout": "IPY_MODEL_d92c1b23cbe240e7adad58d7d71064be",
      "max": 250,
      "min": 0,
      "orientation": "horizontal",
      "style": "IPY_MODEL_9518397cac354d06b932b531c10ee32f",
      "value": 250
     }
    },
    "63db20f791474805a466596064a54972": {
     "model_module": "@jupyter-widgets/controls",
     "model_name": "DescriptionStyleModel",
     "state": {
      "_model_module": "@jupyter-widgets/controls",
      "_model_module_version": "1.5.0",
      "_model_name": "DescriptionStyleModel",
      "_view_count": null,
      "_view_module": "@jupyter-widgets/base",
      "_view_module_version": "1.2.0",
      "_view_name": "StyleView",
      "description_width": ""
     }
    },
    "65581b479ceb41db9b53c997cdd78fc6": {
     "model_module": "@jupyter-widgets/controls",
     "model_name": "DescriptionStyleModel",
     "state": {
      "_model_module": "@jupyter-widgets/controls",
      "_model_module_version": "1.5.0",
      "_model_name": "DescriptionStyleModel",
      "_view_count": null,
      "_view_module": "@jupyter-widgets/base",
      "_view_module_version": "1.2.0",
      "_view_name": "StyleView",
      "description_width": ""
     }
    },
    "656c354da7c64097844379ef32ea2391": {
     "model_module": "@jupyter-widgets/base",
     "model_name": "LayoutModel",
     "state": {
      "_model_module": "@jupyter-widgets/base",
      "_model_module_version": "1.2.0",
      "_model_name": "LayoutModel",
      "_view_count": null,
      "_view_module": "@jupyter-widgets/base",
      "_view_module_version": "1.2.0",
      "_view_name": "LayoutView",
      "align_content": null,
      "align_items": null,
      "align_self": null,
      "border": null,
      "bottom": null,
      "display": null,
      "flex": null,
      "flex_flow": null,
      "grid_area": null,
      "grid_auto_columns": null,
      "grid_auto_flow": null,
      "grid_auto_rows": null,
      "grid_column": null,
      "grid_gap": null,
      "grid_row": null,
      "grid_template_areas": null,
      "grid_template_columns": null,
      "grid_template_rows": null,
      "height": null,
      "justify_content": null,
      "justify_items": null,
      "left": null,
      "margin": null,
      "max_height": null,
      "max_width": null,
      "min_height": null,
      "min_width": null,
      "object_fit": null,
      "object_position": null,
      "order": null,
      "overflow": null,
      "overflow_x": null,
      "overflow_y": null,
      "padding": null,
      "right": null,
      "top": null,
      "visibility": null,
      "width": null
     }
    },
    "65d3ac41a3d44192809c12aa8e7e9b92": {
     "model_module": "@jupyter-widgets/controls",
     "model_name": "FloatProgressModel",
     "state": {
      "_dom_classes": [],
      "_model_module": "@jupyter-widgets/controls",
      "_model_module_version": "1.5.0",
      "_model_name": "FloatProgressModel",
      "_view_count": null,
      "_view_module": "@jupyter-widgets/controls",
      "_view_module_version": "1.5.0",
      "_view_name": "ProgressView",
      "bar_style": "success",
      "description": "Epoch 3. Train Loss: 0.5306: 100%",
      "description_tooltip": null,
      "layout": "IPY_MODEL_8f6a514c68b647538c2f977e60729bed",
      "max": 1000,
      "min": 0,
      "orientation": "horizontal",
      "style": "IPY_MODEL_417c08345d4f49c3b9ce1ce6d9117565",
      "value": 1000
     }
    },
    "66dbb72e5cc4421492c00a6f22542917": {
     "model_module": "@jupyter-widgets/controls",
     "model_name": "DescriptionStyleModel",
     "state": {
      "_model_module": "@jupyter-widgets/controls",
      "_model_module_version": "1.5.0",
      "_model_name": "DescriptionStyleModel",
      "_view_count": null,
      "_view_module": "@jupyter-widgets/base",
      "_view_module_version": "1.2.0",
      "_view_name": "StyleView",
      "description_width": ""
     }
    },
    "678ab98dbd5442aaac3d7fc19eaf3942": {
     "model_module": "@jupyter-widgets/controls",
     "model_name": "HTMLModel",
     "state": {
      "_dom_classes": [],
      "_model_module": "@jupyter-widgets/controls",
      "_model_module_version": "1.5.0",
      "_model_name": "HTMLModel",
      "_view_count": null,
      "_view_module": "@jupyter-widgets/controls",
      "_view_module_version": "1.5.0",
      "_view_name": "HTMLView",
      "description": "",
      "description_tooltip": null,
      "layout": "IPY_MODEL_9b9f556bfb2d4e1d842e1f0020b5b067",
      "placeholder": "​",
      "style": "IPY_MODEL_30973b115e884f09979070631ecce8e9",
      "value": " 250/250 [00:38&lt;00:00,  6.50it/s]"
     }
    },
    "67c39328d0484a70a04bdc97fd1c2f82": {
     "model_module": "@jupyter-widgets/controls",
     "model_name": "HBoxModel",
     "state": {
      "_dom_classes": [],
      "_model_module": "@jupyter-widgets/controls",
      "_model_module_version": "1.5.0",
      "_model_name": "HBoxModel",
      "_view_count": null,
      "_view_module": "@jupyter-widgets/controls",
      "_view_module_version": "1.5.0",
      "_view_name": "HBoxView",
      "box_style": "",
      "children": [
       "IPY_MODEL_8a65eb63daa54d29a4e610ced076bad8",
       "IPY_MODEL_cb5e88f47cf744dc837078444c06198f"
      ],
      "layout": "IPY_MODEL_a5ef508f92f1431ca595ae9e3524e4e8"
     }
    },
    "680dc515047c438e906420307045cdf3": {
     "model_module": "@jupyter-widgets/controls",
     "model_name": "ProgressStyleModel",
     "state": {
      "_model_module": "@jupyter-widgets/controls",
      "_model_module_version": "1.5.0",
      "_model_name": "ProgressStyleModel",
      "_view_count": null,
      "_view_module": "@jupyter-widgets/base",
      "_view_module_version": "1.2.0",
      "_view_name": "StyleView",
      "bar_color": null,
      "description_width": "initial"
     }
    },
    "68a27faca3c64205b07b8f8810d7bf90": {
     "model_module": "@jupyter-widgets/base",
     "model_name": "LayoutModel",
     "state": {
      "_model_module": "@jupyter-widgets/base",
      "_model_module_version": "1.2.0",
      "_model_name": "LayoutModel",
      "_view_count": null,
      "_view_module": "@jupyter-widgets/base",
      "_view_module_version": "1.2.0",
      "_view_name": "LayoutView",
      "align_content": null,
      "align_items": null,
      "align_self": null,
      "border": null,
      "bottom": null,
      "display": null,
      "flex": null,
      "flex_flow": null,
      "grid_area": null,
      "grid_auto_columns": null,
      "grid_auto_flow": null,
      "grid_auto_rows": null,
      "grid_column": null,
      "grid_gap": null,
      "grid_row": null,
      "grid_template_areas": null,
      "grid_template_columns": null,
      "grid_template_rows": null,
      "height": null,
      "justify_content": null,
      "justify_items": null,
      "left": null,
      "margin": null,
      "max_height": null,
      "max_width": null,
      "min_height": null,
      "min_width": null,
      "object_fit": null,
      "object_position": null,
      "order": null,
      "overflow": null,
      "overflow_x": null,
      "overflow_y": null,
      "padding": null,
      "right": null,
      "top": null,
      "visibility": null,
      "width": null
     }
    },
    "6911ca76b0a34501af252685d790ac5a": {
     "model_module": "@jupyter-widgets/controls",
     "model_name": "HTMLModel",
     "state": {
      "_dom_classes": [],
      "_model_module": "@jupyter-widgets/controls",
      "_model_module_version": "1.5.0",
      "_model_name": "HTMLModel",
      "_view_count": null,
      "_view_module": "@jupyter-widgets/controls",
      "_view_module_version": "1.5.0",
      "_view_name": "HTMLView",
      "description": "",
      "description_tooltip": null,
      "layout": "IPY_MODEL_8898b037993848dda0474a6d083ec735",
      "placeholder": "​",
      "style": "IPY_MODEL_65581b479ceb41db9b53c997cdd78fc6",
      "value": " 1000/1000 [03:11&lt;00:00,  5.21it/s]"
     }
    },
    "6b51ec90fa444953abfe56c196b7b5b5": {
     "model_module": "@jupyter-widgets/controls",
     "model_name": "FloatProgressModel",
     "state": {
      "_dom_classes": [],
      "_model_module": "@jupyter-widgets/controls",
      "_model_module_version": "1.5.0",
      "_model_name": "FloatProgressModel",
      "_view_count": null,
      "_view_module": "@jupyter-widgets/controls",
      "_view_module_version": "1.5.0",
      "_view_name": "ProgressView",
      "bar_style": "success",
      "description": "Epoch 3. Train Loss: 0.5167: 100%",
      "description_tooltip": null,
      "layout": "IPY_MODEL_2c8908b979f54677884dd4def30aec9c",
      "max": 1000,
      "min": 0,
      "orientation": "horizontal",
      "style": "IPY_MODEL_4967e9045dcf44de9a1f69d6718d1e38",
      "value": 1000
     }
    },
    "6b785e5912f44a7ca99903a71c6058d3": {
     "model_module": "@jupyter-widgets/controls",
     "model_name": "HTMLModel",
     "state": {
      "_dom_classes": [],
      "_model_module": "@jupyter-widgets/controls",
      "_model_module_version": "1.5.0",
      "_model_name": "HTMLModel",
      "_view_count": null,
      "_view_module": "@jupyter-widgets/controls",
      "_view_module_version": "1.5.0",
      "_view_name": "HTMLView",
      "description": "",
      "description_tooltip": null,
      "layout": "IPY_MODEL_62761a4b4968469a9c9af3b8c9a8e42b",
      "placeholder": "​",
      "style": "IPY_MODEL_534e310c0b4646489581e8d353d3fbf1",
      "value": " 1000/1000 [09:25&lt;00:00,  1.77it/s]"
     }
    },
    "6d586a3b933e4334895be6e27eed424f": {
     "model_module": "@jupyter-widgets/controls",
     "model_name": "HBoxModel",
     "state": {
      "_dom_classes": [],
      "_model_module": "@jupyter-widgets/controls",
      "_model_module_version": "1.5.0",
      "_model_name": "HBoxModel",
      "_view_count": null,
      "_view_module": "@jupyter-widgets/controls",
      "_view_module_version": "1.5.0",
      "_view_name": "HBoxView",
      "box_style": "",
      "children": [
       "IPY_MODEL_bc566a49a306402089985dc8f6b2a343",
       "IPY_MODEL_4e8c2ebb51a647f7adb19ace42aa1ad6"
      ],
      "layout": "IPY_MODEL_f67c8fc93f954a9fba63789439301421"
     }
    },
    "717301ef909c452abb019fabe2a90835": {
     "model_module": "@jupyter-widgets/controls",
     "model_name": "DescriptionStyleModel",
     "state": {
      "_model_module": "@jupyter-widgets/controls",
      "_model_module_version": "1.5.0",
      "_model_name": "DescriptionStyleModel",
      "_view_count": null,
      "_view_module": "@jupyter-widgets/base",
      "_view_module_version": "1.2.0",
      "_view_name": "StyleView",
      "description_width": ""
     }
    },
    "731e259f604a48e1aa6a793f5d5e86f6": {
     "model_module": "@jupyter-widgets/controls",
     "model_name": "ProgressStyleModel",
     "state": {
      "_model_module": "@jupyter-widgets/controls",
      "_model_module_version": "1.5.0",
      "_model_name": "ProgressStyleModel",
      "_view_count": null,
      "_view_module": "@jupyter-widgets/base",
      "_view_module_version": "1.2.0",
      "_view_name": "StyleView",
      "bar_color": null,
      "description_width": "initial"
     }
    },
    "73af25fc5a4445a8b245c8d3727ee29f": {
     "model_module": "@jupyter-widgets/controls",
     "model_name": "HBoxModel",
     "state": {
      "_dom_classes": [],
      "_model_module": "@jupyter-widgets/controls",
      "_model_module_version": "1.5.0",
      "_model_name": "HBoxModel",
      "_view_count": null,
      "_view_module": "@jupyter-widgets/controls",
      "_view_module_version": "1.5.0",
      "_view_name": "HBoxView",
      "box_style": "",
      "children": [
       "IPY_MODEL_e13c59394db0453ca730c52999aad54e",
       "IPY_MODEL_4daa983f85db4281af9631bf390a9271"
      ],
      "layout": "IPY_MODEL_7bc8d690fb46468db460a3e6e66e38e6"
     }
    },
    "748862a397804188b89d1c686e455aa7": {
     "model_module": "@jupyter-widgets/controls",
     "model_name": "HBoxModel",
     "state": {
      "_dom_classes": [],
      "_model_module": "@jupyter-widgets/controls",
      "_model_module_version": "1.5.0",
      "_model_name": "HBoxModel",
      "_view_count": null,
      "_view_module": "@jupyter-widgets/controls",
      "_view_module_version": "1.5.0",
      "_view_name": "HBoxView",
      "box_style": "",
      "children": [
       "IPY_MODEL_383fd624ff7a445eb43f1aa0cc91f7fe",
       "IPY_MODEL_ed6df54b6dc74508b9614818d688c542"
      ],
      "layout": "IPY_MODEL_35f70ce55b2b4938a5a36b3328cf2360"
     }
    },
    "7814f38881df4e79afb93acf306bb631": {
     "model_module": "@jupyter-widgets/controls",
     "model_name": "HBoxModel",
     "state": {
      "_dom_classes": [],
      "_model_module": "@jupyter-widgets/controls",
      "_model_module_version": "1.5.0",
      "_model_name": "HBoxModel",
      "_view_count": null,
      "_view_module": "@jupyter-widgets/controls",
      "_view_module_version": "1.5.0",
      "_view_name": "HBoxView",
      "box_style": "",
      "children": [
       "IPY_MODEL_49d00a9b5b104476a0fcdca5e85a37f4",
       "IPY_MODEL_80e60cb2e9b7496faf1f84e6a817fcfd"
      ],
      "layout": "IPY_MODEL_c6940dccb991407897554fda2bfbdece"
     }
    },
    "792dcc8e5d45448685803b02b3e4b2b6": {
     "model_module": "@jupyter-widgets/base",
     "model_name": "LayoutModel",
     "state": {
      "_model_module": "@jupyter-widgets/base",
      "_model_module_version": "1.2.0",
      "_model_name": "LayoutModel",
      "_view_count": null,
      "_view_module": "@jupyter-widgets/base",
      "_view_module_version": "1.2.0",
      "_view_name": "LayoutView",
      "align_content": null,
      "align_items": null,
      "align_self": null,
      "border": null,
      "bottom": null,
      "display": null,
      "flex": null,
      "flex_flow": null,
      "grid_area": null,
      "grid_auto_columns": null,
      "grid_auto_flow": null,
      "grid_auto_rows": null,
      "grid_column": null,
      "grid_gap": null,
      "grid_row": null,
      "grid_template_areas": null,
      "grid_template_columns": null,
      "grid_template_rows": null,
      "height": null,
      "justify_content": null,
      "justify_items": null,
      "left": null,
      "margin": null,
      "max_height": null,
      "max_width": null,
      "min_height": null,
      "min_width": null,
      "object_fit": null,
      "object_position": null,
      "order": null,
      "overflow": null,
      "overflow_x": null,
      "overflow_y": null,
      "padding": null,
      "right": null,
      "top": null,
      "visibility": null,
      "width": null
     }
    },
    "7b2599a8a3ef4e5f82044fc61eb07a7a": {
     "model_module": "@jupyter-widgets/controls",
     "model_name": "HBoxModel",
     "state": {
      "_dom_classes": [],
      "_model_module": "@jupyter-widgets/controls",
      "_model_module_version": "1.5.0",
      "_model_name": "HBoxModel",
      "_view_count": null,
      "_view_module": "@jupyter-widgets/controls",
      "_view_module_version": "1.5.0",
      "_view_name": "HBoxView",
      "box_style": "",
      "children": [
       "IPY_MODEL_357b672ada0d4b0e9ccb3d98b6414cd1",
       "IPY_MODEL_9bcab3d3ae64406fa127a119438053d3"
      ],
      "layout": "IPY_MODEL_0905de2634894da18dfc71bd31a259e3"
     }
    },
    "7bc8d690fb46468db460a3e6e66e38e6": {
     "model_module": "@jupyter-widgets/base",
     "model_name": "LayoutModel",
     "state": {
      "_model_module": "@jupyter-widgets/base",
      "_model_module_version": "1.2.0",
      "_model_name": "LayoutModel",
      "_view_count": null,
      "_view_module": "@jupyter-widgets/base",
      "_view_module_version": "1.2.0",
      "_view_name": "LayoutView",
      "align_content": null,
      "align_items": null,
      "align_self": null,
      "border": null,
      "bottom": null,
      "display": null,
      "flex": null,
      "flex_flow": null,
      "grid_area": null,
      "grid_auto_columns": null,
      "grid_auto_flow": null,
      "grid_auto_rows": null,
      "grid_column": null,
      "grid_gap": null,
      "grid_row": null,
      "grid_template_areas": null,
      "grid_template_columns": null,
      "grid_template_rows": null,
      "height": null,
      "justify_content": null,
      "justify_items": null,
      "left": null,
      "margin": null,
      "max_height": null,
      "max_width": null,
      "min_height": null,
      "min_width": null,
      "object_fit": null,
      "object_position": null,
      "order": null,
      "overflow": null,
      "overflow_x": null,
      "overflow_y": null,
      "padding": null,
      "right": null,
      "top": null,
      "visibility": null,
      "width": null
     }
    },
    "800d0dc645a04a36815df6e6451ca423": {
     "model_module": "@jupyter-widgets/base",
     "model_name": "LayoutModel",
     "state": {
      "_model_module": "@jupyter-widgets/base",
      "_model_module_version": "1.2.0",
      "_model_name": "LayoutModel",
      "_view_count": null,
      "_view_module": "@jupyter-widgets/base",
      "_view_module_version": "1.2.0",
      "_view_name": "LayoutView",
      "align_content": null,
      "align_items": null,
      "align_self": null,
      "border": null,
      "bottom": null,
      "display": null,
      "flex": null,
      "flex_flow": null,
      "grid_area": null,
      "grid_auto_columns": null,
      "grid_auto_flow": null,
      "grid_auto_rows": null,
      "grid_column": null,
      "grid_gap": null,
      "grid_row": null,
      "grid_template_areas": null,
      "grid_template_columns": null,
      "grid_template_rows": null,
      "height": null,
      "justify_content": null,
      "justify_items": null,
      "left": null,
      "margin": null,
      "max_height": null,
      "max_width": null,
      "min_height": null,
      "min_width": null,
      "object_fit": null,
      "object_position": null,
      "order": null,
      "overflow": null,
      "overflow_x": null,
      "overflow_y": null,
      "padding": null,
      "right": null,
      "top": null,
      "visibility": null,
      "width": null
     }
    },
    "80e60cb2e9b7496faf1f84e6a817fcfd": {
     "model_module": "@jupyter-widgets/controls",
     "model_name": "HTMLModel",
     "state": {
      "_dom_classes": [],
      "_model_module": "@jupyter-widgets/controls",
      "_model_module_version": "1.5.0",
      "_model_name": "HTMLModel",
      "_view_count": null,
      "_view_module": "@jupyter-widgets/controls",
      "_view_module_version": "1.5.0",
      "_view_name": "HTMLView",
      "description": "",
      "description_tooltip": null,
      "layout": "IPY_MODEL_5f7663ed36cd4f9cab33b35948a08071",
      "placeholder": "​",
      "style": "IPY_MODEL_4093bc7d39024cb0981ea1f815020fcb",
      "value": " 1000/1000 [12:33&lt;00:00,  1.33it/s]"
     }
    },
    "85d69c50161a42cb807f4b67122d1194": {
     "model_module": "@jupyter-widgets/base",
     "model_name": "LayoutModel",
     "state": {
      "_model_module": "@jupyter-widgets/base",
      "_model_module_version": "1.2.0",
      "_model_name": "LayoutModel",
      "_view_count": null,
      "_view_module": "@jupyter-widgets/base",
      "_view_module_version": "1.2.0",
      "_view_name": "LayoutView",
      "align_content": null,
      "align_items": null,
      "align_self": null,
      "border": null,
      "bottom": null,
      "display": null,
      "flex": null,
      "flex_flow": null,
      "grid_area": null,
      "grid_auto_columns": null,
      "grid_auto_flow": null,
      "grid_auto_rows": null,
      "grid_column": null,
      "grid_gap": null,
      "grid_row": null,
      "grid_template_areas": null,
      "grid_template_columns": null,
      "grid_template_rows": null,
      "height": null,
      "justify_content": null,
      "justify_items": null,
      "left": null,
      "margin": null,
      "max_height": null,
      "max_width": null,
      "min_height": null,
      "min_width": null,
      "object_fit": null,
      "object_position": null,
      "order": null,
      "overflow": null,
      "overflow_x": null,
      "overflow_y": null,
      "padding": null,
      "right": null,
      "top": null,
      "visibility": null,
      "width": null
     }
    },
    "862c6cd0a99142d98dd01136933a0b8c": {
     "model_module": "@jupyter-widgets/controls",
     "model_name": "HBoxModel",
     "state": {
      "_dom_classes": [],
      "_model_module": "@jupyter-widgets/controls",
      "_model_module_version": "1.5.0",
      "_model_name": "HBoxModel",
      "_view_count": null,
      "_view_module": "@jupyter-widgets/controls",
      "_view_module_version": "1.5.0",
      "_view_name": "HBoxView",
      "box_style": "",
      "children": [
       "IPY_MODEL_a0ae783a15404c13a01af257261d61d3",
       "IPY_MODEL_df507826749f4996911f6fb7455d222b"
      ],
      "layout": "IPY_MODEL_68a27faca3c64205b07b8f8810d7bf90"
     }
    },
    "870f4b0916424ee99144e65e9deacfc6": {
     "model_module": "@jupyter-widgets/controls",
     "model_name": "FloatProgressModel",
     "state": {
      "_dom_classes": [],
      "_model_module": "@jupyter-widgets/controls",
      "_model_module_version": "1.5.0",
      "_model_name": "FloatProgressModel",
      "_view_count": null,
      "_view_module": "@jupyter-widgets/controls",
      "_view_module_version": "1.5.0",
      "_view_name": "ProgressView",
      "bar_style": "success",
      "description": "Test Loss: 0.531, Test Acc: 0.7385: 100%",
      "description_tooltip": null,
      "layout": "IPY_MODEL_512c8f08ed174137b94f63dc57c96114",
      "max": 250,
      "min": 0,
      "orientation": "horizontal",
      "style": "IPY_MODEL_5e922280752c433187b36c811ba91fd9",
      "value": 250
     }
    },
    "88840c1138d249e58a81eccf2c4513f3": {
     "model_module": "@jupyter-widgets/controls",
     "model_name": "ProgressStyleModel",
     "state": {
      "_model_module": "@jupyter-widgets/controls",
      "_model_module_version": "1.5.0",
      "_model_name": "ProgressStyleModel",
      "_view_count": null,
      "_view_module": "@jupyter-widgets/base",
      "_view_module_version": "1.2.0",
      "_view_name": "StyleView",
      "bar_color": null,
      "description_width": "initial"
     }
    },
    "8898b037993848dda0474a6d083ec735": {
     "model_module": "@jupyter-widgets/base",
     "model_name": "LayoutModel",
     "state": {
      "_model_module": "@jupyter-widgets/base",
      "_model_module_version": "1.2.0",
      "_model_name": "LayoutModel",
      "_view_count": null,
      "_view_module": "@jupyter-widgets/base",
      "_view_module_version": "1.2.0",
      "_view_name": "LayoutView",
      "align_content": null,
      "align_items": null,
      "align_self": null,
      "border": null,
      "bottom": null,
      "display": null,
      "flex": null,
      "flex_flow": null,
      "grid_area": null,
      "grid_auto_columns": null,
      "grid_auto_flow": null,
      "grid_auto_rows": null,
      "grid_column": null,
      "grid_gap": null,
      "grid_row": null,
      "grid_template_areas": null,
      "grid_template_columns": null,
      "grid_template_rows": null,
      "height": null,
      "justify_content": null,
      "justify_items": null,
      "left": null,
      "margin": null,
      "max_height": null,
      "max_width": null,
      "min_height": null,
      "min_width": null,
      "object_fit": null,
      "object_position": null,
      "order": null,
      "overflow": null,
      "overflow_x": null,
      "overflow_y": null,
      "padding": null,
      "right": null,
      "top": null,
      "visibility": null,
      "width": null
     }
    },
    "89378fb0cf9d4a76beb0ffa8f3ef50b6": {
     "model_module": "@jupyter-widgets/controls",
     "model_name": "ProgressStyleModel",
     "state": {
      "_model_module": "@jupyter-widgets/controls",
      "_model_module_version": "1.5.0",
      "_model_name": "ProgressStyleModel",
      "_view_count": null,
      "_view_module": "@jupyter-widgets/base",
      "_view_module_version": "1.2.0",
      "_view_name": "StyleView",
      "bar_color": null,
      "description_width": "initial"
     }
    },
    "8a65eb63daa54d29a4e610ced076bad8": {
     "model_module": "@jupyter-widgets/controls",
     "model_name": "FloatProgressModel",
     "state": {
      "_dom_classes": [],
      "_model_module": "@jupyter-widgets/controls",
      "_model_module_version": "1.5.0",
      "_model_name": "FloatProgressModel",
      "_view_count": null,
      "_view_module": "@jupyter-widgets/controls",
      "_view_module_version": "1.5.0",
      "_view_name": "ProgressView",
      "bar_style": "success",
      "description": "Test Loss: 0.5297, Test Acc: 0.7413: 100%",
      "description_tooltip": null,
      "layout": "IPY_MODEL_572ddbed0b3f4d789e8991522d272c11",
      "max": 250,
      "min": 0,
      "orientation": "horizontal",
      "style": "IPY_MODEL_89378fb0cf9d4a76beb0ffa8f3ef50b6",
      "value": 250
     }
    },
    "8d46b19f88294b77afe6dfbf4ab6e379": {
     "model_module": "@jupyter-widgets/controls",
     "model_name": "HTMLModel",
     "state": {
      "_dom_classes": [],
      "_model_module": "@jupyter-widgets/controls",
      "_model_module_version": "1.5.0",
      "_model_name": "HTMLModel",
      "_view_count": null,
      "_view_module": "@jupyter-widgets/controls",
      "_view_module_version": "1.5.0",
      "_view_name": "HTMLView",
      "description": "",
      "description_tooltip": null,
      "layout": "IPY_MODEL_0659a414abb24ebfa943f3ba7809fb2a",
      "placeholder": "​",
      "style": "IPY_MODEL_e119bc1fdb714327a179a8d2831705f4",
      "value": " 250/250 [00:41&lt;00:00,  6.06it/s]"
     }
    },
    "8f6a514c68b647538c2f977e60729bed": {
     "model_module": "@jupyter-widgets/base",
     "model_name": "LayoutModel",
     "state": {
      "_model_module": "@jupyter-widgets/base",
      "_model_module_version": "1.2.0",
      "_model_name": "LayoutModel",
      "_view_count": null,
      "_view_module": "@jupyter-widgets/base",
      "_view_module_version": "1.2.0",
      "_view_name": "LayoutView",
      "align_content": null,
      "align_items": null,
      "align_self": null,
      "border": null,
      "bottom": null,
      "display": null,
      "flex": null,
      "flex_flow": null,
      "grid_area": null,
      "grid_auto_columns": null,
      "grid_auto_flow": null,
      "grid_auto_rows": null,
      "grid_column": null,
      "grid_gap": null,
      "grid_row": null,
      "grid_template_areas": null,
      "grid_template_columns": null,
      "grid_template_rows": null,
      "height": null,
      "justify_content": null,
      "justify_items": null,
      "left": null,
      "margin": null,
      "max_height": null,
      "max_width": null,
      "min_height": null,
      "min_width": null,
      "object_fit": null,
      "object_position": null,
      "order": null,
      "overflow": null,
      "overflow_x": null,
      "overflow_y": null,
      "padding": null,
      "right": null,
      "top": null,
      "visibility": null,
      "width": null
     }
    },
    "93260847d7cf4d7b96401d414eec7b69": {
     "model_module": "@jupyter-widgets/base",
     "model_name": "LayoutModel",
     "state": {
      "_model_module": "@jupyter-widgets/base",
      "_model_module_version": "1.2.0",
      "_model_name": "LayoutModel",
      "_view_count": null,
      "_view_module": "@jupyter-widgets/base",
      "_view_module_version": "1.2.0",
      "_view_name": "LayoutView",
      "align_content": null,
      "align_items": null,
      "align_self": null,
      "border": null,
      "bottom": null,
      "display": null,
      "flex": null,
      "flex_flow": null,
      "grid_area": null,
      "grid_auto_columns": null,
      "grid_auto_flow": null,
      "grid_auto_rows": null,
      "grid_column": null,
      "grid_gap": null,
      "grid_row": null,
      "grid_template_areas": null,
      "grid_template_columns": null,
      "grid_template_rows": null,
      "height": null,
      "justify_content": null,
      "justify_items": null,
      "left": null,
      "margin": null,
      "max_height": null,
      "max_width": null,
      "min_height": null,
      "min_width": null,
      "object_fit": null,
      "object_position": null,
      "order": null,
      "overflow": null,
      "overflow_x": null,
      "overflow_y": null,
      "padding": null,
      "right": null,
      "top": null,
      "visibility": null,
      "width": null
     }
    },
    "9518397cac354d06b932b531c10ee32f": {
     "model_module": "@jupyter-widgets/controls",
     "model_name": "ProgressStyleModel",
     "state": {
      "_model_module": "@jupyter-widgets/controls",
      "_model_module_version": "1.5.0",
      "_model_name": "ProgressStyleModel",
      "_view_count": null,
      "_view_module": "@jupyter-widgets/base",
      "_view_module_version": "1.2.0",
      "_view_name": "StyleView",
      "bar_color": null,
      "description_width": "initial"
     }
    },
    "95ce8d3534d34f7bb5eba59d41b81510": {
     "model_module": "@jupyter-widgets/controls",
     "model_name": "HBoxModel",
     "state": {
      "_dom_classes": [],
      "_model_module": "@jupyter-widgets/controls",
      "_model_module_version": "1.5.0",
      "_model_name": "HBoxModel",
      "_view_count": null,
      "_view_module": "@jupyter-widgets/controls",
      "_view_module_version": "1.5.0",
      "_view_name": "HBoxView",
      "box_style": "",
      "children": [
       "IPY_MODEL_ea3b6da790704745b7ce039a8406d0f9",
       "IPY_MODEL_ce707fef9bf84341a3dd6de9f38aec22"
      ],
      "layout": "IPY_MODEL_dfa776c83dca4d6aa511ae3bb06c04f0"
     }
    },
    "9981028ed2f74992997e3afe07715c4c": {
     "model_module": "@jupyter-widgets/controls",
     "model_name": "HTMLModel",
     "state": {
      "_dom_classes": [],
      "_model_module": "@jupyter-widgets/controls",
      "_model_module_version": "1.5.0",
      "_model_name": "HTMLModel",
      "_view_count": null,
      "_view_module": "@jupyter-widgets/controls",
      "_view_module_version": "1.5.0",
      "_view_name": "HTMLView",
      "description": "",
      "description_tooltip": null,
      "layout": "IPY_MODEL_fa69f185bf7b46079ae9314f05995866",
      "placeholder": "​",
      "style": "IPY_MODEL_66dbb72e5cc4421492c00a6f22542917",
      "value": " 1000/1000 [17:16&lt;00:00,  1.04s/it]"
     }
    },
    "9b331e46efa74dce805dc5eaff6e6696": {
     "model_module": "@jupyter-widgets/controls",
     "model_name": "ProgressStyleModel",
     "state": {
      "_model_module": "@jupyter-widgets/controls",
      "_model_module_version": "1.5.0",
      "_model_name": "ProgressStyleModel",
      "_view_count": null,
      "_view_module": "@jupyter-widgets/base",
      "_view_module_version": "1.2.0",
      "_view_name": "StyleView",
      "bar_color": null,
      "description_width": "initial"
     }
    },
    "9b9f556bfb2d4e1d842e1f0020b5b067": {
     "model_module": "@jupyter-widgets/base",
     "model_name": "LayoutModel",
     "state": {
      "_model_module": "@jupyter-widgets/base",
      "_model_module_version": "1.2.0",
      "_model_name": "LayoutModel",
      "_view_count": null,
      "_view_module": "@jupyter-widgets/base",
      "_view_module_version": "1.2.0",
      "_view_name": "LayoutView",
      "align_content": null,
      "align_items": null,
      "align_self": null,
      "border": null,
      "bottom": null,
      "display": null,
      "flex": null,
      "flex_flow": null,
      "grid_area": null,
      "grid_auto_columns": null,
      "grid_auto_flow": null,
      "grid_auto_rows": null,
      "grid_column": null,
      "grid_gap": null,
      "grid_row": null,
      "grid_template_areas": null,
      "grid_template_columns": null,
      "grid_template_rows": null,
      "height": null,
      "justify_content": null,
      "justify_items": null,
      "left": null,
      "margin": null,
      "max_height": null,
      "max_width": null,
      "min_height": null,
      "min_width": null,
      "object_fit": null,
      "object_position": null,
      "order": null,
      "overflow": null,
      "overflow_x": null,
      "overflow_y": null,
      "padding": null,
      "right": null,
      "top": null,
      "visibility": null,
      "width": null
     }
    },
    "9bcab3d3ae64406fa127a119438053d3": {
     "model_module": "@jupyter-widgets/controls",
     "model_name": "HTMLModel",
     "state": {
      "_dom_classes": [],
      "_model_module": "@jupyter-widgets/controls",
      "_model_module_version": "1.5.0",
      "_model_name": "HTMLModel",
      "_view_count": null,
      "_view_module": "@jupyter-widgets/controls",
      "_view_module_version": "1.5.0",
      "_view_name": "HTMLView",
      "description": "",
      "description_tooltip": null,
      "layout": "IPY_MODEL_e6bbef79aba44dfda4c0ffe1022abf4a",
      "placeholder": "​",
      "style": "IPY_MODEL_a53cc908b4ab4aa6b595d53fad9229fa",
      "value": " 250/250 [15:23&lt;00:00,  3.69s/it]"
     }
    },
    "9c50b843a0bc40ab8c3130adc179d1ce": {
     "model_module": "@jupyter-widgets/base",
     "model_name": "LayoutModel",
     "state": {
      "_model_module": "@jupyter-widgets/base",
      "_model_module_version": "1.2.0",
      "_model_name": "LayoutModel",
      "_view_count": null,
      "_view_module": "@jupyter-widgets/base",
      "_view_module_version": "1.2.0",
      "_view_name": "LayoutView",
      "align_content": null,
      "align_items": null,
      "align_self": null,
      "border": null,
      "bottom": null,
      "display": null,
      "flex": null,
      "flex_flow": null,
      "grid_area": null,
      "grid_auto_columns": null,
      "grid_auto_flow": null,
      "grid_auto_rows": null,
      "grid_column": null,
      "grid_gap": null,
      "grid_row": null,
      "grid_template_areas": null,
      "grid_template_columns": null,
      "grid_template_rows": null,
      "height": null,
      "justify_content": null,
      "justify_items": null,
      "left": null,
      "margin": null,
      "max_height": null,
      "max_width": null,
      "min_height": null,
      "min_width": null,
      "object_fit": null,
      "object_position": null,
      "order": null,
      "overflow": null,
      "overflow_x": null,
      "overflow_y": null,
      "padding": null,
      "right": null,
      "top": null,
      "visibility": null,
      "width": null
     }
    },
    "9d4089e0049740f6b15caa65ef105cb6": {
     "model_module": "@jupyter-widgets/base",
     "model_name": "LayoutModel",
     "state": {
      "_model_module": "@jupyter-widgets/base",
      "_model_module_version": "1.2.0",
      "_model_name": "LayoutModel",
      "_view_count": null,
      "_view_module": "@jupyter-widgets/base",
      "_view_module_version": "1.2.0",
      "_view_name": "LayoutView",
      "align_content": null,
      "align_items": null,
      "align_self": null,
      "border": null,
      "bottom": null,
      "display": null,
      "flex": null,
      "flex_flow": null,
      "grid_area": null,
      "grid_auto_columns": null,
      "grid_auto_flow": null,
      "grid_auto_rows": null,
      "grid_column": null,
      "grid_gap": null,
      "grid_row": null,
      "grid_template_areas": null,
      "grid_template_columns": null,
      "grid_template_rows": null,
      "height": null,
      "justify_content": null,
      "justify_items": null,
      "left": null,
      "margin": null,
      "max_height": null,
      "max_width": null,
      "min_height": null,
      "min_width": null,
      "object_fit": null,
      "object_position": null,
      "order": null,
      "overflow": null,
      "overflow_x": null,
      "overflow_y": null,
      "padding": null,
      "right": null,
      "top": null,
      "visibility": null,
      "width": null
     }
    },
    "9dc9aa67370347869a0145405c56799c": {
     "model_module": "@jupyter-widgets/controls",
     "model_name": "HBoxModel",
     "state": {
      "_dom_classes": [],
      "_model_module": "@jupyter-widgets/controls",
      "_model_module_version": "1.5.0",
      "_model_name": "HBoxModel",
      "_view_count": null,
      "_view_module": "@jupyter-widgets/controls",
      "_view_module_version": "1.5.0",
      "_view_name": "HBoxView",
      "box_style": "",
      "children": [
       "IPY_MODEL_5fff4c52bc524555ae23f58ce2128483",
       "IPY_MODEL_a359465a95634e91a28f566b012d9ab7"
      ],
      "layout": "IPY_MODEL_e3d6ddabc07142dfba5a98243c248165"
     }
    },
    "9dc9c1c06b44453ab0d1019b05165ad4": {
     "model_module": "@jupyter-widgets/base",
     "model_name": "LayoutModel",
     "state": {
      "_model_module": "@jupyter-widgets/base",
      "_model_module_version": "1.2.0",
      "_model_name": "LayoutModel",
      "_view_count": null,
      "_view_module": "@jupyter-widgets/base",
      "_view_module_version": "1.2.0",
      "_view_name": "LayoutView",
      "align_content": null,
      "align_items": null,
      "align_self": null,
      "border": null,
      "bottom": null,
      "display": null,
      "flex": null,
      "flex_flow": null,
      "grid_area": null,
      "grid_auto_columns": null,
      "grid_auto_flow": null,
      "grid_auto_rows": null,
      "grid_column": null,
      "grid_gap": null,
      "grid_row": null,
      "grid_template_areas": null,
      "grid_template_columns": null,
      "grid_template_rows": null,
      "height": null,
      "justify_content": null,
      "justify_items": null,
      "left": null,
      "margin": null,
      "max_height": null,
      "max_width": null,
      "min_height": null,
      "min_width": null,
      "object_fit": null,
      "object_position": null,
      "order": null,
      "overflow": null,
      "overflow_x": null,
      "overflow_y": null,
      "padding": null,
      "right": null,
      "top": null,
      "visibility": null,
      "width": null
     }
    },
    "a0ae783a15404c13a01af257261d61d3": {
     "model_module": "@jupyter-widgets/controls",
     "model_name": "FloatProgressModel",
     "state": {
      "_dom_classes": [],
      "_model_module": "@jupyter-widgets/controls",
      "_model_module_version": "1.5.0",
      "_model_name": "FloatProgressModel",
      "_view_count": null,
      "_view_module": "@jupyter-widgets/controls",
      "_view_module_version": "1.5.0",
      "_view_name": "ProgressView",
      "bar_style": "success",
      "description": "Test Loss: 0.551, Test Acc: 0.724: 100%",
      "description_tooltip": null,
      "layout": "IPY_MODEL_bcd6e0d588e043d0b949c04b1a07da22",
      "max": 250,
      "min": 0,
      "orientation": "horizontal",
      "style": "IPY_MODEL_60c885924cb84d18aa60aae604ef817a",
      "value": 250
     }
    },
    "a155a33c699840c0af6d540c529654ec": {
     "model_module": "@jupyter-widgets/controls",
     "model_name": "FloatProgressModel",
     "state": {
      "_dom_classes": [],
      "_model_module": "@jupyter-widgets/controls",
      "_model_module_version": "1.5.0",
      "_model_name": "FloatProgressModel",
      "_view_count": null,
      "_view_module": "@jupyter-widgets/controls",
      "_view_module_version": "1.5.0",
      "_view_name": "ProgressView",
      "bar_style": "success",
      "description": "Epoch 1. Train Loss: 0.5451: 100%",
      "description_tooltip": null,
      "layout": "IPY_MODEL_792dcc8e5d45448685803b02b3e4b2b6",
      "max": 1000,
      "min": 0,
      "orientation": "horizontal",
      "style": "IPY_MODEL_9b331e46efa74dce805dc5eaff6e6696",
      "value": 1000
     }
    },
    "a2dd039f7b204dab8fc812e93c1b06f3": {
     "model_module": "@jupyter-widgets/base",
     "model_name": "LayoutModel",
     "state": {
      "_model_module": "@jupyter-widgets/base",
      "_model_module_version": "1.2.0",
      "_model_name": "LayoutModel",
      "_view_count": null,
      "_view_module": "@jupyter-widgets/base",
      "_view_module_version": "1.2.0",
      "_view_name": "LayoutView",
      "align_content": null,
      "align_items": null,
      "align_self": null,
      "border": null,
      "bottom": null,
      "display": null,
      "flex": null,
      "flex_flow": null,
      "grid_area": null,
      "grid_auto_columns": null,
      "grid_auto_flow": null,
      "grid_auto_rows": null,
      "grid_column": null,
      "grid_gap": null,
      "grid_row": null,
      "grid_template_areas": null,
      "grid_template_columns": null,
      "grid_template_rows": null,
      "height": null,
      "justify_content": null,
      "justify_items": null,
      "left": null,
      "margin": null,
      "max_height": null,
      "max_width": null,
      "min_height": null,
      "min_width": null,
      "object_fit": null,
      "object_position": null,
      "order": null,
      "overflow": null,
      "overflow_x": null,
      "overflow_y": null,
      "padding": null,
      "right": null,
      "top": null,
      "visibility": null,
      "width": null
     }
    },
    "a359465a95634e91a28f566b012d9ab7": {
     "model_module": "@jupyter-widgets/controls",
     "model_name": "HTMLModel",
     "state": {
      "_dom_classes": [],
      "_model_module": "@jupyter-widgets/controls",
      "_model_module_version": "1.5.0",
      "_model_name": "HTMLModel",
      "_view_count": null,
      "_view_module": "@jupyter-widgets/controls",
      "_view_module_version": "1.5.0",
      "_view_name": "HTMLView",
      "description": "",
      "description_tooltip": null,
      "layout": "IPY_MODEL_9d4089e0049740f6b15caa65ef105cb6",
      "placeholder": "​",
      "style": "IPY_MODEL_c462f8e62f4540fdb033e818103fe7bb",
      "value": " 250/250 [00:40&lt;00:00,  6.18it/s]"
     }
    },
    "a53cc908b4ab4aa6b595d53fad9229fa": {
     "model_module": "@jupyter-widgets/controls",
     "model_name": "DescriptionStyleModel",
     "state": {
      "_model_module": "@jupyter-widgets/controls",
      "_model_module_version": "1.5.0",
      "_model_name": "DescriptionStyleModel",
      "_view_count": null,
      "_view_module": "@jupyter-widgets/base",
      "_view_module_version": "1.2.0",
      "_view_name": "StyleView",
      "description_width": ""
     }
    },
    "a585367d31ea48499b046f78ae44ebd8": {
     "model_module": "@jupyter-widgets/controls",
     "model_name": "FloatProgressModel",
     "state": {
      "_dom_classes": [],
      "_model_module": "@jupyter-widgets/controls",
      "_model_module_version": "1.5.0",
      "_model_name": "FloatProgressModel",
      "_view_count": null,
      "_view_module": "@jupyter-widgets/controls",
      "_view_module_version": "1.5.0",
      "_view_name": "ProgressView",
      "bar_style": "success",
      "description": "Test Loss: 0.6117, Test Acc: 0.709: 100%",
      "description_tooltip": null,
      "layout": "IPY_MODEL_010ada69fe5543ff9f298f2444416421",
      "max": 313,
      "min": 0,
      "orientation": "horizontal",
      "style": "IPY_MODEL_680dc515047c438e906420307045cdf3",
      "value": 313
     }
    },
    "a5968d9d3cc945eea8b2d55585cc357a": {
     "model_module": "@jupyter-widgets/base",
     "model_name": "LayoutModel",
     "state": {
      "_model_module": "@jupyter-widgets/base",
      "_model_module_version": "1.2.0",
      "_model_name": "LayoutModel",
      "_view_count": null,
      "_view_module": "@jupyter-widgets/base",
      "_view_module_version": "1.2.0",
      "_view_name": "LayoutView",
      "align_content": null,
      "align_items": null,
      "align_self": null,
      "border": null,
      "bottom": null,
      "display": null,
      "flex": null,
      "flex_flow": null,
      "grid_area": null,
      "grid_auto_columns": null,
      "grid_auto_flow": null,
      "grid_auto_rows": null,
      "grid_column": null,
      "grid_gap": null,
      "grid_row": null,
      "grid_template_areas": null,
      "grid_template_columns": null,
      "grid_template_rows": null,
      "height": null,
      "justify_content": null,
      "justify_items": null,
      "left": null,
      "margin": null,
      "max_height": null,
      "max_width": null,
      "min_height": null,
      "min_width": null,
      "object_fit": null,
      "object_position": null,
      "order": null,
      "overflow": null,
      "overflow_x": null,
      "overflow_y": null,
      "padding": null,
      "right": null,
      "top": null,
      "visibility": null,
      "width": null
     }
    },
    "a5ef508f92f1431ca595ae9e3524e4e8": {
     "model_module": "@jupyter-widgets/base",
     "model_name": "LayoutModel",
     "state": {
      "_model_module": "@jupyter-widgets/base",
      "_model_module_version": "1.2.0",
      "_model_name": "LayoutModel",
      "_view_count": null,
      "_view_module": "@jupyter-widgets/base",
      "_view_module_version": "1.2.0",
      "_view_name": "LayoutView",
      "align_content": null,
      "align_items": null,
      "align_self": null,
      "border": null,
      "bottom": null,
      "display": null,
      "flex": null,
      "flex_flow": null,
      "grid_area": null,
      "grid_auto_columns": null,
      "grid_auto_flow": null,
      "grid_auto_rows": null,
      "grid_column": null,
      "grid_gap": null,
      "grid_row": null,
      "grid_template_areas": null,
      "grid_template_columns": null,
      "grid_template_rows": null,
      "height": null,
      "justify_content": null,
      "justify_items": null,
      "left": null,
      "margin": null,
      "max_height": null,
      "max_width": null,
      "min_height": null,
      "min_width": null,
      "object_fit": null,
      "object_position": null,
      "order": null,
      "overflow": null,
      "overflow_x": null,
      "overflow_y": null,
      "padding": null,
      "right": null,
      "top": null,
      "visibility": null,
      "width": null
     }
    },
    "a986381a054a44b39035031bf11521b2": {
     "model_module": "@jupyter-widgets/controls",
     "model_name": "FloatProgressModel",
     "state": {
      "_dom_classes": [],
      "_model_module": "@jupyter-widgets/controls",
      "_model_module_version": "1.5.0",
      "_model_name": "FloatProgressModel",
      "_view_count": null,
      "_view_module": "@jupyter-widgets/controls",
      "_view_module_version": "1.5.0",
      "_view_name": "ProgressView",
      "bar_style": "success",
      "description": "Epoch 2. Train Loss: 0.5326: 100%",
      "description_tooltip": null,
      "layout": "IPY_MODEL_1349b0b6d6ca4903a3043aed472b1268",
      "max": 1000,
      "min": 0,
      "orientation": "horizontal",
      "style": "IPY_MODEL_012a76a2dbce4f5ab2e59611607178b9",
      "value": 1000
     }
    },
    "aa12f75bb5c84584a95fad8745529c3f": {
     "model_module": "@jupyter-widgets/controls",
     "model_name": "ProgressStyleModel",
     "state": {
      "_model_module": "@jupyter-widgets/controls",
      "_model_module_version": "1.5.0",
      "_model_name": "ProgressStyleModel",
      "_view_count": null,
      "_view_module": "@jupyter-widgets/base",
      "_view_module_version": "1.2.0",
      "_view_name": "StyleView",
      "bar_color": null,
      "description_width": "initial"
     }
    },
    "ab0927b6115f4e9c8b04018e7310a552": {
     "model_module": "@jupyter-widgets/controls",
     "model_name": "ProgressStyleModel",
     "state": {
      "_model_module": "@jupyter-widgets/controls",
      "_model_module_version": "1.5.0",
      "_model_name": "ProgressStyleModel",
      "_view_count": null,
      "_view_module": "@jupyter-widgets/base",
      "_view_module_version": "1.2.0",
      "_view_name": "StyleView",
      "bar_color": null,
      "description_width": "initial"
     }
    },
    "ab52cdd0bd2b45828ce0d8f010a86420": {
     "model_module": "@jupyter-widgets/base",
     "model_name": "LayoutModel",
     "state": {
      "_model_module": "@jupyter-widgets/base",
      "_model_module_version": "1.2.0",
      "_model_name": "LayoutModel",
      "_view_count": null,
      "_view_module": "@jupyter-widgets/base",
      "_view_module_version": "1.2.0",
      "_view_name": "LayoutView",
      "align_content": null,
      "align_items": null,
      "align_self": null,
      "border": null,
      "bottom": null,
      "display": null,
      "flex": null,
      "flex_flow": null,
      "grid_area": null,
      "grid_auto_columns": null,
      "grid_auto_flow": null,
      "grid_auto_rows": null,
      "grid_column": null,
      "grid_gap": null,
      "grid_row": null,
      "grid_template_areas": null,
      "grid_template_columns": null,
      "grid_template_rows": null,
      "height": null,
      "justify_content": null,
      "justify_items": null,
      "left": null,
      "margin": null,
      "max_height": null,
      "max_width": null,
      "min_height": null,
      "min_width": null,
      "object_fit": null,
      "object_position": null,
      "order": null,
      "overflow": null,
      "overflow_x": null,
      "overflow_y": null,
      "padding": null,
      "right": null,
      "top": null,
      "visibility": null,
      "width": null
     }
    },
    "b6ce03593d9c44f4bf037090050170c5": {
     "model_module": "@jupyter-widgets/base",
     "model_name": "LayoutModel",
     "state": {
      "_model_module": "@jupyter-widgets/base",
      "_model_module_version": "1.2.0",
      "_model_name": "LayoutModel",
      "_view_count": null,
      "_view_module": "@jupyter-widgets/base",
      "_view_module_version": "1.2.0",
      "_view_name": "LayoutView",
      "align_content": null,
      "align_items": null,
      "align_self": null,
      "border": null,
      "bottom": null,
      "display": null,
      "flex": null,
      "flex_flow": null,
      "grid_area": null,
      "grid_auto_columns": null,
      "grid_auto_flow": null,
      "grid_auto_rows": null,
      "grid_column": null,
      "grid_gap": null,
      "grid_row": null,
      "grid_template_areas": null,
      "grid_template_columns": null,
      "grid_template_rows": null,
      "height": null,
      "justify_content": null,
      "justify_items": null,
      "left": null,
      "margin": null,
      "max_height": null,
      "max_width": null,
      "min_height": null,
      "min_width": null,
      "object_fit": null,
      "object_position": null,
      "order": null,
      "overflow": null,
      "overflow_x": null,
      "overflow_y": null,
      "padding": null,
      "right": null,
      "top": null,
      "visibility": null,
      "width": null
     }
    },
    "b7534f9aa837432f9a688f7eaeb7ed08": {
     "model_module": "@jupyter-widgets/controls",
     "model_name": "HBoxModel",
     "state": {
      "_dom_classes": [],
      "_model_module": "@jupyter-widgets/controls",
      "_model_module_version": "1.5.0",
      "_model_name": "HBoxModel",
      "_view_count": null,
      "_view_module": "@jupyter-widgets/controls",
      "_view_module_version": "1.5.0",
      "_view_name": "HBoxView",
      "box_style": "",
      "children": [
       "IPY_MODEL_e474ffeba70f42b2b0cab83d58b6d15a",
       "IPY_MODEL_c87942e29a28439ab404476a68304a80"
      ],
      "layout": "IPY_MODEL_3741527aa5ab4ff5a5f1ea5a89f9b5ab"
     }
    },
    "bbcda39dd6b947d6a5559226939b3ff4": {
     "model_module": "@jupyter-widgets/base",
     "model_name": "LayoutModel",
     "state": {
      "_model_module": "@jupyter-widgets/base",
      "_model_module_version": "1.2.0",
      "_model_name": "LayoutModel",
      "_view_count": null,
      "_view_module": "@jupyter-widgets/base",
      "_view_module_version": "1.2.0",
      "_view_name": "LayoutView",
      "align_content": null,
      "align_items": null,
      "align_self": null,
      "border": null,
      "bottom": null,
      "display": null,
      "flex": null,
      "flex_flow": null,
      "grid_area": null,
      "grid_auto_columns": null,
      "grid_auto_flow": null,
      "grid_auto_rows": null,
      "grid_column": null,
      "grid_gap": null,
      "grid_row": null,
      "grid_template_areas": null,
      "grid_template_columns": null,
      "grid_template_rows": null,
      "height": null,
      "justify_content": null,
      "justify_items": null,
      "left": null,
      "margin": null,
      "max_height": null,
      "max_width": null,
      "min_height": null,
      "min_width": null,
      "object_fit": null,
      "object_position": null,
      "order": null,
      "overflow": null,
      "overflow_x": null,
      "overflow_y": null,
      "padding": null,
      "right": null,
      "top": null,
      "visibility": null,
      "width": null
     }
    },
    "bc566a49a306402089985dc8f6b2a343": {
     "model_module": "@jupyter-widgets/controls",
     "model_name": "FloatProgressModel",
     "state": {
      "_dom_classes": [],
      "_model_module": "@jupyter-widgets/controls",
      "_model_module_version": "1.5.0",
      "_model_name": "FloatProgressModel",
      "_view_count": null,
      "_view_module": "@jupyter-widgets/controls",
      "_view_module_version": "1.5.0",
      "_view_name": "ProgressView",
      "bar_style": "success",
      "description": "Epoch 2. Train Loss: 0.549: 100%",
      "description_tooltip": null,
      "layout": "IPY_MODEL_cf785761c2f64afb987804272e16a43c",
      "max": 1000,
      "min": 0,
      "orientation": "horizontal",
      "style": "IPY_MODEL_ee5eb94c835b4fb4be99d18f732a1c24",
      "value": 1000
     }
    },
    "bcd6e0d588e043d0b949c04b1a07da22": {
     "model_module": "@jupyter-widgets/base",
     "model_name": "LayoutModel",
     "state": {
      "_model_module": "@jupyter-widgets/base",
      "_model_module_version": "1.2.0",
      "_model_name": "LayoutModel",
      "_view_count": null,
      "_view_module": "@jupyter-widgets/base",
      "_view_module_version": "1.2.0",
      "_view_name": "LayoutView",
      "align_content": null,
      "align_items": null,
      "align_self": null,
      "border": null,
      "bottom": null,
      "display": null,
      "flex": null,
      "flex_flow": null,
      "grid_area": null,
      "grid_auto_columns": null,
      "grid_auto_flow": null,
      "grid_auto_rows": null,
      "grid_column": null,
      "grid_gap": null,
      "grid_row": null,
      "grid_template_areas": null,
      "grid_template_columns": null,
      "grid_template_rows": null,
      "height": null,
      "justify_content": null,
      "justify_items": null,
      "left": null,
      "margin": null,
      "max_height": null,
      "max_width": null,
      "min_height": null,
      "min_width": null,
      "object_fit": null,
      "object_position": null,
      "order": null,
      "overflow": null,
      "overflow_x": null,
      "overflow_y": null,
      "padding": null,
      "right": null,
      "top": null,
      "visibility": null,
      "width": null
     }
    },
    "bdc21897b601411284927c8e166c7cbc": {
     "model_module": "@jupyter-widgets/controls",
     "model_name": "DescriptionStyleModel",
     "state": {
      "_model_module": "@jupyter-widgets/controls",
      "_model_module_version": "1.5.0",
      "_model_name": "DescriptionStyleModel",
      "_view_count": null,
      "_view_module": "@jupyter-widgets/base",
      "_view_module_version": "1.2.0",
      "_view_name": "StyleView",
      "description_width": ""
     }
    },
    "c0f1cae5ff18421fa6d233c1d0e5758a": {
     "model_module": "@jupyter-widgets/controls",
     "model_name": "DescriptionStyleModel",
     "state": {
      "_model_module": "@jupyter-widgets/controls",
      "_model_module_version": "1.5.0",
      "_model_name": "DescriptionStyleModel",
      "_view_count": null,
      "_view_module": "@jupyter-widgets/base",
      "_view_module_version": "1.2.0",
      "_view_name": "StyleView",
      "description_width": ""
     }
    },
    "c3b89564a03f412886005ac9901a0ee8": {
     "model_module": "@jupyter-widgets/base",
     "model_name": "LayoutModel",
     "state": {
      "_model_module": "@jupyter-widgets/base",
      "_model_module_version": "1.2.0",
      "_model_name": "LayoutModel",
      "_view_count": null,
      "_view_module": "@jupyter-widgets/base",
      "_view_module_version": "1.2.0",
      "_view_name": "LayoutView",
      "align_content": null,
      "align_items": null,
      "align_self": null,
      "border": null,
      "bottom": null,
      "display": null,
      "flex": null,
      "flex_flow": null,
      "grid_area": null,
      "grid_auto_columns": null,
      "grid_auto_flow": null,
      "grid_auto_rows": null,
      "grid_column": null,
      "grid_gap": null,
      "grid_row": null,
      "grid_template_areas": null,
      "grid_template_columns": null,
      "grid_template_rows": null,
      "height": null,
      "justify_content": null,
      "justify_items": null,
      "left": null,
      "margin": null,
      "max_height": null,
      "max_width": null,
      "min_height": null,
      "min_width": null,
      "object_fit": null,
      "object_position": null,
      "order": null,
      "overflow": null,
      "overflow_x": null,
      "overflow_y": null,
      "padding": null,
      "right": null,
      "top": null,
      "visibility": null,
      "width": null
     }
    },
    "c462f8e62f4540fdb033e818103fe7bb": {
     "model_module": "@jupyter-widgets/controls",
     "model_name": "DescriptionStyleModel",
     "state": {
      "_model_module": "@jupyter-widgets/controls",
      "_model_module_version": "1.5.0",
      "_model_name": "DescriptionStyleModel",
      "_view_count": null,
      "_view_module": "@jupyter-widgets/base",
      "_view_module_version": "1.2.0",
      "_view_name": "StyleView",
      "description_width": ""
     }
    },
    "c602c87b61df4ff59c9b6bfd5f97e685": {
     "model_module": "@jupyter-widgets/base",
     "model_name": "LayoutModel",
     "state": {
      "_model_module": "@jupyter-widgets/base",
      "_model_module_version": "1.2.0",
      "_model_name": "LayoutModel",
      "_view_count": null,
      "_view_module": "@jupyter-widgets/base",
      "_view_module_version": "1.2.0",
      "_view_name": "LayoutView",
      "align_content": null,
      "align_items": null,
      "align_self": null,
      "border": null,
      "bottom": null,
      "display": null,
      "flex": null,
      "flex_flow": null,
      "grid_area": null,
      "grid_auto_columns": null,
      "grid_auto_flow": null,
      "grid_auto_rows": null,
      "grid_column": null,
      "grid_gap": null,
      "grid_row": null,
      "grid_template_areas": null,
      "grid_template_columns": null,
      "grid_template_rows": null,
      "height": null,
      "justify_content": null,
      "justify_items": null,
      "left": null,
      "margin": null,
      "max_height": null,
      "max_width": null,
      "min_height": null,
      "min_width": null,
      "object_fit": null,
      "object_position": null,
      "order": null,
      "overflow": null,
      "overflow_x": null,
      "overflow_y": null,
      "padding": null,
      "right": null,
      "top": null,
      "visibility": null,
      "width": null
     }
    },
    "c6940dccb991407897554fda2bfbdece": {
     "model_module": "@jupyter-widgets/base",
     "model_name": "LayoutModel",
     "state": {
      "_model_module": "@jupyter-widgets/base",
      "_model_module_version": "1.2.0",
      "_model_name": "LayoutModel",
      "_view_count": null,
      "_view_module": "@jupyter-widgets/base",
      "_view_module_version": "1.2.0",
      "_view_name": "LayoutView",
      "align_content": null,
      "align_items": null,
      "align_self": null,
      "border": null,
      "bottom": null,
      "display": null,
      "flex": null,
      "flex_flow": null,
      "grid_area": null,
      "grid_auto_columns": null,
      "grid_auto_flow": null,
      "grid_auto_rows": null,
      "grid_column": null,
      "grid_gap": null,
      "grid_row": null,
      "grid_template_areas": null,
      "grid_template_columns": null,
      "grid_template_rows": null,
      "height": null,
      "justify_content": null,
      "justify_items": null,
      "left": null,
      "margin": null,
      "max_height": null,
      "max_width": null,
      "min_height": null,
      "min_width": null,
      "object_fit": null,
      "object_position": null,
      "order": null,
      "overflow": null,
      "overflow_x": null,
      "overflow_y": null,
      "padding": null,
      "right": null,
      "top": null,
      "visibility": null,
      "width": null
     }
    },
    "c87942e29a28439ab404476a68304a80": {
     "model_module": "@jupyter-widgets/controls",
     "model_name": "HTMLModel",
     "state": {
      "_dom_classes": [],
      "_model_module": "@jupyter-widgets/controls",
      "_model_module_version": "1.5.0",
      "_model_name": "HTMLModel",
      "_view_count": null,
      "_view_module": "@jupyter-widgets/controls",
      "_view_module_version": "1.5.0",
      "_view_name": "HTMLView",
      "description": "",
      "description_tooltip": null,
      "layout": "IPY_MODEL_31974821ac4f46dab3fa69a7b18eaf2f",
      "placeholder": "​",
      "style": "IPY_MODEL_bdc21897b601411284927c8e166c7cbc",
      "value": " 313/313 [10:05&lt;00:00,  1.93s/it]"
     }
    },
    "cb5e88f47cf744dc837078444c06198f": {
     "model_module": "@jupyter-widgets/controls",
     "model_name": "HTMLModel",
     "state": {
      "_dom_classes": [],
      "_model_module": "@jupyter-widgets/controls",
      "_model_module_version": "1.5.0",
      "_model_name": "HTMLModel",
      "_view_count": null,
      "_view_module": "@jupyter-widgets/controls",
      "_view_module_version": "1.5.0",
      "_view_name": "HTMLView",
      "description": "",
      "description_tooltip": null,
      "layout": "IPY_MODEL_bbcda39dd6b947d6a5559226939b3ff4",
      "placeholder": "​",
      "style": "IPY_MODEL_dd05922591af4acaa50eb6665a060f32",
      "value": " 250/250 [00:45&lt;00:00,  5.55it/s]"
     }
    },
    "cd53330702894a85bb3c7b486428562c": {
     "model_module": "@jupyter-widgets/base",
     "model_name": "LayoutModel",
     "state": {
      "_model_module": "@jupyter-widgets/base",
      "_model_module_version": "1.2.0",
      "_model_name": "LayoutModel",
      "_view_count": null,
      "_view_module": "@jupyter-widgets/base",
      "_view_module_version": "1.2.0",
      "_view_name": "LayoutView",
      "align_content": null,
      "align_items": null,
      "align_self": null,
      "border": null,
      "bottom": null,
      "display": null,
      "flex": null,
      "flex_flow": null,
      "grid_area": null,
      "grid_auto_columns": null,
      "grid_auto_flow": null,
      "grid_auto_rows": null,
      "grid_column": null,
      "grid_gap": null,
      "grid_row": null,
      "grid_template_areas": null,
      "grid_template_columns": null,
      "grid_template_rows": null,
      "height": null,
      "justify_content": null,
      "justify_items": null,
      "left": null,
      "margin": null,
      "max_height": null,
      "max_width": null,
      "min_height": null,
      "min_width": null,
      "object_fit": null,
      "object_position": null,
      "order": null,
      "overflow": null,
      "overflow_x": null,
      "overflow_y": null,
      "padding": null,
      "right": null,
      "top": null,
      "visibility": null,
      "width": null
     }
    },
    "ce2c7ebc6cc94c50a945648040db0fa1": {
     "model_module": "@jupyter-widgets/controls",
     "model_name": "ProgressStyleModel",
     "state": {
      "_model_module": "@jupyter-widgets/controls",
      "_model_module_version": "1.5.0",
      "_model_name": "ProgressStyleModel",
      "_view_count": null,
      "_view_module": "@jupyter-widgets/base",
      "_view_module_version": "1.2.0",
      "_view_name": "StyleView",
      "bar_color": null,
      "description_width": "initial"
     }
    },
    "ce707fef9bf84341a3dd6de9f38aec22": {
     "model_module": "@jupyter-widgets/controls",
     "model_name": "HTMLModel",
     "state": {
      "_dom_classes": [],
      "_model_module": "@jupyter-widgets/controls",
      "_model_module_version": "1.5.0",
      "_model_name": "HTMLModel",
      "_view_count": null,
      "_view_module": "@jupyter-widgets/controls",
      "_view_module_version": "1.5.0",
      "_view_name": "HTMLView",
      "description": "",
      "description_tooltip": null,
      "layout": "IPY_MODEL_cd53330702894a85bb3c7b486428562c",
      "placeholder": "​",
      "style": "IPY_MODEL_dbd59a2190384e4e86a37176e4403c52",
      "value": " 1000/1000 [14:54&lt;00:00,  1.12it/s]"
     }
    },
    "cf785761c2f64afb987804272e16a43c": {
     "model_module": "@jupyter-widgets/base",
     "model_name": "LayoutModel",
     "state": {
      "_model_module": "@jupyter-widgets/base",
      "_model_module_version": "1.2.0",
      "_model_name": "LayoutModel",
      "_view_count": null,
      "_view_module": "@jupyter-widgets/base",
      "_view_module_version": "1.2.0",
      "_view_name": "LayoutView",
      "align_content": null,
      "align_items": null,
      "align_self": null,
      "border": null,
      "bottom": null,
      "display": null,
      "flex": null,
      "flex_flow": null,
      "grid_area": null,
      "grid_auto_columns": null,
      "grid_auto_flow": null,
      "grid_auto_rows": null,
      "grid_column": null,
      "grid_gap": null,
      "grid_row": null,
      "grid_template_areas": null,
      "grid_template_columns": null,
      "grid_template_rows": null,
      "height": null,
      "justify_content": null,
      "justify_items": null,
      "left": null,
      "margin": null,
      "max_height": null,
      "max_width": null,
      "min_height": null,
      "min_width": null,
      "object_fit": null,
      "object_position": null,
      "order": null,
      "overflow": null,
      "overflow_x": null,
      "overflow_y": null,
      "padding": null,
      "right": null,
      "top": null,
      "visibility": null,
      "width": null
     }
    },
    "cf96ea67b3ff45ddbb770a9011738d87": {
     "model_module": "@jupyter-widgets/base",
     "model_name": "LayoutModel",
     "state": {
      "_model_module": "@jupyter-widgets/base",
      "_model_module_version": "1.2.0",
      "_model_name": "LayoutModel",
      "_view_count": null,
      "_view_module": "@jupyter-widgets/base",
      "_view_module_version": "1.2.0",
      "_view_name": "LayoutView",
      "align_content": null,
      "align_items": null,
      "align_self": null,
      "border": null,
      "bottom": null,
      "display": null,
      "flex": null,
      "flex_flow": null,
      "grid_area": null,
      "grid_auto_columns": null,
      "grid_auto_flow": null,
      "grid_auto_rows": null,
      "grid_column": null,
      "grid_gap": null,
      "grid_row": null,
      "grid_template_areas": null,
      "grid_template_columns": null,
      "grid_template_rows": null,
      "height": null,
      "justify_content": null,
      "justify_items": null,
      "left": null,
      "margin": null,
      "max_height": null,
      "max_width": null,
      "min_height": null,
      "min_width": null,
      "object_fit": null,
      "object_position": null,
      "order": null,
      "overflow": null,
      "overflow_x": null,
      "overflow_y": null,
      "padding": null,
      "right": null,
      "top": null,
      "visibility": null,
      "width": null
     }
    },
    "d1fb0cc7bfe54d338ddf39cd43359f7b": {
     "model_module": "@jupyter-widgets/controls",
     "model_name": "HTMLModel",
     "state": {
      "_dom_classes": [],
      "_model_module": "@jupyter-widgets/controls",
      "_model_module_version": "1.5.0",
      "_model_name": "HTMLModel",
      "_view_count": null,
      "_view_module": "@jupyter-widgets/controls",
      "_view_module_version": "1.5.0",
      "_view_name": "HTMLView",
      "description": "",
      "description_tooltip": null,
      "layout": "IPY_MODEL_a2dd039f7b204dab8fc812e93c1b06f3",
      "placeholder": "​",
      "style": "IPY_MODEL_63db20f791474805a466596064a54972",
      "value": " 250/250 [00:30&lt;00:00,  8.13it/s]"
     }
    },
    "d60eb5aadb2f4dc68733414e3c1ba964": {
     "model_module": "@jupyter-widgets/base",
     "model_name": "LayoutModel",
     "state": {
      "_model_module": "@jupyter-widgets/base",
      "_model_module_version": "1.2.0",
      "_model_name": "LayoutModel",
      "_view_count": null,
      "_view_module": "@jupyter-widgets/base",
      "_view_module_version": "1.2.0",
      "_view_name": "LayoutView",
      "align_content": null,
      "align_items": null,
      "align_self": null,
      "border": null,
      "bottom": null,
      "display": null,
      "flex": null,
      "flex_flow": null,
      "grid_area": null,
      "grid_auto_columns": null,
      "grid_auto_flow": null,
      "grid_auto_rows": null,
      "grid_column": null,
      "grid_gap": null,
      "grid_row": null,
      "grid_template_areas": null,
      "grid_template_columns": null,
      "grid_template_rows": null,
      "height": null,
      "justify_content": null,
      "justify_items": null,
      "left": null,
      "margin": null,
      "max_height": null,
      "max_width": null,
      "min_height": null,
      "min_width": null,
      "object_fit": null,
      "object_position": null,
      "order": null,
      "overflow": null,
      "overflow_x": null,
      "overflow_y": null,
      "padding": null,
      "right": null,
      "top": null,
      "visibility": null,
      "width": null
     }
    },
    "d64f584e317647ad95d2dd65facb8af7": {
     "model_module": "@jupyter-widgets/controls",
     "model_name": "ProgressStyleModel",
     "state": {
      "_model_module": "@jupyter-widgets/controls",
      "_model_module_version": "1.5.0",
      "_model_name": "ProgressStyleModel",
      "_view_count": null,
      "_view_module": "@jupyter-widgets/base",
      "_view_module_version": "1.2.0",
      "_view_name": "StyleView",
      "bar_color": null,
      "description_width": "initial"
     }
    },
    "d92c1b23cbe240e7adad58d7d71064be": {
     "model_module": "@jupyter-widgets/base",
     "model_name": "LayoutModel",
     "state": {
      "_model_module": "@jupyter-widgets/base",
      "_model_module_version": "1.2.0",
      "_model_name": "LayoutModel",
      "_view_count": null,
      "_view_module": "@jupyter-widgets/base",
      "_view_module_version": "1.2.0",
      "_view_name": "LayoutView",
      "align_content": null,
      "align_items": null,
      "align_self": null,
      "border": null,
      "bottom": null,
      "display": null,
      "flex": null,
      "flex_flow": null,
      "grid_area": null,
      "grid_auto_columns": null,
      "grid_auto_flow": null,
      "grid_auto_rows": null,
      "grid_column": null,
      "grid_gap": null,
      "grid_row": null,
      "grid_template_areas": null,
      "grid_template_columns": null,
      "grid_template_rows": null,
      "height": null,
      "justify_content": null,
      "justify_items": null,
      "left": null,
      "margin": null,
      "max_height": null,
      "max_width": null,
      "min_height": null,
      "min_width": null,
      "object_fit": null,
      "object_position": null,
      "order": null,
      "overflow": null,
      "overflow_x": null,
      "overflow_y": null,
      "padding": null,
      "right": null,
      "top": null,
      "visibility": null,
      "width": null
     }
    },
    "dbd59a2190384e4e86a37176e4403c52": {
     "model_module": "@jupyter-widgets/controls",
     "model_name": "DescriptionStyleModel",
     "state": {
      "_model_module": "@jupyter-widgets/controls",
      "_model_module_version": "1.5.0",
      "_model_name": "DescriptionStyleModel",
      "_view_count": null,
      "_view_module": "@jupyter-widgets/base",
      "_view_module_version": "1.2.0",
      "_view_name": "StyleView",
      "description_width": ""
     }
    },
    "dd05922591af4acaa50eb6665a060f32": {
     "model_module": "@jupyter-widgets/controls",
     "model_name": "DescriptionStyleModel",
     "state": {
      "_model_module": "@jupyter-widgets/controls",
      "_model_module_version": "1.5.0",
      "_model_name": "DescriptionStyleModel",
      "_view_count": null,
      "_view_module": "@jupyter-widgets/base",
      "_view_module_version": "1.2.0",
      "_view_name": "StyleView",
      "description_width": ""
     }
    },
    "dd3d7502fc9e439c9a236ca258a9c761": {
     "model_module": "@jupyter-widgets/base",
     "model_name": "LayoutModel",
     "state": {
      "_model_module": "@jupyter-widgets/base",
      "_model_module_version": "1.2.0",
      "_model_name": "LayoutModel",
      "_view_count": null,
      "_view_module": "@jupyter-widgets/base",
      "_view_module_version": "1.2.0",
      "_view_name": "LayoutView",
      "align_content": null,
      "align_items": null,
      "align_self": null,
      "border": null,
      "bottom": null,
      "display": null,
      "flex": null,
      "flex_flow": null,
      "grid_area": null,
      "grid_auto_columns": null,
      "grid_auto_flow": null,
      "grid_auto_rows": null,
      "grid_column": null,
      "grid_gap": null,
      "grid_row": null,
      "grid_template_areas": null,
      "grid_template_columns": null,
      "grid_template_rows": null,
      "height": null,
      "justify_content": null,
      "justify_items": null,
      "left": null,
      "margin": null,
      "max_height": null,
      "max_width": null,
      "min_height": null,
      "min_width": null,
      "object_fit": null,
      "object_position": null,
      "order": null,
      "overflow": null,
      "overflow_x": null,
      "overflow_y": null,
      "padding": null,
      "right": null,
      "top": null,
      "visibility": null,
      "width": null
     }
    },
    "deeae08be5e6405fbb805b5a486071d5": {
     "model_module": "@jupyter-widgets/base",
     "model_name": "LayoutModel",
     "state": {
      "_model_module": "@jupyter-widgets/base",
      "_model_module_version": "1.2.0",
      "_model_name": "LayoutModel",
      "_view_count": null,
      "_view_module": "@jupyter-widgets/base",
      "_view_module_version": "1.2.0",
      "_view_name": "LayoutView",
      "align_content": null,
      "align_items": null,
      "align_self": null,
      "border": null,
      "bottom": null,
      "display": null,
      "flex": null,
      "flex_flow": null,
      "grid_area": null,
      "grid_auto_columns": null,
      "grid_auto_flow": null,
      "grid_auto_rows": null,
      "grid_column": null,
      "grid_gap": null,
      "grid_row": null,
      "grid_template_areas": null,
      "grid_template_columns": null,
      "grid_template_rows": null,
      "height": null,
      "justify_content": null,
      "justify_items": null,
      "left": null,
      "margin": null,
      "max_height": null,
      "max_width": null,
      "min_height": null,
      "min_width": null,
      "object_fit": null,
      "object_position": null,
      "order": null,
      "overflow": null,
      "overflow_x": null,
      "overflow_y": null,
      "padding": null,
      "right": null,
      "top": null,
      "visibility": null,
      "width": null
     }
    },
    "df507826749f4996911f6fb7455d222b": {
     "model_module": "@jupyter-widgets/controls",
     "model_name": "HTMLModel",
     "state": {
      "_dom_classes": [],
      "_model_module": "@jupyter-widgets/controls",
      "_model_module_version": "1.5.0",
      "_model_name": "HTMLModel",
      "_view_count": null,
      "_view_module": "@jupyter-widgets/controls",
      "_view_module_version": "1.5.0",
      "_view_name": "HTMLView",
      "description": "",
      "description_tooltip": null,
      "layout": "IPY_MODEL_dd3d7502fc9e439c9a236ca258a9c761",
      "placeholder": "​",
      "style": "IPY_MODEL_36f3bd3e82c44e58a1664ed4eb0a4ce3",
      "value": " 250/250 [00:40&lt;00:00,  6.14it/s]"
     }
    },
    "dfa776c83dca4d6aa511ae3bb06c04f0": {
     "model_module": "@jupyter-widgets/base",
     "model_name": "LayoutModel",
     "state": {
      "_model_module": "@jupyter-widgets/base",
      "_model_module_version": "1.2.0",
      "_model_name": "LayoutModel",
      "_view_count": null,
      "_view_module": "@jupyter-widgets/base",
      "_view_module_version": "1.2.0",
      "_view_name": "LayoutView",
      "align_content": null,
      "align_items": null,
      "align_self": null,
      "border": null,
      "bottom": null,
      "display": null,
      "flex": null,
      "flex_flow": null,
      "grid_area": null,
      "grid_auto_columns": null,
      "grid_auto_flow": null,
      "grid_auto_rows": null,
      "grid_column": null,
      "grid_gap": null,
      "grid_row": null,
      "grid_template_areas": null,
      "grid_template_columns": null,
      "grid_template_rows": null,
      "height": null,
      "justify_content": null,
      "justify_items": null,
      "left": null,
      "margin": null,
      "max_height": null,
      "max_width": null,
      "min_height": null,
      "min_width": null,
      "object_fit": null,
      "object_position": null,
      "order": null,
      "overflow": null,
      "overflow_x": null,
      "overflow_y": null,
      "padding": null,
      "right": null,
      "top": null,
      "visibility": null,
      "width": null
     }
    },
    "e119bc1fdb714327a179a8d2831705f4": {
     "model_module": "@jupyter-widgets/controls",
     "model_name": "DescriptionStyleModel",
     "state": {
      "_model_module": "@jupyter-widgets/controls",
      "_model_module_version": "1.5.0",
      "_model_name": "DescriptionStyleModel",
      "_view_count": null,
      "_view_module": "@jupyter-widgets/base",
      "_view_module_version": "1.2.0",
      "_view_name": "StyleView",
      "description_width": ""
     }
    },
    "e13c59394db0453ca730c52999aad54e": {
     "model_module": "@jupyter-widgets/controls",
     "model_name": "FloatProgressModel",
     "state": {
      "_dom_classes": [],
      "_model_module": "@jupyter-widgets/controls",
      "_model_module_version": "1.5.0",
      "_model_name": "FloatProgressModel",
      "_view_count": null,
      "_view_module": "@jupyter-widgets/controls",
      "_view_module_version": "1.5.0",
      "_view_name": "ProgressView",
      "bar_style": "success",
      "description": "Test Loss: 0.5298, Test Acc: 0.7397: 100%",
      "description_tooltip": null,
      "layout": "IPY_MODEL_ab52cdd0bd2b45828ce0d8f010a86420",
      "max": 250,
      "min": 0,
      "orientation": "horizontal",
      "style": "IPY_MODEL_ab0927b6115f4e9c8b04018e7310a552",
      "value": 250
     }
    },
    "e344d332366d4b7f9ebf3cc6f779a155": {
     "model_module": "@jupyter-widgets/controls",
     "model_name": "ProgressStyleModel",
     "state": {
      "_model_module": "@jupyter-widgets/controls",
      "_model_module_version": "1.5.0",
      "_model_name": "ProgressStyleModel",
      "_view_count": null,
      "_view_module": "@jupyter-widgets/base",
      "_view_module_version": "1.2.0",
      "_view_name": "StyleView",
      "bar_color": null,
      "description_width": "initial"
     }
    },
    "e3d6ddabc07142dfba5a98243c248165": {
     "model_module": "@jupyter-widgets/base",
     "model_name": "LayoutModel",
     "state": {
      "_model_module": "@jupyter-widgets/base",
      "_model_module_version": "1.2.0",
      "_model_name": "LayoutModel",
      "_view_count": null,
      "_view_module": "@jupyter-widgets/base",
      "_view_module_version": "1.2.0",
      "_view_name": "LayoutView",
      "align_content": null,
      "align_items": null,
      "align_self": null,
      "border": null,
      "bottom": null,
      "display": null,
      "flex": null,
      "flex_flow": null,
      "grid_area": null,
      "grid_auto_columns": null,
      "grid_auto_flow": null,
      "grid_auto_rows": null,
      "grid_column": null,
      "grid_gap": null,
      "grid_row": null,
      "grid_template_areas": null,
      "grid_template_columns": null,
      "grid_template_rows": null,
      "height": null,
      "justify_content": null,
      "justify_items": null,
      "left": null,
      "margin": null,
      "max_height": null,
      "max_width": null,
      "min_height": null,
      "min_width": null,
      "object_fit": null,
      "object_position": null,
      "order": null,
      "overflow": null,
      "overflow_x": null,
      "overflow_y": null,
      "padding": null,
      "right": null,
      "top": null,
      "visibility": null,
      "width": null
     }
    },
    "e474ffeba70f42b2b0cab83d58b6d15a": {
     "model_module": "@jupyter-widgets/controls",
     "model_name": "FloatProgressModel",
     "state": {
      "_dom_classes": [],
      "_model_module": "@jupyter-widgets/controls",
      "_model_module_version": "1.5.0",
      "_model_name": "FloatProgressModel",
      "_view_count": null,
      "_view_module": "@jupyter-widgets/controls",
      "_view_module_version": "1.5.0",
      "_view_name": "ProgressView",
      "bar_style": "success",
      "description": "Test Loss: 0.5527, Test Acc: 0.7227: 100%",
      "description_tooltip": null,
      "layout": "IPY_MODEL_fd77ad0eb04748288a864b26a1dc775e",
      "max": 313,
      "min": 0,
      "orientation": "horizontal",
      "style": "IPY_MODEL_d64f584e317647ad95d2dd65facb8af7",
      "value": 313
     }
    },
    "e6bbef79aba44dfda4c0ffe1022abf4a": {
     "model_module": "@jupyter-widgets/base",
     "model_name": "LayoutModel",
     "state": {
      "_model_module": "@jupyter-widgets/base",
      "_model_module_version": "1.2.0",
      "_model_name": "LayoutModel",
      "_view_count": null,
      "_view_module": "@jupyter-widgets/base",
      "_view_module_version": "1.2.0",
      "_view_name": "LayoutView",
      "align_content": null,
      "align_items": null,
      "align_self": null,
      "border": null,
      "bottom": null,
      "display": null,
      "flex": null,
      "flex_flow": null,
      "grid_area": null,
      "grid_auto_columns": null,
      "grid_auto_flow": null,
      "grid_auto_rows": null,
      "grid_column": null,
      "grid_gap": null,
      "grid_row": null,
      "grid_template_areas": null,
      "grid_template_columns": null,
      "grid_template_rows": null,
      "height": null,
      "justify_content": null,
      "justify_items": null,
      "left": null,
      "margin": null,
      "max_height": null,
      "max_width": null,
      "min_height": null,
      "min_width": null,
      "object_fit": null,
      "object_position": null,
      "order": null,
      "overflow": null,
      "overflow_x": null,
      "overflow_y": null,
      "padding": null,
      "right": null,
      "top": null,
      "visibility": null,
      "width": null
     }
    },
    "e819c1db74da44eaa7ab3f1fd879c290": {
     "model_module": "@jupyter-widgets/controls",
     "model_name": "ProgressStyleModel",
     "state": {
      "_model_module": "@jupyter-widgets/controls",
      "_model_module_version": "1.5.0",
      "_model_name": "ProgressStyleModel",
      "_view_count": null,
      "_view_module": "@jupyter-widgets/base",
      "_view_module_version": "1.2.0",
      "_view_name": "StyleView",
      "bar_color": null,
      "description_width": "initial"
     }
    },
    "e98f213d8ab94e748a8820eed42c8a8a": {
     "model_module": "@jupyter-widgets/base",
     "model_name": "LayoutModel",
     "state": {
      "_model_module": "@jupyter-widgets/base",
      "_model_module_version": "1.2.0",
      "_model_name": "LayoutModel",
      "_view_count": null,
      "_view_module": "@jupyter-widgets/base",
      "_view_module_version": "1.2.0",
      "_view_name": "LayoutView",
      "align_content": null,
      "align_items": null,
      "align_self": null,
      "border": null,
      "bottom": null,
      "display": null,
      "flex": null,
      "flex_flow": null,
      "grid_area": null,
      "grid_auto_columns": null,
      "grid_auto_flow": null,
      "grid_auto_rows": null,
      "grid_column": null,
      "grid_gap": null,
      "grid_row": null,
      "grid_template_areas": null,
      "grid_template_columns": null,
      "grid_template_rows": null,
      "height": null,
      "justify_content": null,
      "justify_items": null,
      "left": null,
      "margin": null,
      "max_height": null,
      "max_width": null,
      "min_height": null,
      "min_width": null,
      "object_fit": null,
      "object_position": null,
      "order": null,
      "overflow": null,
      "overflow_x": null,
      "overflow_y": null,
      "padding": null,
      "right": null,
      "top": null,
      "visibility": null,
      "width": null
     }
    },
    "ea3b6da790704745b7ce039a8406d0f9": {
     "model_module": "@jupyter-widgets/controls",
     "model_name": "FloatProgressModel",
     "state": {
      "_dom_classes": [],
      "_model_module": "@jupyter-widgets/controls",
      "_model_module_version": "1.5.0",
      "_model_name": "FloatProgressModel",
      "_view_count": null,
      "_view_module": "@jupyter-widgets/controls",
      "_view_module_version": "1.5.0",
      "_view_name": "ProgressView",
      "bar_style": "success",
      "description": "Epoch 2. Train Loss: 0.5536: 100%",
      "description_tooltip": null,
      "layout": "IPY_MODEL_b6ce03593d9c44f4bf037090050170c5",
      "max": 1000,
      "min": 0,
      "orientation": "horizontal",
      "style": "IPY_MODEL_2cd5a6c9ecfc4fba938372a3c537500a",
      "value": 1000
     }
    },
    "ed6df54b6dc74508b9614818d688c542": {
     "model_module": "@jupyter-widgets/controls",
     "model_name": "HTMLModel",
     "state": {
      "_dom_classes": [],
      "_model_module": "@jupyter-widgets/controls",
      "_model_module_version": "1.5.0",
      "_model_name": "HTMLModel",
      "_view_count": null,
      "_view_module": "@jupyter-widgets/controls",
      "_view_module_version": "1.5.0",
      "_view_name": "HTMLView",
      "description": "",
      "description_tooltip": null,
      "layout": "IPY_MODEL_5274a7220e7d4e8d995d8976a5b0b2e9",
      "placeholder": "​",
      "style": "IPY_MODEL_717301ef909c452abb019fabe2a90835",
      "value": " 1000/1000 [08:48&lt;00:00,  1.89it/s]"
     }
    },
    "ee5eb94c835b4fb4be99d18f732a1c24": {
     "model_module": "@jupyter-widgets/controls",
     "model_name": "ProgressStyleModel",
     "state": {
      "_model_module": "@jupyter-widgets/controls",
      "_model_module_version": "1.5.0",
      "_model_name": "ProgressStyleModel",
      "_view_count": null,
      "_view_module": "@jupyter-widgets/base",
      "_view_module_version": "1.2.0",
      "_view_name": "StyleView",
      "bar_color": null,
      "description_width": "initial"
     }
    },
    "f29339cc39824d73931b6dfdb5210a15": {
     "model_module": "@jupyter-widgets/controls",
     "model_name": "FloatProgressModel",
     "state": {
      "_dom_classes": [],
      "_model_module": "@jupyter-widgets/controls",
      "_model_module_version": "1.5.0",
      "_model_name": "FloatProgressModel",
      "_view_count": null,
      "_view_module": "@jupyter-widgets/controls",
      "_view_module_version": "1.5.0",
      "_view_name": "ProgressView",
      "bar_style": "success",
      "description": "Epoch 1. Train Loss: 0.5141: 100%",
      "description_tooltip": null,
      "layout": "IPY_MODEL_a5968d9d3cc945eea8b2d55585cc357a",
      "max": 1000,
      "min": 0,
      "orientation": "horizontal",
      "style": "IPY_MODEL_f538015cfc7a431f9cd37321d8277f0e",
      "value": 1000
     }
    },
    "f458177b9d00478f90691e6f7240ddf0": {
     "model_module": "@jupyter-widgets/base",
     "model_name": "LayoutModel",
     "state": {
      "_model_module": "@jupyter-widgets/base",
      "_model_module_version": "1.2.0",
      "_model_name": "LayoutModel",
      "_view_count": null,
      "_view_module": "@jupyter-widgets/base",
      "_view_module_version": "1.2.0",
      "_view_name": "LayoutView",
      "align_content": null,
      "align_items": null,
      "align_self": null,
      "border": null,
      "bottom": null,
      "display": null,
      "flex": null,
      "flex_flow": null,
      "grid_area": null,
      "grid_auto_columns": null,
      "grid_auto_flow": null,
      "grid_auto_rows": null,
      "grid_column": null,
      "grid_gap": null,
      "grid_row": null,
      "grid_template_areas": null,
      "grid_template_columns": null,
      "grid_template_rows": null,
      "height": null,
      "justify_content": null,
      "justify_items": null,
      "left": null,
      "margin": null,
      "max_height": null,
      "max_width": null,
      "min_height": null,
      "min_width": null,
      "object_fit": null,
      "object_position": null,
      "order": null,
      "overflow": null,
      "overflow_x": null,
      "overflow_y": null,
      "padding": null,
      "right": null,
      "top": null,
      "visibility": null,
      "width": null
     }
    },
    "f538015cfc7a431f9cd37321d8277f0e": {
     "model_module": "@jupyter-widgets/controls",
     "model_name": "ProgressStyleModel",
     "state": {
      "_model_module": "@jupyter-widgets/controls",
      "_model_module_version": "1.5.0",
      "_model_name": "ProgressStyleModel",
      "_view_count": null,
      "_view_module": "@jupyter-widgets/base",
      "_view_module_version": "1.2.0",
      "_view_name": "StyleView",
      "bar_color": null,
      "description_width": "initial"
     }
    },
    "f624a6572a2d42b7ae19a0345fd2b6fc": {
     "model_module": "@jupyter-widgets/controls",
     "model_name": "HBoxModel",
     "state": {
      "_dom_classes": [],
      "_model_module": "@jupyter-widgets/controls",
      "_model_module_version": "1.5.0",
      "_model_name": "HBoxModel",
      "_view_count": null,
      "_view_module": "@jupyter-widgets/controls",
      "_view_module_version": "1.5.0",
      "_view_name": "HBoxView",
      "box_style": "",
      "children": [
       "IPY_MODEL_a585367d31ea48499b046f78ae44ebd8",
       "IPY_MODEL_34248cf7d444400b908f1fccc2ebb3fd"
      ],
      "layout": "IPY_MODEL_c3b89564a03f412886005ac9901a0ee8"
     }
    },
    "f67c8fc93f954a9fba63789439301421": {
     "model_module": "@jupyter-widgets/base",
     "model_name": "LayoutModel",
     "state": {
      "_model_module": "@jupyter-widgets/base",
      "_model_module_version": "1.2.0",
      "_model_name": "LayoutModel",
      "_view_count": null,
      "_view_module": "@jupyter-widgets/base",
      "_view_module_version": "1.2.0",
      "_view_name": "LayoutView",
      "align_content": null,
      "align_items": null,
      "align_self": null,
      "border": null,
      "bottom": null,
      "display": null,
      "flex": null,
      "flex_flow": null,
      "grid_area": null,
      "grid_auto_columns": null,
      "grid_auto_flow": null,
      "grid_auto_rows": null,
      "grid_column": null,
      "grid_gap": null,
      "grid_row": null,
      "grid_template_areas": null,
      "grid_template_columns": null,
      "grid_template_rows": null,
      "height": null,
      "justify_content": null,
      "justify_items": null,
      "left": null,
      "margin": null,
      "max_height": null,
      "max_width": null,
      "min_height": null,
      "min_width": null,
      "object_fit": null,
      "object_position": null,
      "order": null,
      "overflow": null,
      "overflow_x": null,
      "overflow_y": null,
      "padding": null,
      "right": null,
      "top": null,
      "visibility": null,
      "width": null
     }
    },
    "f6f20e11e38040a89c268f05ae57cbc5": {
     "model_module": "@jupyter-widgets/controls",
     "model_name": "FloatProgressModel",
     "state": {
      "_dom_classes": [],
      "_model_module": "@jupyter-widgets/controls",
      "_model_module_version": "1.5.0",
      "_model_name": "FloatProgressModel",
      "_view_count": null,
      "_view_module": "@jupyter-widgets/controls",
      "_view_module_version": "1.5.0",
      "_view_name": "ProgressView",
      "bar_style": "success",
      "description": "Test Loss: 0.5063, Test Acc: 0.7568: 100%",
      "description_tooltip": null,
      "layout": "IPY_MODEL_deeae08be5e6405fbb805b5a486071d5",
      "max": 250,
      "min": 0,
      "orientation": "horizontal",
      "style": "IPY_MODEL_731e259f604a48e1aa6a793f5d5e86f6",
      "value": 250
     }
    },
    "f9ea90437981402380fb3122154bccc4": {
     "model_module": "@jupyter-widgets/base",
     "model_name": "LayoutModel",
     "state": {
      "_model_module": "@jupyter-widgets/base",
      "_model_module_version": "1.2.0",
      "_model_name": "LayoutModel",
      "_view_count": null,
      "_view_module": "@jupyter-widgets/base",
      "_view_module_version": "1.2.0",
      "_view_name": "LayoutView",
      "align_content": null,
      "align_items": null,
      "align_self": null,
      "border": null,
      "bottom": null,
      "display": null,
      "flex": null,
      "flex_flow": null,
      "grid_area": null,
      "grid_auto_columns": null,
      "grid_auto_flow": null,
      "grid_auto_rows": null,
      "grid_column": null,
      "grid_gap": null,
      "grid_row": null,
      "grid_template_areas": null,
      "grid_template_columns": null,
      "grid_template_rows": null,
      "height": null,
      "justify_content": null,
      "justify_items": null,
      "left": null,
      "margin": null,
      "max_height": null,
      "max_width": null,
      "min_height": null,
      "min_width": null,
      "object_fit": null,
      "object_position": null,
      "order": null,
      "overflow": null,
      "overflow_x": null,
      "overflow_y": null,
      "padding": null,
      "right": null,
      "top": null,
      "visibility": null,
      "width": null
     }
    },
    "fa69f185bf7b46079ae9314f05995866": {
     "model_module": "@jupyter-widgets/base",
     "model_name": "LayoutModel",
     "state": {
      "_model_module": "@jupyter-widgets/base",
      "_model_module_version": "1.2.0",
      "_model_name": "LayoutModel",
      "_view_count": null,
      "_view_module": "@jupyter-widgets/base",
      "_view_module_version": "1.2.0",
      "_view_name": "LayoutView",
      "align_content": null,
      "align_items": null,
      "align_self": null,
      "border": null,
      "bottom": null,
      "display": null,
      "flex": null,
      "flex_flow": null,
      "grid_area": null,
      "grid_auto_columns": null,
      "grid_auto_flow": null,
      "grid_auto_rows": null,
      "grid_column": null,
      "grid_gap": null,
      "grid_row": null,
      "grid_template_areas": null,
      "grid_template_columns": null,
      "grid_template_rows": null,
      "height": null,
      "justify_content": null,
      "justify_items": null,
      "left": null,
      "margin": null,
      "max_height": null,
      "max_width": null,
      "min_height": null,
      "min_width": null,
      "object_fit": null,
      "object_position": null,
      "order": null,
      "overflow": null,
      "overflow_x": null,
      "overflow_y": null,
      "padding": null,
      "right": null,
      "top": null,
      "visibility": null,
      "width": null
     }
    },
    "fd77ad0eb04748288a864b26a1dc775e": {
     "model_module": "@jupyter-widgets/base",
     "model_name": "LayoutModel",
     "state": {
      "_model_module": "@jupyter-widgets/base",
      "_model_module_version": "1.2.0",
      "_model_name": "LayoutModel",
      "_view_count": null,
      "_view_module": "@jupyter-widgets/base",
      "_view_module_version": "1.2.0",
      "_view_name": "LayoutView",
      "align_content": null,
      "align_items": null,
      "align_self": null,
      "border": null,
      "bottom": null,
      "display": null,
      "flex": null,
      "flex_flow": null,
      "grid_area": null,
      "grid_auto_columns": null,
      "grid_auto_flow": null,
      "grid_auto_rows": null,
      "grid_column": null,
      "grid_gap": null,
      "grid_row": null,
      "grid_template_areas": null,
      "grid_template_columns": null,
      "grid_template_rows": null,
      "height": null,
      "justify_content": null,
      "justify_items": null,
      "left": null,
      "margin": null,
      "max_height": null,
      "max_width": null,
      "min_height": null,
      "min_width": null,
      "object_fit": null,
      "object_position": null,
      "order": null,
      "overflow": null,
      "overflow_x": null,
      "overflow_y": null,
      "padding": null,
      "right": null,
      "top": null,
      "visibility": null,
      "width": null
     }
    },
    "fe0f6fb2c3d74446843dd0c27aa75f61": {
     "model_module": "@jupyter-widgets/controls",
     "model_name": "HBoxModel",
     "state": {
      "_dom_classes": [],
      "_model_module": "@jupyter-widgets/controls",
      "_model_module_version": "1.5.0",
      "_model_name": "HBoxModel",
      "_view_count": null,
      "_view_module": "@jupyter-widgets/controls",
      "_view_module_version": "1.5.0",
      "_view_name": "HBoxView",
      "box_style": "",
      "children": [
       "IPY_MODEL_65d3ac41a3d44192809c12aa8e7e9b92",
       "IPY_MODEL_1493c52a8e574c7fa5d8ccdca844d532"
      ],
      "layout": "IPY_MODEL_656c354da7c64097844379ef32ea2391"
     }
    },
    "ff06c95ea66745e1b00aa42d3374d961": {
     "model_module": "@jupyter-widgets/controls",
     "model_name": "HBoxModel",
     "state": {
      "_dom_classes": [],
      "_model_module": "@jupyter-widgets/controls",
      "_model_module_version": "1.5.0",
      "_model_name": "HBoxModel",
      "_view_count": null,
      "_view_module": "@jupyter-widgets/controls",
      "_view_module_version": "1.5.0",
      "_view_name": "HBoxView",
      "box_style": "",
      "children": [
       "IPY_MODEL_2197f7482d3b4c13906896630cbabf36",
       "IPY_MODEL_2c6d125fb50847caa8cf2d62e8f99ee8"
      ],
      "layout": "IPY_MODEL_0c94957716aa4a13b9c7c0438ea05190"
     }
    }
   }
  }
 },
 "nbformat": 4,
 "nbformat_minor": 1
}
